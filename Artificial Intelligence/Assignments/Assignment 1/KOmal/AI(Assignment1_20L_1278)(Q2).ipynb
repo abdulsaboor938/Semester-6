{
  "cells": [
    {
      "cell_type": "code",
      "execution_count": 1,
      "metadata": {
        "colab": {
          "base_uri": "https://localhost:8080/"
        },
        "id": "qiCbfmsifBpx",
        "outputId": "5bcaa886-0e28-4a80-d3f8-26ce29e2c385"
      },
      "outputs": [
        {
          "name": "stdout",
          "output_type": "stream",
          "text": [
            "[(0, 0), (0, 1), (0, 2), (0, 3), (0, 4), (1, 4), (2, 4), (3, 4), (4, 4), (5, 4), (6, 4), (6, 5), (6, 6), (6, 7), (6, 8), (7, 8), (8, 8), (9, 8), (9, 9)]\n"
          ]
        }
      ],
      "source": [
        "import heapq\n",
        "\n",
        "# define directions\n",
        "directions = [(0, 1), (1, 0), (0, -1), (-1, 0)]\n",
        "\n",
        "# define heuristic function\n",
        "def heuristic(a, b):\n",
        "    return abs(a[0] - b[0]) + abs(a[1] - b[1])\n",
        "\n",
        "# define function to read maze from file\n",
        "def read_maze(file_path):\n",
        "    with open(file_path, 'r') as f:\n",
        "        maze = [[int(num) for num in line.strip()] for line in f.readlines()]\n",
        "    return maze\n",
        "\n",
        "# define function to get neighbors of a cell\n",
        "def get_neighbors(maze, node):\n",
        "    neighbors = []\n",
        "    for direction in directions:\n",
        "        neighbor = (node[0] + direction[0], node[1] + direction[1])\n",
        "        if 0 <= neighbor[0] < len(maze) and 0 <= neighbor[1] < len(maze[0]):\n",
        "            if maze[neighbor[0]][neighbor[1]] != 1: # check for high walls\n",
        "                neighbors.append(neighbor)\n",
        "            elif maze[node[0]][node[1]] == 2: # check for short walls\n",
        "                if direction in [(0, 1), (1, 0), (0, -1), (-1, 0)]:\n",
        "                    next_neighbor = (neighbor[0] + direction[0], neighbor[1] + direction[1])\n",
        "                    if 0 <= next_neighbor[0] < len(maze) and 0 <= next_neighbor[1] < len(maze[0]):\n",
        "                        if maze[next_neighbor[0]][next_neighbor[1]] != 1:\n",
        "                            neighbors.append(next_neighbor)\n",
        "    return neighbors\n",
        "\n",
        "# define A* search function\n",
        "def astar_search(maze, start, goal):\n",
        "    frontier = []\n",
        "    heapq.heappush(frontier, (0, start))\n",
        "    came_from = {}\n",
        "    cost_so_far = {}\n",
        "    came_from[start] = None\n",
        "    cost_so_far[start] = 0\n",
        "\n",
        "    while frontier:\n",
        "        current = heapq.heappop(frontier)[1]\n",
        "\n",
        "        if current == goal:\n",
        "            break\n",
        "\n",
        "        for next_node in get_neighbors(maze, current):\n",
        "            new_cost = cost_so_far[current] + 1\n",
        "            if next_node not in cost_so_far or new_cost < cost_so_far[next_node]:\n",
        "                cost_so_far[next_node] = new_cost\n",
        "                priority = new_cost + heuristic(goal, next_node)\n",
        "                heapq.heappush(frontier, (priority, next_node))\n",
        "                came_from[next_node] = current\n",
        "\n",
        "    # reconstruct path\n",
        "    path = []\n",
        "    current = goal\n",
        "    while current != start:\n",
        "        path.append(current)\n",
        "        current = came_from[current]\n",
        "    path.append(start)\n",
        "    path.reverse()\n",
        "\n",
        "    return path\n",
        "\n",
        "# read maze from file\n",
        "maze = read_maze('maze3.txt')\n",
        "\n",
        "for i in range(len(maze)):\n",
        "    for j in range(len(maze[0])):\n",
        "        if maze[i][j] == 3:\n",
        "            start = (i, j)\n",
        "        elif maze[i][j] == 4:\n",
        "            goal = (i, j)\n",
        "\n",
        "# run A* search\n",
        "path = astar_search(maze, start, goal)\n",
        "\n",
        "# print path\n",
        "print(path)"
      ]
    },
    {
      "cell_type": "code",
      "execution_count": 2,
      "metadata": {},
      "outputs": [
        {
          "name": "stdout",
          "output_type": "stream",
          "text": [
            "pygame 2.2.0 (SDL 2.0.22, Python 3.10.8)\n",
            "Hello from the pygame community. https://www.pygame.org/contribute.html\n"
          ]
        }
      ],
      "source": [
        "import time\n",
        "def draw_maze(maze, path):\n",
        "    import pygame\n",
        "    pygame.init()\n",
        "    width = 150\n",
        "    height = 100\n",
        "    margin = 5\n",
        "    screen = pygame.display.set_mode([(width+margin)*len(maze[0])+margin, (height+margin)*len(maze)+margin])\n",
        "    pygame.display.set_caption(\"Maze\")\n",
        "    done = False\n",
        "    clock = pygame.time.Clock()\n",
        "    while not done:\n",
        "        for event in pygame.event.get():\n",
        "            if event.type == pygame.QUIT:\n",
        "                done = True\n",
        "        screen.fill((0,0,0))\n",
        "        for i in range(len(maze)):\n",
        "            for j in range(len(maze[0])):\n",
        "                if maze[i][j] == 1:\n",
        "                    pygame.draw.rect(screen, (255,255,255), [(margin+width)*j+margin, (margin+height)*i+margin, width, height])\n",
        "        for i in range(len(path)):\n",
        "            if i == 0:\n",
        "                pygame.draw.rect(screen, (0,255,0), [(margin+width)*path[i][1]+margin, (margin+height)*path[i][0]+margin, width, height])\n",
        "            elif i == len(path)-1:\n",
        "                pygame.draw.rect(screen, (255,0,0), [(margin+width)*path[i][1]+margin, (margin+height)*path[i][0]+margin, width, height])\n",
        "            else:\n",
        "                pygame.draw.rect(screen, (0,0,255), [(margin+width)*path[i][1]+margin, (margin+height)*path[i][0]+margin, width, height])\n",
        "        # clock.tick(1)\n",
        "        # time.sleep(5)\n",
        "        pygame.display.flip()\n",
        "    pygame.quit()\n",
        "\n",
        "draw_maze(maze,path)"
      ]
    }
  ],
  "metadata": {
    "colab": {
      "provenance": []
    },
    "kernelspec": {
      "display_name": "Python 3",
      "name": "python3"
    },
    "language_info": {
      "codemirror_mode": {
        "name": "ipython",
        "version": 3
      },
      "file_extension": ".py",
      "mimetype": "text/x-python",
      "name": "python",
      "nbconvert_exporter": "python",
      "pygments_lexer": "ipython3",
      "version": "3.10.8"
    }
  },
  "nbformat": 4,
  "nbformat_minor": 0
}
