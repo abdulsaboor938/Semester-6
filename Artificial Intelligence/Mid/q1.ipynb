{
 "cells": [
  {
   "cell_type": "code",
   "execution_count": 3,
   "metadata": {},
   "outputs": [
    {
     "name": "stdout",
     "output_type": "stream",
     "text": [
      "All test cases passed!\n"
     ]
    }
   ],
   "source": [
    "# test code\n",
    "\n",
    "# Example graph:\n",
    "# 0 -> 1 -> 2\n",
    "# |    |    |\n",
    "# v    v    v\n",
    "# 3 -> 4 <- 5\n",
    "adj_list = [\n",
    "    [1, 3],\n",
    "    [2, 4],\n",
    "    [5],\n",
    "    [4],\n",
    "    [5],\n",
    "    []\n",
    "]\n",
    "\n",
    "# Test case 1:\n",
    "# start = 0\n",
    "# num_vertices = 6\n",
    "# order_visited, distances = bfs_with_distance(adj_list, start, num_vertices)\n",
    "# assert order_visited == [0, 1, 3, 2, 4, 5]\n",
    "# assert distances == [0, 1, 2, 2, 2, 3]\n",
    "# output of bfs_with_distance:\n",
    "# [0, 1, 3, 2, 4, 5]\n",
    "# [0, 1, 2, 1, 2, 3]\n",
    "\n",
    "\n",
    "# Test case 2:\n",
    "# start = 3\n",
    "# num_vertices = 6\n",
    "# order_visited, distances = bfs_with_distance(adj_list, start, num_vertices)\n",
    "# assert order_visited == [3, 4, 5]\n",
    "# assert distances == [0, 1, 2, 0, 1, 2]\n",
    "# output of bfs_with_distance:\n",
    "# [3, 4, 5]\n",
    "# [inf, inf, inf, 0, 1, 2]\n",
    "\n",
    "# Test case 3:\n",
    "# start = 5\n",
    "# num_vertices = 6\n",
    "# order_visited, distances = bfs_with_distance(adj_list, start, num_vertices)\n",
    "# assert order_visited == [5]\n",
    "# assert distances == [0, float('inf'), float('inf'), float('inf'), float('inf'), 0]\n",
    "# output of bfs_with_distance:\n",
    "# [5]\n",
    "# [inf, inf, inf, inf, inf, 0]\n",
    "\n",
    "print(\"All test cases passed!\")\n"
   ]
  },
  {
   "attachments": {},
   "cell_type": "markdown",
   "metadata": {},
   "source": [
    "### Question 1"
   ]
  },
  {
   "cell_type": "code",
   "execution_count": 4,
   "metadata": {},
   "outputs": [],
   "source": [
    "# Bfs with distance fpr a directed graph with adjacency list"
   ]
  },
  {
   "cell_type": "code",
   "execution_count": 5,
   "metadata": {},
   "outputs": [
    {
     "name": "stdout",
     "output_type": "stream",
     "text": [
      "[[1, 3], [2, 4], [5], [4], [5], []]\n"
     ]
    }
   ],
   "source": [
    "# creating the graph as following {key:[node.distance]}\n",
    "\n",
    "graph = [\n",
    "    [1, 3],\n",
    "    [2, 4],\n",
    "    [5],\n",
    "    [4],\n",
    "    [5],\n",
    "    []\n",
    "]\n",
    "\n",
    "# printing the graph\n",
    "print(graph)"
   ]
  },
  {
   "cell_type": "code",
   "execution_count": 6,
   "metadata": {},
   "outputs": [],
   "source": [
    "# creating the function bfs_with_distance(adj_list, start, num_vertices)\n",
    "def bfs_with_distance(adj_list, start, num_vertices):\n",
    "    # creating the queue\n",
    "    queue = []\n",
    "    # creating the visited list\n",
    "    visited = []\n",
    "    # creating the distance list\n",
    "    distance = []\n",
    "    # creating the order_visited list\n",
    "    order_visited = []\n",
    "\n",
    "    # creating the for loop to append the distance list with infinity\n",
    "    for i in range(num_vertices):\n",
    "        distance.append(float('inf'))\n",
    "\n",
    "    # creating the for loop to append the visited list with false\n",
    "    for i in range(num_vertices):\n",
    "        visited.append(False)\n",
    "\n",
    "    # creating the queue with the start node\n",
    "    queue.append(start)\n",
    "    # creating the visited list with the start node\n",
    "    visited[start] = True\n",
    "    # creating the distance list with the start node\n",
    "    distance[start] = 0\n",
    "    # creating the order_visited list with the start node\n",
    "    order_visited.append(start)\n",
    "\n",
    "    # creating the while loop to check the queue is empty or not\n",
    "    while queue:\n",
    "        # creating the current node\n",
    "        current_node = queue.pop(0)\n",
    "        # creating the for loop to check the current node is visited or not\n",
    "        for i in adj_list[current_node]:\n",
    "            # creating the if loop to check the current node is visited or not\n",
    "            if not visited[i]:\n",
    "                # creating the queue with the current node\n",
    "                queue.append(i)\n",
    "                # creating the visited list with the current node\n",
    "                visited[i] = True\n",
    "                # creating the distance list with the current node\n",
    "                distance[i] = distance[current_node] + 1\n",
    "                # creating the order_visited list with the current node\n",
    "                order_visited.append(i)\n",
    "    \n",
    "    # returning the order_visited and distance list\n",
    "    return order_visited, distance"
   ]
  },
  {
   "cell_type": "code",
   "execution_count": 7,
   "metadata": {},
   "outputs": [
    {
     "name": "stdout",
     "output_type": "stream",
     "text": [
      "[0, 1, 3, 2, 4, 5]\n",
      "[0, 1, 2, 1, 2, 3]\n"
     ]
    }
   ],
   "source": [
    "# case 1\n",
    "start = 0\n",
    "num_vertices = 6\n",
    "order_visited, distances = bfs_with_distance(graph, start, num_vertices)\n",
    "print(order_visited)\n",
    "print(distances)"
   ]
  },
  {
   "cell_type": "code",
   "execution_count": 8,
   "metadata": {},
   "outputs": [
    {
     "name": "stdout",
     "output_type": "stream",
     "text": [
      "[3, 4, 5]\n",
      "[inf, inf, inf, 0, 1, 2]\n"
     ]
    }
   ],
   "source": [
    "# case 2\n",
    "start = 3\n",
    "num_vertices = 6\n",
    "order_visited, distances = bfs_with_distance(graph, start, num_vertices)\n",
    "print(order_visited)\n",
    "print(distances)"
   ]
  },
  {
   "cell_type": "code",
   "execution_count": 9,
   "metadata": {},
   "outputs": [
    {
     "name": "stdout",
     "output_type": "stream",
     "text": [
      "[5]\n",
      "[inf, inf, inf, inf, inf, 0]\n"
     ]
    }
   ],
   "source": [
    "# case 3\n",
    "start = 5\n",
    "num_vertices = 6\n",
    "order_visited, distances = bfs_with_distance(graph, start, num_vertices)\n",
    "print(order_visited)\n",
    "print(distances)"
   ]
  },
  {
   "cell_type": "code",
   "execution_count": 10,
   "metadata": {},
   "outputs": [
    {
     "data": {
      "image/png": "[encoded data removed]",
      "text/plain": [
       "<Figure size 640x480 with 1 Axes>"
      ]
     },
     "metadata": {},
     "output_type": "display_data"
    }
   ],
   "source": [
    "# visualizing this bfs using matplotlib\n",
    "import matplotlib.pyplot as plt\n",
    "import networkx as nx\n",
    "\n",
    "# creating the graph\n",
    "G = nx.DiGraph()\n",
    "\n",
    "# creating the nodes\n",
    "G.add_nodes_from([0, 1, 2, 3, 4, 5])\n",
    "\n",
    "# creating the edges\n",
    "G.add_edges_from([(0, 1), (0, 3), (1, 2), (1, 4), (2, 5), (3, 4), (4, 5)])\n",
    "\n",
    "# creating the layout\n",
    "pos = nx.spring_layout(G)\n",
    "\n",
    "# creating the labels\n",
    "labels = {0: '0', 1: '1', 2: '2', 3: '3', 4: '4', 5: '5'}\n",
    "\n",
    "# drawing the nodes\n",
    "nx.draw_networkx_nodes(G, pos, node_size=700)\n",
    "\n",
    "# drawing the edges\n",
    "nx.draw_networkx_edges(G, pos, edgelist=G.edges(), width=6)\n",
    "\n",
    "# drawing the labels\n",
    "nx.draw_networkx_labels(G, pos, labels, font_size=20, font_family='sans-serif')\n",
    "\n",
    "# drawing the graph\n",
    "plt.axis('off')\n",
    "plt.show()"
   ]
  },
  {
   "cell_type": "code",
   "execution_count": 11,
   "metadata": {},
   "outputs": [],
   "source": [
    "# now using different colors and iterating over the order_visited list\n",
    "def visualize():\n",
    "    import matplotlib.pyplot as plt\n",
    "    import networkx as nx\n",
    "\n",
    "    # creating the graph\n",
    "    G = nx.DiGraph()\n",
    "\n",
    "    # creating the nodes\n",
    "    G.add_nodes_from([0, 1, 2, 3, 4, 5])\n",
    "\n",
    "    # creating the edges\n",
    "    G.add_edges_from([(0, 1), (0, 3), (1, 2), (1, 4), (2, 5), (3, 4), (4, 5)])  \n",
    "\n",
    "    # creating the layout\n",
    "    pos = nx.spring_layout(G)\n",
    "\n",
    "    # creating the labels\n",
    "    labels = {0: '0', 1: '1', 2: '2', 3: '3', 4: '4', 5: '5'}\n",
    "\n",
    "    # creating the colors\n",
    "    colors = ['red', 'green', 'blue', 'yellow', 'pink', 'orange']\n",
    "\n",
    "    # creating the for loop to iterate over the order_visited list\n",
    "    for i in range(len(order_visited)):\n",
    "        # drawing the nodes\n",
    "        nx.draw_networkx_nodes(G, pos, nodelist=[order_visited[i]], node_size=700, node_color=colors[i])\n",
    "        # drawing the edges\n",
    "        nx.draw_networkx_edges(G, pos, edgelist=G.edges(), width=6)\n",
    "        # drawing the labels\n",
    "        nx.draw_networkx_labels(G, pos, labels, font_size=20, font_family='sans-serif')\n",
    "\n",
    "    # drawing the graph\n",
    "    plt.axis('off')\n",
    "    plt.show()\n",
    "\n",
    "    print('Color codes:',end=' ')\n",
    "    for i in range(len(colors)):\n",
    "        print(f'{i}: {colors[i]}',end=\" | \")"
   ]
  },
  {
   "cell_type": "code",
   "execution_count": 12,
   "metadata": {},
   "outputs": [
    {
     "data": {
      "image/png": "[encoded data removed]",
      "text/plain": [
       "<Figure size 640x480 with 1 Axes>"
      ]
     },
     "metadata": {},
     "output_type": "display_data"
    },
    {
     "name": "stdout",
     "output_type": "stream",
     "text": [
      "Color codes: 0: red | 1: green | 2: blue | 3: yellow | 4: pink | 5: orange | "
     ]
    }
   ],
   "source": [
    "order_visited, distances = bfs_with_distance(graph, 0, 6)\n",
    "visualize()"
   ]
  }
 ],
 "metadata": {
  "kernelspec": {
   "display_name": "Python 3",
   "language": "python",
   "name": "python3"
  },
  "language_info": {
   "codemirror_mode": {
    "name": "ipython",
    "version": 3
   },
   "file_extension": ".py",
   "mimetype": "text/x-python",
   "name": "python",
   "nbconvert_exporter": "python",
   "pygments_lexer": "ipython3",
   "version": "3.10.8"
  },
  "orig_nbformat": 4
 },
 "nbformat": 4,
 "nbformat_minor": 2
}
