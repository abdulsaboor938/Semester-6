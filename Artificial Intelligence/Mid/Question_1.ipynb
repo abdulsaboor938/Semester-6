{
  "cells": [
    {
      "attachments": {},
      "cell_type": "markdown",
      "metadata": {
        "id": "Xp4YsUTD_Mc7"
      },
      "source": [
        "**BFS**  (Test Code)"
      ]
    },
    {
      "cell_type": "markdown",
      "metadata": {
        "id": "-SG7jpiA_fqS"
      },
      "source": [
        "**Test Code for Your Function**"
      ]
    },
    {
      "cell_type": "code",
      "execution_count": null,
      "metadata": {
        "id": "fCv7bxna_lpl"
      },
      "outputs": [],
      "source": [
        "# Example graph:\n",
        "# 0 -> 1 -> 2\n",
        "# |    |    |\n",
        "# v    v    v\n",
        "# 3 -> 4 <- 5\n",
        "adj_list = [\n",
        "    [1, 3],\n",
        "    [2, 4],\n",
        "    [5],\n",
        "    [4],\n",
        "    [5],\n",
        "    []\n",
        "]\n",
        "\n",
        "# Test case 1:\n",
        "start = 0\n",
        "num_vertices = 6\n",
        "order_visited, distances = bfs_with_distance(adj_list, start, num_vertices)\n",
        "assert order_visited == [0, 1, 3, 2, 4, 5]\n",
        "assert distances == [0, 1, 1, 2, 2, 3]\n",
        "\n",
        "# Test case 2:\n",
        "start = 3\n",
        "num_vertices = 6\n",
        "order_visited, distances = bfs_with_distance(adj_list, start, num_vertices)\n",
        "assert order_visited == [3, 4, 5]\n",
        "assert distances == [0, 1, 2, 0, 1, 2]\n",
        "\n",
        "# Test case 3:\n",
        "start = 5\n",
        "num_vertices = 6\n",
        "order_visited, distances = bfs_with_distance(adj_list, start, num_vertices)\n",
        "assert order_visited == [5]\n",
        "assert distances == [0, float('inf'), float('inf'), float('inf'), float('inf'), 0]\n",
        "\n",
        "print(\"All test cases passed!\")\n"
      ]
    }
  ],
  "metadata": {
    "colab": {
      "provenance": []
    },
    "kernelspec": {
      "display_name": "Python 3",
      "name": "python3"
    },
    "language_info": {
      "name": "python"
    }
  },
  "nbformat": 4,
  "nbformat_minor": 0
}
