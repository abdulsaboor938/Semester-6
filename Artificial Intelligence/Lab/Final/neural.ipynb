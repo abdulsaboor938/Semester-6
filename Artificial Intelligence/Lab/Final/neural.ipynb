{
 "cells": [
  {
   "cell_type": "code",
   "execution_count": 1,
   "metadata": {},
   "outputs": [],
   "source": [
    "# implementing neural network\n",
    "# This will contain 3 inputs, four hidden neurons, and two output neurons\n",
    "\n",
    "import numpy as np\n",
    "import pandas as pd"
   ]
  },
  {
   "cell_type": "code",
   "execution_count": 2,
   "metadata": {},
   "outputs": [],
   "source": [
    "# defining inputs and outputs\n",
    "\n",
    "x1 = np.array(range(1,11))\n",
    "x2 = np.array(range(11,21))\n",
    "x3 = np.array(range(21,31))\n",
    "\n",
    "y1 = np.array(range(101,111))\n",
    "y2 = np.array(range(111,121))"
   ]
  },
  {
   "cell_type": "code",
   "execution_count": 7,
   "metadata": {},
   "outputs": [
    {
     "name": "stdout",
     "output_type": "stream",
     "text": [
      "[[0.1 0.2 0.3 0.4]\n",
      " [0.5 0.6 0.7 0.8]\n",
      " [0.9 1.  1.1 1.2]]\n",
      "[[1.3 1.4 1.5 1.6]\n",
      " [1.7 1.8 1.9 2. ]]\n"
     ]
    }
   ],
   "source": [
    "# defining weights\n",
    "\n",
    "hidden_weights = np.array([\n",
    "    [0.1, 0.2, 0.3, 0.4],\n",
    "    [0.5, 0.6, 0.7, 0.8],\n",
    "    [0.9, 1.0, 1.1, 1.2]\n",
    "]\n",
    ")\n",
    "print(hidden_weights)\n",
    "\n",
    "output_weights = np.array([\n",
    "    [1.3, 1.4, 1.5, 1.6],\n",
    "    [1.7, 1.8, 1.9, 2.0]\n",
    "])\n",
    "print(output_weights)"
   ]
  },
  {
   "cell_type": "code",
   "execution_count": 10,
   "metadata": {},
   "outputs": [
    {
     "name": "stdout",
     "output_type": "stream",
     "text": [
      "[ 1 11 21]\n",
      "[101 111]\n"
     ]
    }
   ],
   "source": [
    "# making a single vector for inputs\n",
    "input_vector = np.array([x1[0], x2[0], x3[0]])\n",
    "print(input_vector)\n",
    "\n",
    "# making a single vector for outputs\n",
    "output_vector = np.array([y1[0], y2[0]])\n",
    "print(output_vector)"
   ]
  },
  {
   "cell_type": "code",
   "execution_count": 23,
   "metadata": {},
   "outputs": [],
   "source": [
    "def sigmoid(x):\n",
    "    return 1/(1+np.exp(-x))\n",
    "\n",
    "def derivative_sigmoid(x):\n",
    "    return x*(1-x)"
   ]
  },
  {
   "attachments": {},
   "cell_type": "markdown",
   "metadata": {},
   "source": [
    "## Feed Forward Pass"
   ]
  },
  {
   "cell_type": "code",
   "execution_count": 16,
   "metadata": {},
   "outputs": [
    {
     "name": "stdout",
     "output_type": "stream",
     "text": [
      "[1. 1. 1. 1.]\n",
      "[0.99888746 0.99977518]\n"
     ]
    }
   ],
   "source": [
    "layer1 = np.dot(input_vector, hidden_weights) + np.array([1,1,1,1])\n",
    "layer1 = sigmoid(layer1)\n",
    "print(layer1)\n",
    "\n",
    "layer2 = np.dot(layer1, output_weights.T) + np.array([1,1])\n",
    "layer2 = sigmoid(layer2)\n",
    "print(layer2)"
   ]
  },
  {
   "attachments": {},
   "cell_type": "markdown",
   "metadata": {},
   "source": [
    "## Combined Implementation"
   ]
  },
  {
   "cell_type": "code",
   "execution_count": 27,
   "metadata": {},
   "outputs": [],
   "source": [
    "import numpy as np\n",
    "\n",
    "def sigmoid(x):\n",
    "    return 1 / (1 + np.exp(-x))\n",
    "\n",
    "def sigmoid_derivative(x):\n",
    "    return sigmoid(x) * (1 - sigmoid(x))\n",
    "\n",
    "# Defining inputs and outputs\n",
    "x1 = np.array(range(1, 11))\n",
    "x2 = np.array(range(11, 21))\n",
    "x3 = np.array(range(21, 31))\n",
    "\n",
    "y1 = np.array(range(101, 111))\n",
    "y2 = np.array(range(111, 121))\n",
    "\n",
    "# Initializing weights and biases\n",
    "np.random.seed(42)\n",
    "w1 = np.random.rand(4, 3)  # Weights of the first hidden layer\n",
    "b1 = np.random.rand(4, 1)  # Biases of the first hidden layer\n",
    "w2 = np.random.rand(4, 4)  # Weights of the second hidden layer\n",
    "b2 = np.random.rand(4, 1)  # Biases of the second hidden layer\n",
    "w3 = np.random.rand(2, 4)  # Weights of the output layer\n",
    "b3 = np.random.rand(2, 1)  # Biases of the output layer\n",
    "\n",
    "# Forward propagation\n",
    "z1 = np.dot(w1, np.array([x1, x2, x3])) + b1\n",
    "a1 = sigmoid(z1)\n",
    "z2 = np.dot(w2, a1) + b2\n",
    "a2 = sigmoid(z2)\n",
    "z3 = np.dot(w3, a2) + b3\n",
    "a3 = sigmoid(z3)\n",
    "\n",
    "# Calculating the output error\n",
    "delta3 = a3 - np.array([y1, y2])\n",
    "delta2 = np.dot(w3.T, delta3) * sigmoid_derivative(z2)\n",
    "delta1 = np.dot(w2.T, delta2) * sigmoid_derivative(z1)\n",
    "\n",
    "# Backward propagation (updating weights and biases)\n",
    "learning_rate = 0.1\n",
    "w3 -= learning_rate * np.dot(delta3, a2.T)\n",
    "b3 -= learning_rate * np.sum(delta3, axis=1, keepdims=True)\n",
    "w2 -= learning_rate * np.dot(delta2, a1.T)\n",
    "b2 -= learning_rate * np.sum(delta2, axis=1, keepdims=True)\n",
    "w1 -= learning_rate * np.dot(delta1, np.array([x1, x2, x3]).T)\n",
    "b1 -= learning_rate * np.sum(delta1, axis=1, keepdims=True)\n"
   ]
  },
  {
   "attachments": {},
   "cell_type": "markdown",
   "metadata": {},
   "source": [
    "### For singular vector of Inputs"
   ]
  },
  {
   "cell_type": "code",
   "execution_count": null,
   "metadata": {},
   "outputs": [],
   "source": [
    "import numpy as np\n",
    "\n",
    "def sigmoid(x):\n",
    "    return 1 / (1 + np.exp(-x))\n",
    "\n",
    "def sigmoid_derivative(x):\n",
    "    return sigmoid(x) * (1 - sigmoid(x))\n",
    "\n",
    "# Defining inputs and outputs\n",
    "x = np.array([1, 11, 21])  # Single input vector\n",
    "y = np.array([101, 111])  # Single output vector\n",
    "\n",
    "# Initializing weights and biases\n",
    "np.random.seed(42)\n",
    "w1 = np.random.rand(4, 3)  # Weights of the first hidden layer\n",
    "b1 = np.random.rand(4, 1)  # Biases of the first hidden layer\n",
    "w2 = np.random.rand(4, 4)  # Weights of the second hidden layer\n",
    "b2 = np.random.rand(4, 1)  # Biases of the second hidden layer\n",
    "w3 = np.random.rand(2, 4)  # Weights of the output layer\n",
    "b3 = np.random.rand(2, 1)  # Biases of the output layer\n",
    "\n",
    "# Forward propagation\n",
    "z1 = np.dot(w1, x.reshape(-1, 1)) + b1\n",
    "a1 = sigmoid(z1)\n",
    "z2 = np.dot(w2, a1) + b2\n",
    "a2 = sigmoid(z2)\n",
    "z3 = np.dot(w3, a2) + b3\n",
    "a3 = sigmoid(z3)\n",
    "\n",
    "# Calculating the output error\n",
    "delta3 = a3 - y.reshape(-1, 1)\n",
    "delta2 = np.dot(w3.T, delta3) * sigmoid_derivative(z2)\n",
    "delta1 = np.dot(w2.T, delta2) * sigmoid_derivative(z1)\n",
    "\n",
    "# Backward propagation (updating weights and biases)\n",
    "learning_rate = 0.1\n",
    "w3 -= learning_rate * np.dot(delta3, a2.T)\n",
    "b3 -= learning_rate * np.sum(delta3, axis=1, keepdims=True)\n",
    "w2 -= learning_rate * np.dot(delta2, a1.T)\n",
    "b2 -= learning_rate * np.sum(delta2, axis=1, keepdims=True)\n",
    "w1 -= learning_rate * np.dot(delta1, x.reshape(1, -1))\n",
    "b1 -= learning_rate * np.sum(delta1, axis=1, keepdims=True)\n"
   ]
  }
 ],
 "metadata": {
  "kernelspec": {
   "display_name": "base",
   "language": "python",
   "name": "python3"
  },
  "language_info": {
   "codemirror_mode": {
    "name": "ipython",
    "version": 3
   },
   "file_extension": ".py",
   "mimetype": "text/x-python",
   "name": "python",
   "nbconvert_exporter": "python",
   "pygments_lexer": "ipython3",
   "version": "3.10.8"
  },
  "orig_nbformat": 4
 },
 "nbformat": 4,
 "nbformat_minor": 2
}
