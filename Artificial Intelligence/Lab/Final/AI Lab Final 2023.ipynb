{
 "cells": [
  {
   "attachments": {},
   "cell_type": "markdown",
   "metadata": {
    "id": "isI2edbn9GUk"
   },
   "source": [
    "#**ARTIFICIAL INTELLIGENCE LAB FINAL EXAM**\n",
    "####**2023**\n",
    "####**FAST-NUCES, LAHORE**\n",
    "\n",
    "Note: All cells must display relevant output. Error or non-execution of any cell would result in deduction of marks.\n",
    "\n",
    "\n",
    "\n"
   ]
  },
  {
   "attachments": {},
   "cell_type": "markdown",
   "metadata": {
    "id": "Q07TVeHYmIAa"
   },
   "source": [
    "**Question : Genetic Algorithm**\n",
    "\n",
    "According to the Salesman Problem, The problem says that a salesman is given a set of cities, he has to find the shortest route to as to visit each city exactly once and return to the starting city.\n",
    "\n",
    "**Implement a genetic algorithm in Python to solve the Traveling Salesman Problem (TSP) . Provide the code for the fitness_function,crossover, and mutation steps. Additionally, explain how the fitness function is defined and the termination condition is determined in this particular implementation.**\n",
    "\n",
    "---\n"
   ]
  },
  {
   "cell_type": "code",
   "execution_count": 1,
   "metadata": {
    "id": "Cemxpm1fnVnJ"
   },
   "outputs": [],
   "source": [
    "# Import libraries\n",
    "import random"
   ]
  },
  {
   "cell_type": "code",
   "execution_count": 2,
   "metadata": {
    "id": "88qqua0MnTo0"
   },
   "outputs": [],
   "source": [
    "# Genetic Algorithm parameters\n",
    "population_size = 50\n",
    "city_count = 10\n",
    "mutation_rate = 0.1\n",
    "termination_condition = 1000\n"
   ]
  },
  {
   "cell_type": "code",
   "execution_count": 12,
   "metadata": {
    "id": "wfe3wxdWnNJj"
   },
   "outputs": [],
   "source": [
    "# Initialize population\n",
    "def initialize_population():\n",
    "    population = []\n",
    "    for _ in range(population_size):\n",
    "        chromosome = list(range(1, city_count+1))\n",
    "        random.shuffle(chromosome)\n",
    "        population.append(chromosome)\n",
    "    return population\n"
   ]
  },
  {
   "cell_type": "code",
   "execution_count": 32,
   "metadata": {
    "id": "zrFSpSeHmK3D"
   },
   "outputs": [],
   "source": [
    "# Define fitness function\n",
    "def fitness_function(chromosome):\n",
    "        #Write your code here"
   ]
  },
  {
   "cell_type": "code",
   "execution_count": 25,
   "metadata": {
    "id": "Yzl41FnSm_Y3"
   },
   "outputs": [],
   "source": [
    "# Evaluate population\n",
    "def evaluate_population(population):\n",
    "    fitness_scores = []\n",
    "    for chromosome in population:\n",
    "        fitness_scores.append(fitness_function(chromosome))\n",
    "    return fitness_scores\n"
   ]
  },
  {
   "cell_type": "code",
   "execution_count": 26,
   "metadata": {
    "id": "IAuNrLzVm_tv"
   },
   "outputs": [],
   "source": [
    "# Selection (tournament selection)\n",
    "def selection(population, fitness_scores):\n",
    "    selected_population = []\n",
    "    for _ in range(population_size):\n",
    "        tournament = random.sample(range(population_size), 5)\n",
    "        selected_chromosome = min(tournament, key=lambda x: fitness_scores[x])\n",
    "        selected_population.append(population[selected_chromosome])\n",
    "    return selected_population\n"
   ]
  },
  {
   "cell_type": "code",
   "execution_count": null,
   "metadata": {
    "id": "SeNFW4WFm2lW"
   },
   "outputs": [],
   "source": [
    "# Crossover (partially-mapped crossover)\n",
    "def crossover(parent1, parent2):\n",
    "    # Write you code here"
   ]
  },
  {
   "cell_type": "code",
   "execution_count": null,
   "metadata": {},
   "outputs": [],
   "source": [
    "# Mutation (swap mutation)\n",
    "def mutation(chromosome):\n",
    "   # Write you code here"
   ]
  },
  {
   "cell_type": "code",
   "execution_count": null,
   "metadata": {},
   "outputs": [],
   "source": [
    "# Load distances between cities (example data)\n",
    "distances = [\n",
    "    [0, 2, 9, 10, 5, 1, 12, 6, 3, 8],\n",
    "    [2, 0, 6, 4, 8, 9, 2, 11, 7, 5],\n",
    "    [9, 6, 0, 11, 10, 7, 6, 3, 2, 1],\n",
    "    [10, 4, 11, 0, 3, 12, 5, 9, 6, 7],\n",
    "    [5, 8, 10, 3, 0, 6, 8, 4, 1, 2],\n",
    "    [1, 9, 7, 12, 6, 0, 10, 5, 2, 4],\n",
    "    [12, 2, 6, 5, 8, 10, 0, 7, 3, 9],\n",
    "    [6, 11, 3, 9, 4, 5, 7, 0, 12, 1],\n",
    "    [3, 7, 2, 6, 1, 2, 3, 12, 0, 10],\n",
    "    [8, 5, 1, 7, 2, 4, 9, 1, 10, 0]\n",
    "]\n",
    "\n",
    "# Genetic Algorithm main loop\n",
    "generation = 0\n",
    "population = initialize_population()\n",
    "\n",
    "while generation < termination_condition:\n",
    "    # Evaluation\n",
    "    fitness_scores = evaluate_population(population)\n",
    "\n",
    "    # Termination condition\n",
    "    if min(fitness_scores) == 0:\n",
    "        break\n",
    "\n",
    "    # Selection\n",
    "    selected_population = selection(population, fitness_scores)\n",
    "\n",
    "    # Crossover\n",
    "    \n",
    "\n",
    "    # Mutation\n",
    "   \n",
    "\n",
    "    # Update population\n",
    "    population = mutated_population\n",
    "    generation += 1\n",
    "\n",
    "# Print the best solution\n",
    "best_chromosome = population[fitness_scores.index(min(fitness_scores))]\n",
    "print(\"Best Solution:\", best_chromosome)"
   ]
  },
  {
   "cell_type": "code",
   "execution_count": null,
   "metadata": {},
   "outputs": [],
   "source": []
  }
 ],
 "metadata": {
  "colab": {
   "collapsed_sections": [
    "isI2edbn9GUk",
    "BNCe-rOjut42"
   ],
   "name": "ai_final.ipynb",
   "provenance": []
  },
  "kernelspec": {
   "display_name": "Python 3 (ipykernel)",
   "language": "python",
   "name": "python3"
  },
  "language_info": {
   "codemirror_mode": {
    "name": "ipython",
    "version": 3
   },
   "file_extension": ".py",
   "mimetype": "text/x-python",
   "name": "python",
   "nbconvert_exporter": "python",
   "pygments_lexer": "ipython3",
   "version": "3.9.12"
  }
 },
 "nbformat": 4,
 "nbformat_minor": 1
}
