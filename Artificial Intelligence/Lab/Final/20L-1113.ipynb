{
 "cells": [
  {
   "attachments": {},
   "cell_type": "markdown",
   "metadata": {},
   "source": [
    "## Question 1 (Neural Network)"
   ]
  },
  {
   "cell_type": "code",
   "execution_count": 235,
   "metadata": {},
   "outputs": [],
   "source": [
    "# importing libraries\n",
    "\n",
    "import pandas as pd\n",
    "import numpy as np"
   ]
  },
  {
   "attachments": {},
   "cell_type": "markdown",
   "metadata": {},
   "source": [
    "### INitializations"
   ]
  },
  {
   "cell_type": "code",
   "execution_count": 236,
   "metadata": {},
   "outputs": [],
   "source": [
    "input_vector = np.array([1, 2, 3])\n",
    "\n",
    "input_weights = np.array([[0.1,0.2,0.3],[0.4,0.5,0.6],[0.7,0.8,0.9],[1.0,1.1,1.2]])\n",
    "\n",
    "hidden_weights = np.array([[1.3,1.4,1.5,1.6],[1.7,1.8,1.9,2.0]])\n",
    "\n",
    "output_weights = np.array([[2.1,2.2],[2.3,2.4],[2.5,2.6],[2.7,2.8]])\n",
    "\n",
    "hidden_bias = np.array([0.9,1.0,1.1,1.2])\n",
    "output_bias = np.array([1.3,1.4])"
   ]
  },
  {
   "attachments": {},
   "cell_type": "markdown",
   "metadata": {},
   "source": [
    "### Sigmoid"
   ]
  },
  {
   "cell_type": "code",
   "execution_count": 237,
   "metadata": {},
   "outputs": [],
   "source": [
    "def sigmoid(x):\n",
    "    return 1/(1+np.exp(-x))"
   ]
  },
  {
   "attachments": {},
   "cell_type": "markdown",
   "metadata": {},
   "source": [
    "### Feed Forward"
   ]
  },
  {
   "cell_type": "code",
   "execution_count": 238,
   "metadata": {},
   "outputs": [
    {
     "name": "stdout",
     "output_type": "stream",
     "text": [
      "[0.99904892 0.99981841]\n"
     ]
    }
   ],
   "source": [
    "def feedforward(input_vector):\n",
    "    hidden_layer_weighted_input = np.dot(input_vector,input_weights.T) + hidden_bias\n",
    "    hidden_layer_node_outputs = sigmoid(hidden_layer_weighted_input)\n",
    "    output_layer_weighted_input = np.dot(hidden_layer_node_outputs,hidden_weights.T) + output_bias\n",
    "    output_layer_node_outputs = sigmoid(output_layer_weighted_input)\n",
    "    return output_layer_node_outputs\n",
    "\n",
    "print(feedforward(input_vector))"
   ]
  },
  {
   "attachments": {},
   "cell_type": "markdown",
   "metadata": {},
   "source": [
    "# Question 2"
   ]
  },
  {
   "cell_type": "code",
   "execution_count": 239,
   "metadata": {},
   "outputs": [],
   "source": [
    "# According to the Salesman Problem, The problem says that a salesman is given a set of cities, he has to \n",
    "# find the shortest route to as to visit each city exactly once and return to the starting city. Implement a genetic \n",
    "# algorithm  in  Python  to  solve  the  Traveling  Salesman  Problem  (TSP)  .  Provide  the  code  for  the \n",
    "# fitness_function, crossover, and mutation steps. Additionally, explain how the fitness function is defined \n",
    "# and  the  termination  condition  is  determined  in  this  particular  implementation.  Use  the  helping  code \n",
    "# provided in the cactus."
   ]
  },
  {
   "attachments": {},
   "cell_type": "markdown",
   "metadata": {},
   "source": [
    "# Question 3"
   ]
  },
  {
   "cell_type": "code",
   "execution_count": 240,
   "metadata": {},
   "outputs": [
    {
     "data": {
      "text/html": [
       "<div>\n",
       "<style scoped>\n",
       "    .dataframe tbody tr th:only-of-type {\n",
       "        vertical-align: middle;\n",
       "    }\n",
       "\n",
       "    .dataframe tbody tr th {\n",
       "        vertical-align: top;\n",
       "    }\n",
       "\n",
       "    .dataframe thead th {\n",
       "        text-align: right;\n",
       "    }\n",
       "</style>\n",
       "<table border=\"1\" class=\"dataframe\">\n",
       "  <thead>\n",
       "    <tr style=\"text-align: right;\">\n",
       "      <th></th>\n",
       "      <th>id</th>\n",
       "      <th>mean_dist_day</th>\n",
       "      <th>mean_over_speed_perc</th>\n",
       "    </tr>\n",
       "  </thead>\n",
       "  <tbody>\n",
       "    <tr>\n",
       "      <th>0</th>\n",
       "      <td>3423311935</td>\n",
       "      <td>71.24</td>\n",
       "      <td>28.0</td>\n",
       "    </tr>\n",
       "    <tr>\n",
       "      <th>1</th>\n",
       "      <td>3423313212</td>\n",
       "      <td>52.53</td>\n",
       "      <td>25.0</td>\n",
       "    </tr>\n",
       "    <tr>\n",
       "      <th>2</th>\n",
       "      <td>3423313724</td>\n",
       "      <td>64.54</td>\n",
       "      <td>27.0</td>\n",
       "    </tr>\n",
       "    <tr>\n",
       "      <th>3</th>\n",
       "      <td>3423311373</td>\n",
       "      <td>55.69</td>\n",
       "      <td>22.0</td>\n",
       "    </tr>\n",
       "    <tr>\n",
       "      <th>4</th>\n",
       "      <td>3423310999</td>\n",
       "      <td>54.58</td>\n",
       "      <td>25.0</td>\n",
       "    </tr>\n",
       "  </tbody>\n",
       "</table>\n",
       "</div>"
      ],
      "text/plain": [
       "           id  mean_dist_day  mean_over_speed_perc\n",
       "0  3423311935          71.24                  28.0\n",
       "1  3423313212          52.53                  25.0\n",
       "2  3423313724          64.54                  27.0\n",
       "3  3423311373          55.69                  22.0\n",
       "4  3423310999          54.58                  25.0"
      ]
     },
     "execution_count": 240,
     "metadata": {},
     "output_type": "execute_result"
    }
   ],
   "source": [
    "import pandas as pd\n",
    "import numpy as np\n",
    "\n",
    "df = pd.read_csv('driver.csv')\n",
    "df.head()"
   ]
  },
  {
   "attachments": {},
   "cell_type": "markdown",
   "metadata": {},
   "source": [
    "### Description"
   ]
  },
  {
   "cell_type": "code",
   "execution_count": 241,
   "metadata": {},
   "outputs": [
    {
     "name": "stdout",
     "output_type": "stream",
     "text": [
      "<class 'pandas.core.frame.DataFrame'>\n",
      "RangeIndex: 4000 entries, 0 to 3999\n",
      "Data columns (total 3 columns):\n",
      " #   Column                Non-Null Count  Dtype  \n",
      "---  ------                --------------  -----  \n",
      " 0   id                    4000 non-null   int64  \n",
      " 1   mean_dist_day         3994 non-null   float64\n",
      " 2   mean_over_speed_perc  3996 non-null   float64\n",
      "dtypes: float64(2), int64(1)\n",
      "memory usage: 93.9 KB\n"
     ]
    },
    {
     "data": {
      "text/html": [
       "<div>\n",
       "<style scoped>\n",
       "    .dataframe tbody tr th:only-of-type {\n",
       "        vertical-align: middle;\n",
       "    }\n",
       "\n",
       "    .dataframe tbody tr th {\n",
       "        vertical-align: top;\n",
       "    }\n",
       "\n",
       "    .dataframe thead th {\n",
       "        text-align: right;\n",
       "    }\n",
       "</style>\n",
       "<table border=\"1\" class=\"dataframe\">\n",
       "  <thead>\n",
       "    <tr style=\"text-align: right;\">\n",
       "      <th></th>\n",
       "      <th>id</th>\n",
       "      <th>mean_dist_day</th>\n",
       "      <th>mean_over_speed_perc</th>\n",
       "    </tr>\n",
       "  </thead>\n",
       "  <tbody>\n",
       "    <tr>\n",
       "      <th>count</th>\n",
       "      <td>4.000000e+03</td>\n",
       "      <td>3994.000000</td>\n",
       "      <td>3996.000000</td>\n",
       "    </tr>\n",
       "    <tr>\n",
       "      <th>mean</th>\n",
       "      <td>3.423312e+09</td>\n",
       "      <td>77.757086</td>\n",
       "      <td>10.704705</td>\n",
       "    </tr>\n",
       "    <tr>\n",
       "      <th>std</th>\n",
       "      <td>1.154845e+03</td>\n",
       "      <td>77.379870</td>\n",
       "      <td>13.699562</td>\n",
       "    </tr>\n",
       "    <tr>\n",
       "      <th>min</th>\n",
       "      <td>3.423310e+09</td>\n",
       "      <td>15.520000</td>\n",
       "      <td>0.000000</td>\n",
       "    </tr>\n",
       "    <tr>\n",
       "      <th>25%</th>\n",
       "      <td>3.423311e+09</td>\n",
       "      <td>45.252500</td>\n",
       "      <td>4.000000</td>\n",
       "    </tr>\n",
       "    <tr>\n",
       "      <th>50%</th>\n",
       "      <td>3.423312e+09</td>\n",
       "      <td>53.335000</td>\n",
       "      <td>6.000000</td>\n",
       "    </tr>\n",
       "    <tr>\n",
       "      <th>75%</th>\n",
       "      <td>3.423313e+09</td>\n",
       "      <td>65.757500</td>\n",
       "      <td>9.000000</td>\n",
       "    </tr>\n",
       "    <tr>\n",
       "      <th>max</th>\n",
       "      <td>3.423314e+09</td>\n",
       "      <td>3100.000000</td>\n",
       "      <td>100.000000</td>\n",
       "    </tr>\n",
       "  </tbody>\n",
       "</table>\n",
       "</div>"
      ],
      "text/plain": [
       "                 id  mean_dist_day  mean_over_speed_perc\n",
       "count  4.000000e+03    3994.000000           3996.000000\n",
       "mean   3.423312e+09      77.757086             10.704705\n",
       "std    1.154845e+03      77.379870             13.699562\n",
       "min    3.423310e+09      15.520000              0.000000\n",
       "25%    3.423311e+09      45.252500              4.000000\n",
       "50%    3.423312e+09      53.335000              6.000000\n",
       "75%    3.423313e+09      65.757500              9.000000\n",
       "max    3.423314e+09    3100.000000            100.000000"
      ]
     },
     "execution_count": 241,
     "metadata": {},
     "output_type": "execute_result"
    }
   ],
   "source": [
    "# describing the dataset\n",
    "df.info()\n",
    "df.describe()"
   ]
  },
  {
   "attachments": {},
   "cell_type": "markdown",
   "metadata": {},
   "source": [
    "### Histogram"
   ]
  },
  {
   "cell_type": "code",
   "execution_count": 242,
   "metadata": {},
   "outputs": [
    {
     "data": {
      "text/plain": [
       "array([[<AxesSubplot: title={'center': 'id'}>,\n",
       "        <AxesSubplot: title={'center': 'mean_dist_day'}>],\n",
       "       [<AxesSubplot: title={'center': 'mean_over_speed_perc'}>,\n",
       "        <AxesSubplot: >]], dtype=object)"
      ]
     },
     "execution_count": 242,
     "metadata": {},
     "output_type": "execute_result"
    },
    {
     "data": {
      "image/png": "[encoded data removed]",
      "text/plain": [
       "<Figure size 640x480 with 4 Axes>"
      ]
     },
     "metadata": {},
     "output_type": "display_data"
    }
   ],
   "source": [
    "# plotting histogram\n",
    "df.hist()"
   ]
  },
  {
   "attachments": {},
   "cell_type": "markdown",
   "metadata": {},
   "source": [
    "### Pre-Processing"
   ]
  },
  {
   "cell_type": "code",
   "execution_count": 243,
   "metadata": {},
   "outputs": [
    {
     "data": {
      "text/plain": [
       "id                      0\n",
       "mean_dist_day           6\n",
       "mean_over_speed_perc    4\n",
       "dtype: int64"
      ]
     },
     "execution_count": 243,
     "metadata": {},
     "output_type": "execute_result"
    }
   ],
   "source": [
    "# preprocessing the data\n",
    "df.isnull().sum()"
   ]
  },
  {
   "cell_type": "code",
   "execution_count": 244,
   "metadata": {},
   "outputs": [
    {
     "data": {
      "text/plain": [
       "id                      0\n",
       "mean_dist_day           0\n",
       "mean_over_speed_perc    0\n",
       "dtype: int64"
      ]
     },
     "execution_count": 244,
     "metadata": {},
     "output_type": "execute_result"
    }
   ],
   "source": [
    "# filling the missing values by interpolation\n",
    "df.interpolate(inplace=True)\n",
    "\n",
    "df.isnull().sum()"
   ]
  },
  {
   "attachments": {},
   "cell_type": "markdown",
   "metadata": {},
   "source": [
    "### Scaling"
   ]
  },
  {
   "cell_type": "code",
   "execution_count": 245,
   "metadata": {},
   "outputs": [],
   "source": [
    "# scaling the features\n",
    "from sklearn.preprocessing import StandardScaler\n",
    "scaler = StandardScaler()\n",
    "df_scaled = scaler.fit_transform(df)"
   ]
  },
  {
   "attachments": {},
   "cell_type": "markdown",
   "metadata": {},
   "source": [
    "### Elbow Method"
   ]
  },
  {
   "cell_type": "code",
   "execution_count": 246,
   "metadata": {},
   "outputs": [
    {
     "name": "stderr",
     "output_type": "stream",
     "text": [
      "/Users/carbon/miniconda3/lib/python3.10/site-packages/sklearn/cluster/_kmeans.py:870: FutureWarning: The default value of `n_init` will change from 10 to 'auto' in 1.4. Set the value of `n_init` explicitly to suppress the warning\n",
      "  warnings.warn(\n",
      "/Users/carbon/miniconda3/lib/python3.10/site-packages/sklearn/cluster/_kmeans.py:870: FutureWarning: The default value of `n_init` will change from 10 to 'auto' in 1.4. Set the value of `n_init` explicitly to suppress the warning\n",
      "  warnings.warn(\n",
      "/Users/carbon/miniconda3/lib/python3.10/site-packages/sklearn/cluster/_kmeans.py:870: FutureWarning: The default value of `n_init` will change from 10 to 'auto' in 1.4. Set the value of `n_init` explicitly to suppress the warning\n",
      "  warnings.warn(\n",
      "/Users/carbon/miniconda3/lib/python3.10/site-packages/sklearn/cluster/_kmeans.py:870: FutureWarning: The default value of `n_init` will change from 10 to 'auto' in 1.4. Set the value of `n_init` explicitly to suppress the warning\n",
      "  warnings.warn(\n",
      "/Users/carbon/miniconda3/lib/python3.10/site-packages/sklearn/cluster/_kmeans.py:870: FutureWarning: The default value of `n_init` will change from 10 to 'auto' in 1.4. Set the value of `n_init` explicitly to suppress the warning\n",
      "  warnings.warn(\n",
      "/Users/carbon/miniconda3/lib/python3.10/site-packages/sklearn/cluster/_kmeans.py:870: FutureWarning: The default value of `n_init` will change from 10 to 'auto' in 1.4. Set the value of `n_init` explicitly to suppress the warning\n",
      "  warnings.warn(\n",
      "/Users/carbon/miniconda3/lib/python3.10/site-packages/sklearn/cluster/_kmeans.py:870: FutureWarning: The default value of `n_init` will change from 10 to 'auto' in 1.4. Set the value of `n_init` explicitly to suppress the warning\n",
      "  warnings.warn(\n",
      "/Users/carbon/miniconda3/lib/python3.10/site-packages/sklearn/cluster/_kmeans.py:870: FutureWarning: The default value of `n_init` will change from 10 to 'auto' in 1.4. Set the value of `n_init` explicitly to suppress the warning\n",
      "  warnings.warn(\n",
      "/Users/carbon/miniconda3/lib/python3.10/site-packages/sklearn/cluster/_kmeans.py:870: FutureWarning: The default value of `n_init` will change from 10 to 'auto' in 1.4. Set the value of `n_init` explicitly to suppress the warning\n",
      "  warnings.warn(\n",
      "/Users/carbon/miniconda3/lib/python3.10/site-packages/sklearn/cluster/_kmeans.py:870: FutureWarning: The default value of `n_init` will change from 10 to 'auto' in 1.4. Set the value of `n_init` explicitly to suppress the warning\n",
      "  warnings.warn(\n"
     ]
    },
    {
     "data": {
      "image/png": "[encoded data removed]",
      "text/plain": [
       "<Figure size 640x480 with 1 Axes>"
      ]
     },
     "metadata": {},
     "output_type": "display_data"
    }
   ],
   "source": [
    "# elbow method to find the optimal number of clusters\n",
    "from sklearn.cluster import KMeans\n",
    "wcss = []\n",
    "for i in range(1,11):\n",
    "    kmeans = KMeans(n_clusters=i)\n",
    "    kmeans.fit(df_scaled)\n",
    "    wcss.append(kmeans.inertia_)\n",
    "\n",
    "import matplotlib.pyplot as plt\n",
    "plt.plot(range(1,11),wcss)\n",
    "plt.xlabel('clusters')\n",
    "plt.ylabel('WCSS')\n",
    "plt.show()"
   ]
  },
  {
   "cell_type": "code",
   "execution_count": 247,
   "metadata": {},
   "outputs": [],
   "source": [
    "# Optimum number of clusters is 5"
   ]
  },
  {
   "attachments": {},
   "cell_type": "markdown",
   "metadata": {},
   "source": [
    "### K-Means Clustering"
   ]
  },
  {
   "cell_type": "code",
   "execution_count": 248,
   "metadata": {},
   "outputs": [
    {
     "name": "stderr",
     "output_type": "stream",
     "text": [
      "/Users/carbon/miniconda3/lib/python3.10/site-packages/sklearn/cluster/_kmeans.py:870: FutureWarning: The default value of `n_init` will change from 10 to 'auto' in 1.4. Set the value of `n_init` explicitly to suppress the warning\n",
      "  warnings.warn(\n"
     ]
    }
   ],
   "source": [
    "# applying kmeans clustering\n",
    "kmeans = KMeans(n_clusters=5)\n",
    "kmeans.fit(df_scaled)\n",
    "labels = kmeans.labels_"
   ]
  },
  {
   "attachments": {},
   "cell_type": "markdown",
   "metadata": {},
   "source": [
    "### Assigning Labels"
   ]
  },
  {
   "cell_type": "code",
   "execution_count": 249,
   "metadata": {},
   "outputs": [
    {
     "data": {
      "text/html": [
       "<div>\n",
       "<style scoped>\n",
       "    .dataframe tbody tr th:only-of-type {\n",
       "        vertical-align: middle;\n",
       "    }\n",
       "\n",
       "    .dataframe tbody tr th {\n",
       "        vertical-align: top;\n",
       "    }\n",
       "\n",
       "    .dataframe thead th {\n",
       "        text-align: right;\n",
       "    }\n",
       "</style>\n",
       "<table border=\"1\" class=\"dataframe\">\n",
       "  <thead>\n",
       "    <tr style=\"text-align: right;\">\n",
       "      <th></th>\n",
       "      <th>id</th>\n",
       "      <th>mean_dist_day</th>\n",
       "      <th>mean_over_speed_perc</th>\n",
       "      <th>cluster</th>\n",
       "    </tr>\n",
       "  </thead>\n",
       "  <tbody>\n",
       "    <tr>\n",
       "      <th>0</th>\n",
       "      <td>3423311935</td>\n",
       "      <td>71.24</td>\n",
       "      <td>28.0</td>\n",
       "      <td>3</td>\n",
       "    </tr>\n",
       "    <tr>\n",
       "      <th>1</th>\n",
       "      <td>3423313212</td>\n",
       "      <td>52.53</td>\n",
       "      <td>25.0</td>\n",
       "      <td>1</td>\n",
       "    </tr>\n",
       "    <tr>\n",
       "      <th>2</th>\n",
       "      <td>3423313724</td>\n",
       "      <td>64.54</td>\n",
       "      <td>27.0</td>\n",
       "      <td>1</td>\n",
       "    </tr>\n",
       "    <tr>\n",
       "      <th>3</th>\n",
       "      <td>3423311373</td>\n",
       "      <td>55.69</td>\n",
       "      <td>22.0</td>\n",
       "      <td>0</td>\n",
       "    </tr>\n",
       "    <tr>\n",
       "      <th>4</th>\n",
       "      <td>3423310999</td>\n",
       "      <td>54.58</td>\n",
       "      <td>25.0</td>\n",
       "      <td>0</td>\n",
       "    </tr>\n",
       "  </tbody>\n",
       "</table>\n",
       "</div>"
      ],
      "text/plain": [
       "           id  mean_dist_day  mean_over_speed_perc  cluster\n",
       "0  3423311935          71.24                  28.0        3\n",
       "1  3423313212          52.53                  25.0        1\n",
       "2  3423313724          64.54                  27.0        1\n",
       "3  3423311373          55.69                  22.0        0\n",
       "4  3423310999          54.58                  25.0        0"
      ]
     },
     "execution_count": 249,
     "metadata": {},
     "output_type": "execute_result"
    }
   ],
   "source": [
    "# assigning each driver to a specific cluster\n",
    "df['cluster'] = labels\n",
    "df.head()"
   ]
  },
  {
   "attachments": {},
   "cell_type": "markdown",
   "metadata": {},
   "source": [
    "### Visualizing"
   ]
  },
  {
   "cell_type": "code",
   "execution_count": 250,
   "metadata": {},
   "outputs": [
    {
     "data": {
      "text/plain": [
       "<AxesSubplot: xlabel='mean_dist_day', ylabel='mean_over_speed_perc'>"
      ]
     },
     "execution_count": 250,
     "metadata": {},
     "output_type": "execute_result"
    },
    {
     "data": {
      "image/png": "[encoded data removed]",
      "text/plain": [
       "<Figure size 640x480 with 1 Axes>"
      ]
     },
     "metadata": {},
     "output_type": "display_data"
    }
   ],
   "source": [
    "# visualizing the clusters\n",
    "import seaborn as sns\n",
    "sns.scatterplot(x='mean_dist_day',y='mean_over_speed_perc',hue='cluster',data=df,palette='rocket')"
   ]
  },
  {
   "attachments": {},
   "cell_type": "markdown",
   "metadata": {},
   "source": [
    "# Genetic Algorithm"
   ]
  },
  {
   "attachments": {},
   "cell_type": "markdown",
   "metadata": {},
   "source": [
    "**Question : Genetic Algorithm**\n",
    "\n",
    "According to the Salesman Problem, The problem says that a salesman is given a set of cities, he has to find the shortest route to as to visit each city exactly once and return to the starting city.\n",
    "\n",
    "**Implement a genetic algorithm in Python to solve the Traveling Salesman Problem (TSP) . Provide the code for the fitness_function,crossover, and mutation steps. Additionally, explain how the fitness function is defined and the termination condition is determined in this particular implementation.**\n",
    "\n",
    "---"
   ]
  },
  {
   "cell_type": "code",
   "execution_count": 251,
   "metadata": {},
   "outputs": [],
   "source": [
    "# Import libraries\n",
    "import random"
   ]
  },
  {
   "cell_type": "code",
   "execution_count": 252,
   "metadata": {},
   "outputs": [],
   "source": [
    "# Genetic Algorithm parameters\n",
    "population_size = 50\n",
    "city_count = 10\n",
    "mutation_rate = 0.1\n",
    "termination_condition = 1000\n"
   ]
  },
  {
   "cell_type": "code",
   "execution_count": 253,
   "metadata": {},
   "outputs": [],
   "source": [
    "# Initialize population\n",
    "def initialize_population():\n",
    "    population = []\n",
    "    for _ in range(population_size):\n",
    "        chromosome = list(range(1, city_count+1))\n",
    "        random.shuffle(chromosome)\n",
    "        population.append(chromosome)\n",
    "    return population\n"
   ]
  },
  {
   "cell_type": "code",
   "execution_count": 254,
   "metadata": {},
   "outputs": [],
   "source": [
    "# Define fitness function\n",
    "def fitness_function(chromosome):\n",
    "    # euclidean distance between cities\n",
    "    distance = 0\n",
    "    for i in range(city_count-1):\n",
    "        distance += df.iloc[chromosome[i]-1,chromosome[i+1]-1]\n",
    "    distance += df.iloc[chromosome[city_count-1]-1,chromosome[0]-1]\n",
    "    return distance"
   ]
  },
  {
   "cell_type": "code",
   "execution_count": 255,
   "metadata": {},
   "outputs": [],
   "source": [
    "# Evaluate population\n",
    "def evaluate_population(population):\n",
    "    population_fitness = {}\n",
    "    for chromosome in population:\n",
    "        population_fitness[tuple(chromosome)] = fitness_function(chromosome)\n",
    "    return sorted(population_fitness.items(), key=lambda x: x[1], reverse=True)\n"
   ]
  },
  {
   "cell_type": "code",
   "execution_count": 256,
   "metadata": {},
   "outputs": [],
   "source": [
    "# Selection (tournament selection)\n",
    "def selection(population, fitness_scores):\n",
    "    selected_population = []\n",
    "    for _ in range(population_size):\n",
    "        tournament = random.sample(range(population_size), 5)\n",
    "        selected_chromosome = min(tournament, key=lambda x: fitness_scores[x])\n",
    "        selected_population.append(population[selected_chromosome])\n",
    "    return selected_population\n"
   ]
  },
  {
   "cell_type": "code",
   "execution_count": 257,
   "metadata": {},
   "outputs": [],
   "source": [
    "# Crossover (partially-mapped crossover)\n",
    "def crossover(parent1, parent2):\n",
    "    child = [None] * city_count\n",
    "    gene1 = random.randint(0, city_count-1)\n",
    "    gene2 = random.randint(0, city_count-1)\n",
    "    start_gene = min(gene1, gene2)\n",
    "    end_gene = max(gene1, gene2)\n",
    "    for i in range(start_gene, end_gene+1):\n",
    "        child[i] = parent1[i]\n",
    "    for i in range(city_count):\n",
    "        if parent2[i] not in child:\n",
    "            for j in range(city_count):\n",
    "                if child[j] is None:\n",
    "                    child[j] = parent2[i]\n",
    "                    break\n",
    "    return child"
   ]
  },
  {
   "cell_type": "code",
   "execution_count": 258,
   "metadata": {},
   "outputs": [],
   "source": [
    "# Mutation (swap mutation)\n",
    "def mutation(chromosome):\n",
    "    gene1 = random.randint(0, city_count-1)\n",
    "    gene2 = random.randint(0, city_count-1)\n",
    "    chromosome[gene1], chromosome[gene2] = chromosome[gene2], chromosome[gene1]\n",
    "    return chromosome"
   ]
  },
  {
   "cell_type": "code",
   "execution_count": 261,
   "metadata": {},
   "outputs": [
    {
     "name": "stdout",
     "output_type": "stream",
     "text": [
      "Best Solution: [3, 8, 10, 5, 4, 6, 1, 2, 7, 9]\n"
     ]
    }
   ],
   "source": [
    "# Load distances between cities (example data)\n",
    "distances = [\n",
    "    [0, 2, 9, 10, 5, 1, 12, 6, 3, 8],\n",
    "    [2, 0, 6, 4, 8, 9, 2, 11, 7, 5],\n",
    "    [9, 6, 0, 11, 10, 7, 6, 3, 2, 1],\n",
    "    [10, 4, 11, 0, 3, 12, 5, 9, 6, 7],\n",
    "    [5, 8, 10, 3, 0, 6, 8, 4, 1, 2],\n",
    "    [1, 9, 7, 12, 6, 0, 10, 5, 2, 4],\n",
    "    [12, 2, 6, 5, 8, 10, 0, 7, 3, 9],\n",
    "    [6, 11, 3, 9, 4, 5, 7, 0, 12, 1],\n",
    "    [3, 7, 2, 6, 1, 2, 3, 12, 0, 10],\n",
    "    [8, 5, 1, 7, 2, 4, 9, 1, 10, 0]\n",
    "]\n",
    "\n",
    "# Genetic Algorithm main loop\n",
    "generation = 0\n",
    "population = initialize_population()\n",
    "\n",
    "while generation < termination_condition:\n",
    "    # Evaluation\n",
    "    fitness_scores = evaluate_population(population)\n",
    "\n",
    "    # Termination condition\n",
    "    if min(fitness_scores) == 0:\n",
    "        break\n",
    "\n",
    "    # Selection\n",
    "    selected_population = selection(population, fitness_scores)\n",
    "\n",
    "    # Crossover\n",
    "    crossovered_population = []\n",
    "    for i in range(0, population_size, 2):\n",
    "        child1 = crossover(selected_population[i], selected_population[i+1])\n",
    "        child2 = crossover(selected_population[i+1], selected_population[i])\n",
    "        crossovered_population.append(child1)\n",
    "        crossovered_population.append(child2)\n",
    "\n",
    "    # Mutation\n",
    "    mutated_population = []\n",
    "    for chromosome in crossovered_population:\n",
    "        if random.random() < mutation_rate:\n",
    "            mutated_population.append(mutation(chromosome))\n",
    "        else:\n",
    "            mutated_population.append(chromosome)\n",
    "\n",
    "    # Update population\n",
    "    population = mutated_population\n",
    "    generation += 1\n",
    "\n",
    "# Print the best solution\n",
    "best_chromosome = population[fitness_scores.index(min(fitness_scores))]\n",
    "print(\"Best Solution:\", best_chromosome)"
   ]
  }
 ],
 "metadata": {
  "kernelspec": {
   "display_name": "base",
   "language": "python",
   "name": "python3"
  },
  "language_info": {
   "codemirror_mode": {
    "name": "ipython",
    "version": 3
   },
   "file_extension": ".py",
   "mimetype": "text/x-python",
   "name": "python",
   "nbconvert_exporter": "python",
   "pygments_lexer": "ipython3",
   "version": "3.10.8"
  },
  "orig_nbformat": 4
 },
 "nbformat": 4,
 "nbformat_minor": 2
}
