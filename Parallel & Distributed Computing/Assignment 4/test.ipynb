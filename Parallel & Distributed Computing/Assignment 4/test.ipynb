{
 "cells": [
  {
   "attachments": {},
   "cell_type": "markdown",
   "metadata": {},
   "source": [
    "## MPI Version"
   ]
  },
  {
   "cell_type": "code",
   "execution_count": 24,
   "metadata": {},
   "outputs": [
    {
     "name": "stdout",
     "output_type": "stream",
     "text": [
      "mpirun (Open MPI) 2.0.4\n",
      "\n",
      "Report bugs to http://www.open-mpi.org/community/help/\n"
     ]
    }
   ],
   "source": [
    "!$HOME/opt/usr/local/bin/mpirun --version"
   ]
  },
  {
   "attachments": {},
   "cell_type": "markdown",
   "metadata": {},
   "source": [
    "## To show the working of hello"
   ]
  },
  {
   "cell_type": "code",
   "execution_count": 25,
   "metadata": {},
   "outputs": [],
   "source": [
    "!$HOME/opt/usr/local/bin/mpicc -o temp ./hello.c"
   ]
  },
  {
   "cell_type": "code",
   "execution_count": 26,
   "metadata": {},
   "outputs": [
    {
     "name": "stdout",
     "output_type": "stream",
     "text": [
      "[Saboors-MacBook.local:50312] [[42162,0],0] ORTE_ERROR_LOG: Bad parameter in file orted/pmix/pmix_server.c at line 262\n",
      "[Saboors-MacBook.local:50312] [[42162,0],0] ORTE_ERROR_LOG: Bad parameter in file ess_hnp_module.c at line 667\n",
      "--------------------------------------------------------------------------\n",
      "It looks like orte_init failed for some reason; your parallel process is\n",
      "likely to abort.  There are many reasons that a parallel process can\n",
      "fail during orte_init; some of which are due to configuration or\n",
      "environment problems.  This failure appears to be an internal failure;\n",
      "here's some additional information (which may only be relevant to an\n",
      "Open MPI developer):\n",
      "\n",
      "  pmix server init failed\n",
      "  --> Returned value Bad parameter (-5) instead of ORTE_SUCCESS\n",
      "--------------------------------------------------------------------------\n"
     ]
    }
   ],
   "source": [
    "!$HOME/opt/usr/local/bin/mpirun -np 2 ./temp"
   ]
  },
  {
   "attachments": {},
   "cell_type": "markdown",
   "metadata": {},
   "source": [
    "## Q1"
   ]
  },
  {
   "cell_type": "code",
   "execution_count": 27,
   "metadata": {},
   "outputs": [],
   "source": [
    "!$HOME/opt/usr/local/bin/mpicc -o temp ./q1.c"
   ]
  },
  {
   "cell_type": "code",
   "execution_count": 28,
   "metadata": {},
   "outputs": [
    {
     "name": "stdout",
     "output_type": "stream",
     "text": [
      "[Saboors-MacBook.local:50325] [[42159,0],0] ORTE_ERROR_LOG: Bad parameter in file orted/pmix/pmix_server.c at line 262\n",
      "[Saboors-MacBook.local:50325] [[42159,0],0] ORTE_ERROR_LOG: Bad parameter in file ess_hnp_module.c at line 667\n",
      "--------------------------------------------------------------------------\n",
      "It looks like orte_init failed for some reason; your parallel process is\n",
      "likely to abort.  There are many reasons that a parallel process can\n",
      "fail during orte_init; some of which are due to configuration or\n",
      "environment problems.  This failure appears to be an internal failure;\n",
      "here's some additional information (which may only be relevant to an\n",
      "Open MPI developer):\n",
      "\n",
      "  pmix server init failed\n",
      "  --> Returned value Bad parameter (-5) instead of ORTE_SUCCESS\n",
      "--------------------------------------------------------------------------\n"
     ]
    }
   ],
   "source": [
    "!$HOME/opt/usr/local/bin/mpirun -np 4 ./temp"
   ]
  },
  {
   "attachments": {},
   "cell_type": "markdown",
   "metadata": {},
   "source": [
    "## Q2"
   ]
  },
  {
   "cell_type": "code",
   "execution_count": 22,
   "metadata": {},
   "outputs": [],
   "source": [
    "!$HOME/opt/usr/local/bin/mpicc -o temp ./q2.c"
   ]
  },
  {
   "cell_type": "code",
   "execution_count": 23,
   "metadata": {},
   "outputs": [
    {
     "name": "stdout",
     "output_type": "stream",
     "text": [
      "[Saboors-MacBook.local:48949] [[57103,0],0] ORTE_ERROR_LOG: Bad parameter in file orted/pmix/pmix_server.c at line 262\n",
      "[Saboors-MacBook.local:48949] [[57103,0],0] ORTE_ERROR_LOG: Bad parameter in file ess_hnp_module.c at line 667\n",
      "--------------------------------------------------------------------------\n",
      "It looks like orte_init failed for some reason; your parallel process is\n",
      "likely to abort.  There are many reasons that a parallel process can\n",
      "fail during orte_init; some of which are due to configuration or\n",
      "environment problems.  This failure appears to be an internal failure;\n",
      "here's some additional information (which may only be relevant to an\n",
      "Open MPI developer):\n",
      "\n",
      "  pmix server init failed\n",
      "  --> Returned value Bad parameter (-5) instead of ORTE_SUCCESS\n",
      "--------------------------------------------------------------------------\n"
     ]
    }
   ],
   "source": [
    "!$HOME/opt/usr/local/bin/mpirun -np 2 ./temp"
   ]
  }
 ],
 "metadata": {
  "kernelspec": {
   "display_name": "base",
   "language": "python",
   "name": "python3"
  },
  "language_info": {
   "codemirror_mode": {
    "name": "ipython",
    "version": 3
   },
   "file_extension": ".py",
   "mimetype": "text/x-python",
   "name": "python",
   "nbconvert_exporter": "python",
   "pygments_lexer": "ipython3",
   "version": "3.10.8"
  },
  "orig_nbformat": 4
 },
 "nbformat": 4,
 "nbformat_minor": 2
}
