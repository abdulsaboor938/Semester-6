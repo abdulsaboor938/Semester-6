{
 "cells": [
  {
   "cell_type": "code",
   "execution_count": 105,
   "metadata": {},
   "outputs": [],
   "source": [
    "# this is implementation of the tokenizer program"
   ]
  },
  {
   "cell_type": "code",
   "execution_count": 106,
   "metadata": {},
   "outputs": [],
   "source": [
    "import re\n",
    "import os"
   ]
  },
  {
   "cell_type": "code",
   "execution_count": 107,
   "metadata": {},
   "outputs": [],
   "source": [
    "# delete doc_index.txt if it exists\n",
    "try:\n",
    "    os.remove(\"doc_index.txt\")\n",
    "except OSError:\n",
    "    pass"
   ]
  },
  {
   "cell_type": "code",
   "execution_count": 108,
   "metadata": {},
   "outputs": [],
   "source": [
    "# creating a dictionary for the stop words\n",
    "\n",
    "stop_words={}\n",
    "with open('Urdu stopwords.txt','r') as f:\n",
    "    for line in f:\n",
    "        stop_words[line.strip()]=1"
   ]
  },
  {
   "cell_type": "code",
   "execution_count": 109,
   "metadata": {},
   "outputs": [],
   "source": [
    "termids={} # for storing all the unique terms {term:termid}\n",
    "docids={} # for storing all the unique documents {doc:docid}"
   ]
  },
  {
   "cell_type": "code",
   "execution_count": 110,
   "metadata": {},
   "outputs": [],
   "source": [
    "# function for tokenization of a single file\n",
    "def tokenize(file):\n",
    "    \n",
    "    # opening the file\n",
    "    try:\n",
    "        with open(file, 'r') as f:\n",
    "            docid = file.split('/')[-1].split('.')[0]\n",
    "            # if not in docids then add it\n",
    "            if docid not in docids:\n",
    "                docids[docid]=len(docids)+1\n",
    "            \n",
    "            # reading the file and store in variable for further processing\n",
    "            text = f.read()\n",
    "    except FileNotFoundError:\n",
    "        return False,{}\n",
    "\n",
    "    try:\n",
    "        # only selecting text beteen <TEXT> and </TEXT>\n",
    "        text = text.split('<TEXT>')[1].split('</TEXT>')[0]\n",
    "    except IndexError:\n",
    "        pass\n",
    "    try:\n",
    "        text=text.split('comment')[0]\n",
    "    except IndexError:\n",
    "        pass\n",
    "\n",
    "    # removing all the punctuations\n",
    "    text = re.sub(r'[^\\w\\s]', '', text)\n",
    "\n",
    "    # creating a local index, dictionary of lists of positions\n",
    "    counter = 0\n",
    "    local_index = {}\n",
    "    for word in text.split():\n",
    "        word = word.strip()\n",
    "        # if word is not english\n",
    "        if not re.match(r'[a-zA-Z]', word):\n",
    "            if word not in stop_words:\n",
    "                if word not in termids:\n",
    "                    termids[word]=len(termids)+1\n",
    "                if word not in local_index:\n",
    "                    local_index[word] = []\n",
    "                local_index[word].append(counter)\n",
    "        counter+=1\n",
    "    return True,local_index"
   ]
  },
  {
   "cell_type": "code",
   "execution_count": 111,
   "metadata": {},
   "outputs": [],
   "source": [
    "for i in range(1,3000000):\n",
    "    check, tokens = tokenize(f'Documents/{i}.txt')\n",
    "    if check:\n",
    "        with open('doc_index.txt', 'a') as f:\n",
    "            for key, value in tokens.items():\n",
    "                f.write(f\"{docids[str(i)]}\\t{termids[key]}\")\n",
    "                for v in value:\n",
    "                    f.write('\\t'+str(v))\n",
    "                f.write('\\n')"
   ]
  },
  {
   "cell_type": "code",
   "execution_count": 112,
   "metadata": {},
   "outputs": [],
   "source": [
    "# storing the termids in a file\n",
    "try:\n",
    "    os.remove(\"termids.txt\")\n",
    "except OSError:\n",
    "    pass\n",
    "\n",
    "with open('termids.txt', 'w') as f:\n",
    "    for key, value in termids.items():\n",
    "        f.write(f\"{value}\\t{key}\\n\")"
   ]
  },
  {
   "cell_type": "code",
   "execution_count": 113,
   "metadata": {},
   "outputs": [],
   "source": [
    "# storing the docids in a file\n",
    "try:\n",
    "    os.remove(\"docids.txt\")\n",
    "except OSError:\n",
    "    pass\n",
    "\n",
    "with open('docids.txt', 'w') as f:\n",
    "    for key, value in docids.items():\n",
    "        f.write(f\"{value}\\t{key}\\n\")"
   ]
  }
 ],
 "metadata": {
  "kernelspec": {
   "display_name": "base",
   "language": "python",
   "name": "python3"
  },
  "language_info": {
   "codemirror_mode": {
    "name": "ipython",
    "version": 3
   },
   "file_extension": ".py",
   "mimetype": "text/x-python",
   "name": "python",
   "nbconvert_exporter": "python",
   "pygments_lexer": "ipython3",
   "version": "3.10.8"
  },
  "orig_nbformat": 4,
  "vscode": {
   "interpreter": {
    "hash": "e40199dda8da9b508830e9cbab01b6adfc3e007bf238c8282f0c8d3ce75622cc"
   }
  }
 },
 "nbformat": 4,
 "nbformat_minor": 2
}
