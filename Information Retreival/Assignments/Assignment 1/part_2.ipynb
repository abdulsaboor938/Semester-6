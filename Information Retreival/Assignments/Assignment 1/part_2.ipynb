{
 "cells": [
  {
   "cell_type": "code",
   "execution_count": 2,
   "metadata": {},
   "outputs": [],
   "source": [
    "# reading the file and creating a hashmap\n",
    "# the hashmap will have the term as key and the list of documents:index as value"
   ]
  },
  {
   "cell_type": "code",
   "execution_count": 3,
   "metadata": {},
   "outputs": [],
   "source": [
    "with open('doc_index.txt') as f:\n",
    "    content = f.readlines()"
   ]
  },
  {
   "cell_type": "code",
   "execution_count": 8,
   "metadata": {},
   "outputs": [],
   "source": [
    "# creating a dictionary of list of dictionaries where key is the term and value is the list of dictionaries as doc_id:index\n",
    "hashmap = {}\n",
    "# prev_doc_id = 0\n",
    "\n",
    "for line in content:\n",
    "    line = line.strip().split('\\t')\n",
    "    term = int(line[1])\n",
    "    doc_id = int(line[0])\n",
    "    index = line[2:]\n",
    "\n",
    "    if term not in hashmap:\n",
    "        hashmap[term] = []\n",
    "    \n",
    "    for i in index:\n",
    "        hashmap[term].append({doc_id:int(i)})"
   ]
  },
  {
   "cell_type": "code",
   "execution_count": 5,
   "metadata": {},
   "outputs": [],
   "source": [
    "# converting hashmap to delta encoding\n",
    "with open('term_info.txt', 'w') as f:\n",
    "    counter = 0\n",
    "    for key in hashmap:\n",
    "        total_docs = 0\n",
    "        prev_doc_id = 0\n",
    "        for i in range(len(hashmap[key])):\n",
    "            if [*hashmap[key][i].keys()][0] == prev_doc_id:\n",
    "                hashmap[key][i] = {0:[*hashmap[key][i].values()][0] - [*hashmap[key][i-1].values()][0]}\n",
    "                prev_doc_id = [*hashmap[key][i].keys()][0]\n",
    "            else:\n",
    "                prev_doc_id = [*hashmap[key][i].keys()][0]\n",
    "                total_docs += 1\n",
    "        counter += 1\n",
    "        f.write(f\"{key}\\t{counter}\\t{len(hashmap[key])}\\t{total_docs}\\n\")"
   ]
  },
  {
   "cell_type": "code",
   "execution_count": 6,
   "metadata": {},
   "outputs": [],
   "source": [
    "# storing the hashmap in a file\n",
    "with open('term_index.txt', 'w') as f:\n",
    "    for key in hashmap:\n",
    "        f.write(f\"{key}\\t\")\n",
    "        for i in hashmap[key]:\n",
    "            f.write(f\"{[*i.keys()][0]}:{[*i.values()][0]}\\t\")\n",
    "        f.write('\\n')"
   ]
  },
  {
   "cell_type": "code",
   "execution_count": 5,
   "metadata": {},
   "outputs": [
    {
     "name": "stdout",
     "output_type": "stream",
     "text": [
      "\n",
      "Inverted list for term: ملک\n",
      "In document: 1.txt\n",
      "TERMID: 1\n",
      "DOCID: 1\n",
      "Term frequency in document: 2\n",
      "Term positions: 0,22,\n",
      "\n"
     ]
    }
   ],
   "source": [
    "# ملک\n",
    "\n",
    "!python part_3.py --term ملک --doc 1.txt"
   ]
  }
 ],
 "metadata": {
  "kernelspec": {
   "display_name": "base",
   "language": "python",
   "name": "python3"
  },
  "language_info": {
   "codemirror_mode": {
    "name": "ipython",
    "version": 3
   },
   "file_extension": ".py",
   "mimetype": "text/x-python",
   "name": "python",
   "nbconvert_exporter": "python",
   "pygments_lexer": "ipython3",
   "version": "3.10.8"
  },
  "orig_nbformat": 4,
  "vscode": {
   "interpreter": {
    "hash": "e40199dda8da9b508830e9cbab01b6adfc3e007bf238c8282f0c8d3ce75622cc"
   }
  }
 },
 "nbformat": 4,
 "nbformat_minor": 2
}
