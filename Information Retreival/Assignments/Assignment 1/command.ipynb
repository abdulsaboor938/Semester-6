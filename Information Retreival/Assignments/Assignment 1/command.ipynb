{
 "cells": [
  {
   "cell_type": "code",
   "execution_count": 8,
   "metadata": {},
   "outputs": [
    {
     "data": {
      "text/plain": [
       "3539"
      ]
     },
     "execution_count": 8,
     "metadata": {},
     "output_type": "execute_result"
    }
   ],
   "source": [
    "with open('docids.txt') as f:\n",
    "    docids = f.read().splitlines()\n",
    "\n",
    "# storing in a dictionary\n",
    "docids_dict = {}\n",
    "for i in range(len(docids)):\n",
    "    key, val = docids[i].split('\\t')\n",
    "    docids_dict[int(val)] = int(key)\n",
    "docids_dict[515023]"
   ]
  },
  {
   "cell_type": "code",
   "execution_count": 13,
   "metadata": {},
   "outputs": [
    {
     "name": "stdout",
     "output_type": "stream",
     "text": [
      "247 129\n"
     ]
    }
   ],
   "source": [
    "import re\n",
    "\n",
    "with open('Documents/515023.txt') as f:\n",
    "    text = f.read()\n",
    "\n",
    "try:\n",
    "    # only selecting text beteen <TEXT> and </TEXT>\n",
    "    text = text.split('<TEXT>')[1].split('</TEXT>')[0]\n",
    "except IndexError:\n",
    "    pass\n",
    "try:\n",
    "    text=text.split('comment')[0]\n",
    "except IndexError:\n",
    "    pass\n",
    "\n",
    "# removing all the punctuations\n",
    "text = re.sub(r'[^\\w\\s]', '', text)\n",
    "\n",
    "arr = [i.strip() for i in text.split(' ')]\n",
    "\n",
    "print(len(arr),len(set(arr)))"
   ]
  },
  {
   "cell_type": "code",
   "execution_count": 6,
   "metadata": {},
   "outputs": [
    {
     "data": {
      "text/plain": [
       "4"
      ]
     },
     "execution_count": 6,
     "metadata": {},
     "output_type": "execute_result"
    }
   ],
   "source": [
    "arr = [1,2,2,3,3,3,3,4]\n",
    "len(set(arr))"
   ]
  },
  {
   "cell_type": "code",
   "execution_count": 40,
   "metadata": {},
   "outputs": [
    {
     "name": "stdout",
     "output_type": "stream",
     "text": [
      "listing for term: ملک\n",
      "TERMID: 1\n",
      "Number of documents containing the term: 3281\n",
      "Term frequency in corpus: 5169\n",
      "Inverted list offset: 1\n"
     ]
    }
   ],
   "source": [
    "term = 'ملک'\n",
    "\n",
    "print(f\"\\nlisting for term: {term}\")\n",
    "\n",
    "# term id\n",
    "with open('termids.txt') as f:\n",
    "    termids = f.read()\n",
    "for i in termids.splitlines():\n",
    "    key, val = i.split('\\t')\n",
    "    if val == term:\n",
    "        print(f\"TERMID: {int(key)}\")\n",
    "    break\n",
    "\n",
    "check = key\n",
    "# Number of documents containing the term\n",
    "with open('term_info.txt') as f:\n",
    "    term_info = f.read()\n",
    "\n",
    "for i in term_info.splitlines():\n",
    "    term,offset,occur,doc = i.split('\\t')\n",
    "    if term == check:\n",
    "        print(f\"Number of documents containing the term: {int(doc)}\")\n",
    "        print(f\"Term frequency in corpus: {int(occur)}\")\n",
    "        print(f\"Inverted list offset: {int(offset)}\\n\")"
   ]
  },
  {
   "cell_type": "code",
   "execution_count": 54,
   "metadata": {},
   "outputs": [
    {
     "name": "stdout",
     "output_type": "stream",
     "text": [
      "Inverted list for term: ملک\n",
      "In document: 1.txt\n",
      "TERMID: 1\n",
      "DOCID: 1\n",
      "Term frequency in document: 0\n",
      "Term positions: 0,22,\n"
     ]
    }
   ],
   "source": [
    "term = 'ملک'\n",
    "doc = '1.txt'\n",
    "\n",
    "print(f\"Inverted list for term: {term}\")\n",
    "print(f\"In document: {doc}\")\n",
    "\n",
    "# term id\n",
    "with open('termids.txt') as f:\n",
    "    termids = f.read()\n",
    "for i in termids.splitlines():\n",
    "    termid, val = i.split('\\t')\n",
    "    if val == term:\n",
    "        print(f\"TERMID: {int(termid)}\")\n",
    "    break\n",
    "\n",
    "# doc id\n",
    "doc = doc.split('.')[0]\n",
    "with open('docids.txt') as f:\n",
    "    docids = f.read()\n",
    "for i in docids.splitlines():\n",
    "    key, val = i.split('\\t')\n",
    "    if val == doc:\n",
    "        print(f\"DOCID: {int(key)}\")\n",
    "    break\n",
    "\n",
    "# frequency of term in document\n",
    "with open('doc_index.txt') as f:\n",
    "    doc_index = f.read()\n",
    "for i in doc_index.splitlines():\n",
    "    i=i.split('\\t')\n",
    "    if(i[0]==key and int(i[1]==termid)):\n",
    "        print(f\"Term frequency in document: {int(i[2])}\")\n",
    "        print(f\"Term positions: \",end='')\n",
    "        for j in i[2:]:\n",
    "            print(j,end=',')\n",
    "        print()\n",
    "        break"
   ]
  }
 ],
 "metadata": {
  "kernelspec": {
   "display_name": "Python 3",
   "language": "python",
   "name": "python3"
  },
  "language_info": {
   "codemirror_mode": {
    "name": "ipython",
    "version": 3
   },
   "file_extension": ".py",
   "mimetype": "text/x-python",
   "name": "python",
   "nbconvert_exporter": "python",
   "pygments_lexer": "ipython3",
   "version": "3.9.6"
  },
  "orig_nbformat": 4,
  "vscode": {
   "interpreter": {
    "hash": "31f2aee4e71d21fbe5cf8b01ff0e069b9275f58929596ceb00d14d90e3e16cd6"
   }
  }
 },
 "nbformat": 4,
 "nbformat_minor": 2
}
