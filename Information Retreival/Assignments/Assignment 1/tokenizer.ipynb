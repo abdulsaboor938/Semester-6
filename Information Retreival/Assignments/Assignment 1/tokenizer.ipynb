{
 "cells": [
  {
   "cell_type": "code",
   "execution_count": null,
   "metadata": {},
   "outputs": [],
   "source": [
    "# this is implementation of the tokenizer program"
   ]
  },
  {
   "cell_type": "code",
   "execution_count": 1,
   "metadata": {},
   "outputs": [],
   "source": [
    "import re"
   ]
  },
  {
   "cell_type": "code",
   "execution_count": 2,
   "metadata": {},
   "outputs": [],
   "source": [
    "# creating a dictionary for the stop words\n",
    "\n",
    "stop_words={}\n",
    "with open('Urdu stopwords.txt','r') as f:\n",
    "    for line in f:\n",
    "        stop_words[line.strip()]=1"
   ]
  },
  {
   "cell_type": "code",
   "execution_count": 5,
   "metadata": {},
   "outputs": [],
   "source": [
    "termids={} # for storing all the unique terms {term:termid}\n",
    "docids={} # for storing all the unique documents {doc:docid}"
   ]
  },
  {
   "cell_type": "code",
   "execution_count": 30,
   "metadata": {},
   "outputs": [],
   "source": [
    "# function for tokenization of a single file\n",
    "def tokenize(file):\n",
    "    \n",
    "    # opening the file\n",
    "    try:\n",
    "        with open(file, 'r') as f:\n",
    "            docid = file.split('/')[-1].split('.')[0]\n",
    "            # if not in docids then add it\n",
    "            if docid not in docids:\n",
    "                docids[docid]=len(docids)+1\n",
    "            \n",
    "            # reading the file and store in variable for further processing\n",
    "            text = f.read()\n",
    "    except FileNotFoundError:\n",
    "        return False,{}\n",
    "\n",
    "    try:\n",
    "        # only selecting text beteen <TEXT> and </TEXT>\n",
    "        text = text.split('<TEXT>')[1].split('</TEXT>')[0]\n",
    "    except IndexError:\n",
    "        pass\n",
    "    try:\n",
    "        text=text.split('comment')[0]\n",
    "    except IndexError:\n",
    "        pass\n",
    "\n",
    "    # removing all the punctuations\n",
    "    text = re.sub(r'[^\\w\\s]', '', text)\n",
    "\n",
    "    # creating a local index, dictionary of lists of positions\n",
    "    counter = 0\n",
    "    local_index = {}\n",
    "    for word in text.split():\n",
    "        word = word.strip()\n",
    "        if word not in stop_words:\n",
    "            if word not in termids:\n",
    "                termids[word]=len(termids)+1\n",
    "            if word not in local_index:\n",
    "                local_index[word] = []\n",
    "            local_index[word].append(counter)\n",
    "        counter+=1\n",
    "    return True,local_index"
   ]
  },
  {
   "cell_type": "code",
   "execution_count": 33,
   "metadata": {},
   "outputs": [
    {
     "ename": "ValueError",
     "evalue": "too many values to unpack (expected 2)",
     "output_type": "error",
     "traceback": [
      "\u001b[0;31m---------------------------------------------------------------------------\u001b[0m",
      "\u001b[0;31mValueError\u001b[0m                                Traceback (most recent call last)",
      "Cell \u001b[0;32mIn[33], line 3\u001b[0m\n\u001b[1;32m      1\u001b[0m check \u001b[39m=\u001b[39m \u001b[39mFalse\u001b[39;00m\n\u001b[1;32m      2\u001b[0m \u001b[39mfor\u001b[39;00m i \u001b[39min\u001b[39;00m \u001b[39mrange\u001b[39m(\u001b[39m1\u001b[39m,\u001b[39m2\u001b[39m):\n\u001b[0;32m----> 3\u001b[0m     check, tokens \u001b[39m=\u001b[39m tokenize(\u001b[39mf\u001b[39m\u001b[39m'\u001b[39m\u001b[39mDocuments/\u001b[39m\u001b[39m{\u001b[39;00mi\u001b[39m}\u001b[39;00m\u001b[39m.txt\u001b[39m\u001b[39m'\u001b[39m,check)\n",
      "\u001b[0;31mValueError\u001b[0m: too many values to unpack (expected 2)"
     ]
    }
   ],
   "source": [
    "check = False\n",
    "for i in range(1,2):\n",
    "    check, tokens = tokenize(f'Documents/{i}.txt')\n"
   ]
  },
  {
   "cell_type": "code",
   "execution_count": 14,
   "metadata": {},
   "outputs": [],
   "source": [
    "# storing in file\n",
    "\n",
    "with open('doc_index.txt', 'a') as f:\n",
    "    for key, value in tokens.items():\n",
    "        f.write(str(docids['2883107'])+'\\t'+str(termids[key]))\n",
    "        for i in value:\n",
    "            f.write('\\t'+str(i))\n",
    "        f.write('\\n')"
   ]
  }
 ],
 "metadata": {
  "kernelspec": {
   "display_name": "base",
   "language": "python",
   "name": "python3"
  },
  "language_info": {
   "codemirror_mode": {
    "name": "ipython",
    "version": 3
   },
   "file_extension": ".py",
   "mimetype": "text/x-python",
   "name": "python",
   "nbconvert_exporter": "python",
   "pygments_lexer": "ipython3",
   "version": "3.10.8"
  },
  "orig_nbformat": 4,
  "vscode": {
   "interpreter": {
    "hash": "e40199dda8da9b508830e9cbab01b6adfc3e007bf238c8282f0c8d3ce75622cc"
   }
  }
 },
 "nbformat": 4,
 "nbformat_minor": 2
}
