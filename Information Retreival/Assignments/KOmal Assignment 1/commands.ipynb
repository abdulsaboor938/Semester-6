{
 "cells": [
  {
   "cell_type": "code",
   "execution_count": 8,
   "metadata": {},
   "outputs": [
    {
     "name": "stdout",
     "output_type": "stream",
     "text": [
      "\n",
      "listing for document: 1\n",
      "DOCID: 1\n",
      "Distinct Terms: 111\n",
      "Total Terms: 199\n",
      "\n"
     ]
    }
   ],
   "source": [
    "!python part_3.py --doc 515023.txt"
   ]
  },
  {
   "cell_type": "code",
   "execution_count": 12,
   "metadata": {},
   "outputs": [
    {
     "name": "stdout",
     "output_type": "stream",
     "text": [
      "\n",
      "listing for document: 1\n",
      "DOCID: 1\n",
      "Distinct Terms: 111\n",
      "Total Terms: 199\n",
      "\n"
     ]
    }
   ],
   "source": [
    "!python part_3.py --doc 1.txt"
   ]
  },
  {
   "cell_type": "code",
   "execution_count": 13,
   "metadata": {},
   "outputs": [
    {
     "name": "stdout",
     "output_type": "stream",
     "text": [
      "\n",
      "listing for term: ملک\n",
      "TERMID: 0\n"
     ]
    }
   ],
   "source": [
    "!python part_3.py --term ملک"
   ]
  },
  {
   "cell_type": "code",
   "execution_count": 10,
   "metadata": {},
   "outputs": [
    {
     "name": "stdout",
     "output_type": "stream",
     "text": [
      "\n",
      "Inverted list for term: ملک\n",
      "In document: 1.txt\n",
      "TERMID: 0\n",
      "DOCID: 1\n",
      "Term frequency in document: 3\n",
      "Term positions: 0,22,,\n",
      "\n"
     ]
    }
   ],
   "source": [
    "!python part_3.py --term ملک --doc 1.txt"
   ]
  }
 ],
 "metadata": {
  "kernelspec": {
   "display_name": "base",
   "language": "python",
   "name": "python3"
  },
  "language_info": {
   "codemirror_mode": {
    "name": "ipython",
    "version": 3
   },
   "file_extension": ".py",
   "mimetype": "text/x-python",
   "name": "python",
   "nbconvert_exporter": "python",
   "pygments_lexer": "ipython3",
   "version": "3.10.8"
  },
  "orig_nbformat": 4
 },
 "nbformat": 4,
 "nbformat_minor": 2
}
