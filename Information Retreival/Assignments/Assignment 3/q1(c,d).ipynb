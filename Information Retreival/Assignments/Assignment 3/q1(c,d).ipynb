{
 "cells": [
  {
   "cell_type": "code",
   "execution_count": 370,
   "metadata": {},
   "outputs": [],
   "source": [
    "import numpy as np"
   ]
  },
  {
   "attachments": {},
   "cell_type": "markdown",
   "metadata": {},
   "source": [
    "## Part C"
   ]
  },
  {
   "cell_type": "code",
   "execution_count": 371,
   "metadata": {},
   "outputs": [],
   "source": [
    "# create a 2D array\n",
    "a = np.array([[1,1,1,1,1,1], \n",
    "              [-1,(1/3),(1/3),0,0,(1/3)],\n",
    "              [0,-1,(1/4),(1/4),(1/4),(1/4)],\n",
    "              [0,0,-1,(1/2),(1/2),0],\n",
    "              [(1/4),0,(1/4),-1,(1/4),(1/4)],\n",
    "              [(1/3),(1/3),0,0,(1/3),-1]\n",
    "              ])\n",
    "\n",
    "b = np.array([(1/6),(1/6),(1/6),(1/6),(1/6),(1/6)])"
   ]
  },
  {
   "cell_type": "code",
   "execution_count": 372,
   "metadata": {},
   "outputs": [
    {
     "name": "stdout",
     "output_type": "stream",
     "text": [
      "The number of iterations is:  10\n",
      "The final vector is:  [ 3.29102755 -0.22641666  4.38343232 -1.04113273  3.75175548  2.1557795 ]\n"
     ]
    }
   ],
   "source": [
    "count = 0\n",
    "for i in range(10):\n",
    "    count += 1\n",
    "    x = np.dot(b,a)\n",
    "    \n",
    "    # if difference between x and b is less than 0.01, break\n",
    "    # if np.allclose(x,b,atol=0.1):\n",
    "    #     break\n",
    "    b = x\n",
    "\n",
    "print(\"The number of iterations is: \", count)\n",
    "print(\"The final vector is: \", x)"
   ]
  },
  {
   "attachments": {},
   "cell_type": "markdown",
   "metadata": {},
   "source": [
    "## Part D"
   ]
  },
  {
   "cell_type": "code",
   "execution_count": 373,
   "metadata": {},
   "outputs": [
    {
     "data": {
      "text/plain": [
       "[[0, 0, 0, 1, 1, 1],\n",
       " [1, 0, 0, 0, 0, 1],\n",
       " [1, 1, 0, 1, 0, 0],\n",
       " [0, 1, 1, 0, 0, 0],\n",
       " [0, 1, 1, 1, 0, 1],\n",
       " [1, 1, 0, 1, 0, 0]]"
      ]
     },
     "execution_count": 373,
     "metadata": {},
     "output_type": "execute_result"
    }
   ],
   "source": [
    "d = 0.85\n",
    "\n",
    "pr = {1:1/6, 2:1/6, 3:1/6, 4:1/6, 5:1/6, 6:1/6}\n",
    "l = {1:1/3,2:1/4,3:1/2,4:1/4,5:1,6:1/3}\n",
    "\n",
    "mat = [\n",
    "    [0,0,0,1,1,1],\n",
    "    [1,0,0,0,0,1],\n",
    "    [1,1,0,1,0,0],\n",
    "    [0,1,1,0,0,0],\n",
    "    [0,1,1,1,0,1],\n",
    "    [1,1,0,1,0,0]\n",
    "    ]\n",
    "\n",
    "mat"
   ]
  },
  {
   "cell_type": "code",
   "execution_count": 374,
   "metadata": {},
   "outputs": [],
   "source": [
    "def pr_update():\n",
    "    temp={}\n",
    "    for j in range(1,7):\n",
    "        temp[j] = (1-d)/6 + d*(l[1]*mat[j-1][0]*pr[1] + l[2]*mat[j-1][1]*pr[2] + l[3]*mat[j-1][2]*pr[3] + l[4]*mat[j-1][3]*pr[4] + l[5]*mat[j-1][4]*pr[5] + l[6]*mat[j-1][5]*pr[6])\n",
    "\n",
    "    return temp"
   ]
  },
  {
   "cell_type": "code",
   "execution_count": 375,
   "metadata": {},
   "outputs": [],
   "source": [
    "def pr_check(temp,pr):\n",
    "    diff = {}\n",
    "    for i in range(1,7):\n",
    "        diff[i] = abs(temp[i]-pr[i])\n",
    "    for i in range(1,7):\n",
    "        if diff[i] > 0.001:\n",
    "            return False\n",
    "    return True"
   ]
  },
  {
   "cell_type": "code",
   "execution_count": 376,
   "metadata": {},
   "outputs": [
    {
     "name": "stdout",
     "output_type": "stream",
     "text": [
      "page rank after iteration 1:{1: 0.2493055555555555, 2: 0.11944444444444445, 3: 0.14305555555555555, 4: 0.13125, 5: 0.21388888888888888, 6: 0.14305555555555555}\n",
      "page rank after iteration 2:{1: 0.27522858796296296, 2: 0.13616898148148146, 3: 0.1489091435185185, 4: 0.11118055555555556, 5: 0.17960358796296294, 6: 0.1489091435185185}\n",
      "page rank after iteration 3:{1: 0.2434798418209876, 2: 0.14517235725308641, 3: 0.1555432098765432, 4: 0.11722229456018517, 5: 0.1830390866126543, 6: 0.1555432098765432}\n",
      "page rank after iteration 4:{1: 0.24956353734648273, 2: 0.1380565313143004, 3: 0.14974481869293335, 4: 0.12195499011381172, 5: 0.1909353038395383, 6: 0.14974481869293335}\n",
      "page rank after iteration 5:{1: 0.255638142292457, 2: 0.1381373675445012, 3: 0.15096211721831057, 4: 0.11797856084878551, 5: 0.18632169487763495, 6: 0.15096211721831057}\n",
      "page rank after iteration 6:{1: 0.25121648470487795, 2: 0.14020340686138413, 3: 0.15185544176643623, 4: 0.1185130904209885, 5: 0.18635613447987676, 6: 0.15185544176643623}\n",
      "page rank after iteration 7:{1: 0.25161245452284553, 2: 0.1392037125002057, 3: 0.15115525967221957, 4: 0.11933178670877953, 5: 0.18754152692372983, 6: 0.15115525967221957}\n",
      "page rank after iteration 8:{1: 0.2525956261345816, 2: 0.13911751902193512, 3: 0.1512289890300489, 4: 0.11882177426698703, 5: 0.1870071025163982, 6: 0.1512289890300489}\n"
     ]
    }
   ],
   "source": [
    "count = 1\n",
    "while(True):\n",
    "    temp = pr_update()\n",
    "    print(f'page rank after iteration {count}:{temp}')\n",
    "    count += 1\n",
    "\n",
    "    if(pr_check(temp,pr)): # to check and break if the difference is less than 0.001\n",
    "        break\n",
    "    pr = temp"
   ]
  },
  {
   "cell_type": "code",
   "execution_count": 380,
   "metadata": {},
   "outputs": [
    {
     "data": {
      "text/plain": [
       "{1: 0.25161245452284553,\n",
       " 2: 0.1392037125002057,\n",
       " 3: 0.15115525967221957,\n",
       " 4: 0.11933178670877953,\n",
       " 5: 0.18754152692372983,\n",
       " 6: 0.15115525967221957}"
      ]
     },
     "execution_count": 380,
     "metadata": {},
     "output_type": "execute_result"
    }
   ],
   "source": [
    "pr"
   ]
  }
 ],
 "metadata": {
  "kernelspec": {
   "display_name": "base",
   "language": "python",
   "name": "python3"
  },
  "language_info": {
   "codemirror_mode": {
    "name": "ipython",
    "version": 3
   },
   "file_extension": ".py",
   "mimetype": "text/x-python",
   "name": "python",
   "nbconvert_exporter": "python",
   "pygments_lexer": "ipython3",
   "version": "3.10.8"
  },
  "orig_nbformat": 4
 },
 "nbformat": 4,
 "nbformat_minor": 2
}
