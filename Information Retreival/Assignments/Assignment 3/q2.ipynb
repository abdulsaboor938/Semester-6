{
 "cells": [
  {
   "cell_type": "code",
   "execution_count": 139,
   "metadata": {},
   "outputs": [],
   "source": [
    "# reading the data\n",
    "with open('wt2g_inlinks', 'r') as f:\n",
    "    inlinks = f.readlines()\n",
    "\n",
    "# inlinks"
   ]
  },
  {
   "cell_type": "code",
   "execution_count": 140,
   "metadata": {},
   "outputs": [],
   "source": [
    "# creating a dictionary of inlinks\n",
    "inlinks_dict = {}\n",
    "for line in inlinks:\n",
    "    line = line.split()\n",
    "    inlinks_dict[line[0]] = line[1:]\n",
    "\n",
    "# inlinks_dict"
   ]
  },
  {
   "cell_type": "code",
   "execution_count": 141,
   "metadata": {},
   "outputs": [],
   "source": [
    "# creating a dictionary of sink nodes\n",
    "sink_nodes = {}\n",
    "for key in inlinks_dict.keys():\n",
    "    if len(inlinks_dict[key]) == 0:\n",
    "        sink_nodes[key] = 0\n",
    "\n",
    "# sink_nodes"
   ]
  },
  {
   "cell_type": "code",
   "execution_count": 142,
   "metadata": {},
   "outputs": [],
   "source": [
    "# creating a dictionary of page ranks\n",
    "page_ranks = {}\n",
    "for key in inlinks_dict.keys():\n",
    "    page_ranks[key] = 1/len(inlinks_dict.keys())\n",
    "\n",
    "# page_ranks"
   ]
  },
  {
   "cell_type": "code",
   "execution_count": 143,
   "metadata": {},
   "outputs": [],
   "source": [
    "# creating a dictionary of outlinks\n",
    "outlinks = {}\n",
    "for key in inlinks_dict.keys():\n",
    "    for value in inlinks_dict[key]:\n",
    "        if value in outlinks.keys():\n",
    "            outlinks[value].append(key)\n",
    "        else:\n",
    "            outlinks[value] = [key]\n",
    "\n",
    "# outlinks"
   ]
  },
  {
   "cell_type": "code",
   "execution_count": 144,
   "metadata": {},
   "outputs": [],
   "source": [
    "# creating a dictionary of dangling nodes\n",
    "dangling_nodes = {}\n",
    "for key in outlinks.keys():\n",
    "    if key not in inlinks_dict.keys():\n",
    "        dangling_nodes[key] = 0\n",
    "\n",
    "# dangling_nodes"
   ]
  },
  {
   "cell_type": "code",
   "execution_count": 145,
   "metadata": {},
   "outputs": [],
   "source": [
    "# implementing the page rank algorithm\n",
    "for i in range(0, 101):\n",
    "    for key in page_ranks.keys():\n",
    "        temp = 0.15/len(page_ranks.keys())\n",
    "        temp += 0.85*sum([page_ranks[value]/len(outlinks[value]) for value in inlinks_dict[key]])\n",
    "        temp += 0.85*sum([page_ranks[value]/len(outlinks[value]) for value in dangling_nodes.keys()])/len(page_ranks.keys())\n",
    "        page_ranks[key] = temp\n",
    "\n",
    "    # save page_ranks to files if i is 1,10 or 100\n",
    "    if i == 1 or i == 10 or i == 100:\n",
    "        with open('q2_'+str(i)+'.txt', 'w') as f:\n",
    "            for key in page_ranks.keys():\n",
    "                f.write(key + ' ' + str(page_ranks[key]) + '\\n')"
   ]
  },
  {
   "cell_type": "code",
   "execution_count": 146,
   "metadata": {},
   "outputs": [
    {
     "name": "stdout",
     "output_type": "stream",
     "text": [
      "574.1314957076585\n",
      "574.1314959895019\n",
      "574.1314960744631\n"
     ]
    }
   ],
   "source": [
    "# calculating the perplexity\n",
    "import math\n",
    "perplexity = []\n",
    "for i in range(0, 101):\n",
    "    perplexity.append(math.pow(2, sum([-page_ranks[key]*math.log2(page_ranks[key]) for key in page_ranks.keys()])))\n",
    "    for key in page_ranks.keys():\n",
    "        temp = 0.15/len(page_ranks.keys())\n",
    "        temp += 0.85*sum([page_ranks[value]/len(outlinks[value]) for value in inlinks_dict[key]])\n",
    "        temp += 0.85*sum([page_ranks[value]/len(outlinks[value]) for value in dangling_nodes.keys()])/len(page_ranks.keys())\n",
    "        page_ranks[key] = temp\n",
    "\n",
    "    # print the perplexity if i is 1,10 or 100\n",
    "    if i == 1 or i == 10 or i == 100:\n",
    "        print(perplexity[-1])"
   ]
  },
  {
   "cell_type": "code",
   "execution_count": 147,
   "metadata": {},
   "outputs": [
    {
     "name": "stdout",
     "output_type": "stream",
     "text": [
      "('WT21-B37-76', 0.0014513384131696488)\n",
      "('WT21-B37-75', 0.0008265334385299016)\n",
      "('WT25-B39-116', 0.0007959759004498566)\n",
      "('WT23-B21-53', 0.0007433422826447269)\n",
      "('WT24-B40-171', 0.000674392137294138)\n",
      "('WT23-B39-340', 0.0006719005856076197)\n",
      "('WT23-B37-134', 0.0006528246305253966)\n",
      "('WT08-B18-400', 0.0006194146079111728)\n",
      "('WT13-B06-284', 0.000609249797967669)\n",
      "('WT24-B26-46', 0.0005877279582603501)\n"
     ]
    }
   ],
   "source": [
    "# sorting the page ranks and printing the top 10 pages\n",
    "sorted_page_ranks = sorted(page_ranks.items(), key=lambda kv: kv[1], reverse=True)\n",
    "for i in range(0, 10):\n",
    "    print(sorted_page_ranks[i])"
   ]
  }
 ],
 "metadata": {
  "kernelspec": {
   "display_name": "base",
   "language": "python",
   "name": "python3"
  },
  "language_info": {
   "codemirror_mode": {
    "name": "ipython",
    "version": 3
   },
   "file_extension": ".py",
   "mimetype": "text/x-python",
   "name": "python",
   "nbconvert_exporter": "python",
   "pygments_lexer": "ipython3",
   "version": "3.10.8"
  },
  "orig_nbformat": 4
 },
 "nbformat": 4,
 "nbformat_minor": 2
}
