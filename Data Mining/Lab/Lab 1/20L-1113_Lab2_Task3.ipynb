{
 "cells": [
  {
   "cell_type": "code",
   "execution_count": 1,
   "metadata": {},
   "outputs": [
    {
     "name": "stdout",
     "output_type": "stream",
     "text": [
      "Length of the set is: 6\n",
      "Union of test1 and test2 is {0, 1, 2, 3, 4, 5, 6, 8}\n",
      "Intersection of test1 and test2 is {2, 4}\n",
      "Difference of test1 and test2 is {0, 8, 6}\n",
      "Symmetric difference of test1 and test2 is {0, 1, 3, 5, 6, 8}\n",
      "Maximum value in test is 5\n",
      "Minimum value in test is 0\n",
      "Shallow copy of test is {0, 1, 2, 3, 4, 5}\n",
      "Is test a subset of test1? False\n",
      "Is test a subset of test2? False\n",
      "test after clearing all elements: set()\n",
      "Do test1 and test2 have no elements in common? False\n",
      "Is test1 a superset of itself? True\n",
      "Is test1 a superset of test2? False\n"
     ]
    }
   ],
   "source": [
    "# Question 1\n",
    "\n",
    "test = set([0, 1, 2, 3, 4, 5])\n",
    "\n",
    "# a) Find the length of a set\n",
    "print(\"Length of the set is:\", len(test))\n",
    "\n",
    "# b) apply all sets operations and print the results\n",
    "test1 = set([0, 2, 4, 6, 8])\n",
    "test2 = set([1, 2, 3, 4, 5])\n",
    "print(\"Union of test1 and test2 is\", test1.union(test2))\n",
    "print(\"Intersection of test1 and test2 is\", test1.intersection(test2))\n",
    "print(\"Difference of test1 and test2 is\", test1.difference(test2))\n",
    "print(\"Symmetric difference of test1 and test2 is\", test1.symmetric_difference(test2))\n",
    "\n",
    "# c) find maximum and the minimum value in a set\n",
    "print(\"Maximum value in test is\", max(test))\n",
    "print(\"Minimum value in test is\", min(test))\n",
    "\n",
    "# d) create a shallow copy of sets\n",
    "test3 = test.copy()\n",
    "print(\"Shallow copy of test is\", test3)\n",
    "\n",
    "# e) check if a set is a subset of another set\n",
    "print(\"Is test a subset of test1?\", test.issubset(test1))\n",
    "print(\"Is test a subset of test2?\", test.issubset(test2))\n",
    "\n",
    "# f) remove all elements from a given set\n",
    "test.clear()\n",
    "print(\"test after clearing all elements:\", test)\n",
    "\n",
    "# g) check if two given sets have no elements in common\n",
    "print(\"Do test1 and test2 have no elements in common?\", test1.isdisjoint(test2))\n",
    "\n",
    "# h) check if a given set is superset of itself and superset of another given set.\n",
    "print(\"Is test1 a superset of itself?\", test1.issuperset(test1))\n",
    "print(\"Is test1 a superset of test2?\", test1.issuperset(test2))"
   ]
  },
  {
   "cell_type": "code",
   "execution_count": 3,
   "metadata": {},
   "outputs": [
    {
     "name": "stdout",
     "output_type": "stream",
     "text": [
      "Sum of the two numbers is: 4\n",
      "Product of the two numbers is: 4\n",
      "Division of the two numbers is: 1.0\n"
     ]
    }
   ],
   "source": [
    "# Write a program to add, mul, divide two numbers x and y.Take the values from the user.\n",
    "# Implement exception handling technique(try..except clause) for handling possible\n",
    "# exceptions in the scenario.\n",
    "\n",
    "# a) Add two numbers\n",
    "try:\n",
    "    x = int(input(\"Enter the first number: \"))\n",
    "    y = int(input(\"Enter the second number: \"))\n",
    "    print(\"Sum of the two numbers is:\", x + y)\n",
    "except ValueError:\n",
    "    print(\"Please enter a valid number\")\n",
    "\n",
    "# b) Multiply two numbers\n",
    "try:\n",
    "    x = int(input(\"Enter the first number: \"))\n",
    "    y = int(input(\"Enter the second number: \"))\n",
    "    print(\"Product of the two numbers is:\", x * y)\n",
    "except ValueError:\n",
    "    print(\"Please enter a valid number\")\n",
    "\n",
    "# c) Divide two numbers\n",
    "try:\n",
    "    x = int(input(\"Enter the first number: \"))\n",
    "    y = int(input(\"Enter the second number: \"))\n",
    "    print(\"Division of the two numbers is:\", x / y)\n",
    "except ValueError:\n",
    "    print(\"Please enter a valid number\")\n",
    "except ZeroDivisionError:\n",
    "    print(\"Division by zero is not possible\")"
   ]
  },
  {
   "cell_type": "code",
   "execution_count": 6,
   "metadata": {},
   "outputs": [
    {
     "name": "stdout",
     "output_type": "stream",
     "text": [
      "abcdefghijklmnopqrstuvwxyz\n"
     ]
    }
   ],
   "source": [
    "# Design a code which reads text from the file “Alphabets.txt” and stores its data in\n",
    "# reverse order in another file. For this you may upload the given text file on Google\n",
    "# Collab’s session and define the path as: file_path= ‘/Alphabets.txt’.The same convention\n",
    "# can be followed for defining path of the resultant file (reversed text file).\n",
    "\n",
    "# a) Read text from the file\n",
    "file_path = 'Alphabets.txt'\n",
    "with open(file_path, 'r') as f:\n",
    "    data = f.read()\n",
    "    print(data)\n",
    "\n",
    "# b) Store data in reverse order in another file\n",
    "with open(file_path, 'w') as f:\n",
    "    f.write(data[::-1])"
   ]
  },
  {
   "cell_type": "code",
   "execution_count": 9,
   "metadata": {},
   "outputs": [
    {
     "name": "stdout",
     "output_type": "stream",
     "text": [
      "A or a: 4\n",
      "M or m: 2\n"
     ]
    }
   ],
   "source": [
    "# Write a function AMCount() in Python, which should read each character of a text file\n",
    "# STORY.TXT, should count and display the occurrence of alphabets A and M (including\n",
    "# small cases a and m too).\n",
    "# For Example:\n",
    "# If the file content is as follows:\n",
    "# “Updated information As simplified by official websites.”\n",
    "# The function should display the output as:\n",
    "# A or a: 4\n",
    "# M or m: 2\n",
    "\n",
    "def AMCount():\n",
    "    with open('STORY.txt', 'r') as f:\n",
    "        data = f.read()\n",
    "        print(\"A or a:\", data.count('A') + data.count('a'))\n",
    "        print(\"M or m:\", data.count('M') + data.count('m'))\n",
    "\n",
    "AMCount()"
   ]
  },
  {
   "cell_type": "code",
   "execution_count": 12,
   "metadata": {},
   "outputs": [
    {
     "name": "stdout",
     "output_type": "stream",
     "text": [
      "1\n",
      "2\n",
      "3\n",
      "4\n",
      "5\n"
     ]
    }
   ],
   "source": [
    "# Create an iterator that returns numbers, starting with 1, and each sequence will increase\n",
    "# by one (returning 1,2,3,4,5 etc.):\n",
    "\n",
    "class MyIterator:\n",
    "    def __iter__(self):\n",
    "        self.a = 1\n",
    "        return self\n",
    "\n",
    "    def __next__(self):\n",
    "        x = self.a\n",
    "        self.a += 1\n",
    "        return x\n",
    "    \n",
    "myclass = MyIterator()\n",
    "myiter = iter(myclass)\n",
    "\n",
    "print(next(myiter))\n",
    "print(next(myiter))\n",
    "print(next(myiter))\n",
    "print(next(myiter))\n",
    "print(next(myiter))"
   ]
  }
 ],
 "metadata": {
  "kernelspec": {
   "display_name": "Python 3",
   "language": "python",
   "name": "python3"
  },
  "language_info": {
   "codemirror_mode": {
    "name": "ipython",
    "version": 3
   },
   "file_extension": ".py",
   "mimetype": "text/x-python",
   "name": "python",
   "nbconvert_exporter": "python",
   "pygments_lexer": "ipython3",
   "version": "3.10.4"
  },
  "orig_nbformat": 4,
  "vscode": {
   "interpreter": {
    "hash": "3ad933181bd8a04b432d3370b9dc3b0662ad032c4dfaa4e4f1596c548f763858"
   }
  }
 },
 "nbformat": 4,
 "nbformat_minor": 2
}
