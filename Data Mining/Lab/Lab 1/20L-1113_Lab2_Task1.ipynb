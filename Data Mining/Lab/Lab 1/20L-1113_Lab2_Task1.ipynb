{
  "cells": [
    {
      "cell_type": "markdown",
      "metadata": {
        "id": "Rafzbiva9s9l"
      },
      "source": [
        "# Question 1: \n",
        "Ask user to give two float input for length and breadth of a rectangle and print area type casted to int."
      ]
    },
    {
      "cell_type": "code",
      "execution_count": 2,
      "metadata": {},
      "outputs": [
        {
          "name": "stdout",
          "output_type": "stream",
          "text": [
            "Area of rectangle is:  8\n"
          ]
        }
      ],
      "source": [
        "x = float(input(\"Enter length of rectangle: \"))\n",
        "y = float(input(\"Enter breadth of rectangle: \"))\n",
        "print(\"Area of rectangle is: \", int(x*y))"
      ]
    },
    {
      "cell_type": "markdown",
      "metadata": {
        "id": "5xIrriST9yU2"
      },
      "source": [
        "# Question 2:\n",
        "Take name, roll number and GPA from user and print in the below format:\n",
        "\n",
        "My name is xyz and my roll number is xyz. My GPA is xyz"
      ]
    },
    {
      "cell_type": "code",
      "execution_count": 3,
      "metadata": {},
      "outputs": [
        {
          "name": "stdout",
          "output_type": "stream",
          "text": [
            "My name is saboor and my roll number is 1113 and my GPA is 3.5\n"
          ]
        }
      ],
      "source": [
        "name = input(\"Enter name: \")\n",
        "rollno = input(\"Enter roll number: \")\n",
        "gpa = float(input(\"Enter GPA: \"))\n",
        "print(f\"My name is {name} and my roll number is {rollno} and my GPA is {gpa}\")"
      ]
    },
    {
      "cell_type": "markdown",
      "metadata": {
        "id": "-66paRIF93MN"
      },
      "source": [
        "# Question3\n",
        "\n",
        "Store three integers in x, y and z. Print their sum and product."
      ]
    },
    {
      "cell_type": "code",
      "execution_count": 5,
      "metadata": {},
      "outputs": [
        {
          "name": "stdout",
          "output_type": "stream",
          "text": [
            "sum of 1, 2 and 3 is 6 and product is 6\n"
          ]
        }
      ],
      "source": [
        "x = int(input(\"Enter first number: \"))\n",
        "y = int(input(\"Enter second number: \"))\n",
        "z = int(input(\"Enter third number: \"))\n",
        "print(f\"sum of {x}, {y} and {z} is {x+y+z} and product is {(x*y*z)}\")"
      ]
    },
    {
      "cell_type": "markdown",
      "metadata": {
        "id": "NkaVo3oH983q"
      },
      "source": [
        "#Question4\n",
        "\n",
        "Suppose passing marks of a subject is 35. Take input of marks from user and check whether it is greater than passing marks or not"
      ]
    },
    {
      "cell_type": "code",
      "execution_count": null,
      "metadata": {},
      "outputs": [],
      "source": [
        "x = int(input(\"Input marks\"))\n",
        "if x >= 35:\n",
        "    print(\"Pass\")\n",
        "else:\n",
        "    print(\"Fail\")"
      ]
    },
    {
      "cell_type": "markdown",
      "metadata": {
        "id": "gqdC1LCZ-CPW"
      },
      "source": [
        "# Question5\n",
        "\n",
        "A school has following rules for grading system:\n",
        "\n",
        "1. Below 45 - F\n",
        "2. 45 to 49 - D\n",
        "3. 50 to 59 - C\n",
        "4. 60 to 79 - B\n",
        "5. 80 or above - A\n",
        "Ask user to enter marks and print the corresponding grade."
      ]
    },
    {
      "cell_type": "code",
      "execution_count": 7,
      "metadata": {},
      "outputs": [
        {
          "name": "stdout",
          "output_type": "stream",
          "text": [
            "C\n"
          ]
        }
      ],
      "source": [
        "x = int(input(\"Enter marks: \"))\n",
        "if x < 45:\n",
        "    print(\"F\")\n",
        "elif (x>44 and x<50):\n",
        "    print('D')\n",
        "elif (x>49 and x<60):\n",
        "    print('C')\n",
        "elif (x>59 and x<80):\n",
        "    print('B')\n",
        "elif x>79:\n",
        "    print('A')"
      ]
    },
    {
      "cell_type": "markdown",
      "metadata": {
        "id": "cwL--Q8Z-IUH"
      },
      "source": [
        "# Question6\n",
        "\n",
        "Print all elements of a list using for loop."
      ]
    },
    {
      "cell_type": "code",
      "execution_count": 9,
      "metadata": {},
      "outputs": [
        {
          "name": "stdout",
          "output_type": "stream",
          "text": [
            "1,2,3,4,5,6,7,8,9,"
          ]
        }
      ],
      "source": [
        "arr = [1,2,3,4,5,6,7,8,9]\n",
        "for i in range(len(arr)):\n",
        "    print(arr[i],end=',')"
      ]
    },
    {
      "cell_type": "markdown",
      "metadata": {
        "id": "Cj4M_9My-OR1"
      },
      "source": [
        "# Question7\n",
        "\n",
        "Take 5 integers from user using for loop and print their sum on the screen."
      ]
    },
    {
      "cell_type": "code",
      "execution_count": 11,
      "metadata": {},
      "outputs": [
        {
          "name": "stdout",
          "output_type": "stream",
          "text": [
            "Sum of all 5 integers is 15\n"
          ]
        }
      ],
      "source": [
        "sum = 0\n",
        "for i in range(5):\n",
        "    sum += int(input(f\"Enter integer {i+1}: \"))\n",
        "print(f\"Sum of all 5 integers is {sum}\")"
      ]
    },
    {
      "cell_type": "markdown",
      "metadata": {
        "id": "kXc90fFA-Zn6"
      },
      "source": [
        "# Question8\n",
        "\n",
        "Take 5 integers from user using while loop and print their sum on the screen."
      ]
    },
    {
      "cell_type": "code",
      "execution_count": 12,
      "metadata": {},
      "outputs": [
        {
          "name": "stdout",
          "output_type": "stream",
          "text": [
            "Sum of all 5 integers is 15\n"
          ]
        }
      ],
      "source": [
        "count = 0\n",
        "sum = 0\n",
        "while(count<5):\n",
        "    sum += int(input(f\"Enter integer {count+1}: \"))\n",
        "    count += 1\n",
        "print(f\"Sum of all 5 integers is {sum}\")"
      ]
    },
    {
      "cell_type": "markdown",
      "metadata": {
        "id": "Dunx-Qpe-iVx"
      },
      "source": [
        "#Question9\n",
        "\n",
        "Take two integer numbers from the user, return their product only if the product is equal to or lower than 1000, else return their sum."
      ]
    },
    {
      "cell_type": "code",
      "execution_count": null,
      "metadata": {},
      "outputs": [],
      "source": [
        "x = int(input(f\"Enter first Number: \"))\n",
        "y = int(input(f\"Enter second Number: \"))\n",
        "if((x*y)<1001):\n",
        "    print(f\"The product of both numbers is: {x*y}\")\n",
        "else:\n",
        "    print(f\"The sum of both numbers is: {x+y}\")"
      ]
    }
  ],
  "metadata": {
    "colab": {
      "provenance": []
    },
    "kernelspec": {
      "display_name": "Python 3",
      "language": "python",
      "name": "python3"
    },
    "language_info": {
      "codemirror_mode": {
        "name": "ipython",
        "version": 3
      },
      "file_extension": ".py",
      "mimetype": "text/x-python",
      "name": "python",
      "nbconvert_exporter": "python",
      "pygments_lexer": "ipython3",
      "version": "3.9.6"
    },
    "vscode": {
      "interpreter": {
        "hash": "31f2aee4e71d21fbe5cf8b01ff0e069b9275f58929596ceb00d14d90e3e16cd6"
      }
    }
  },
  "nbformat": 4,
  "nbformat_minor": 0
}
