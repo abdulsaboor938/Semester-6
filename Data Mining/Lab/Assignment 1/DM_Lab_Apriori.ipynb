{
  "cells": [
    {
      "cell_type": "code",
      "execution_count": 160,
      "metadata": {
        "colab": {
          "base_uri": "https://localhost:8080/"
        },
        "id": "3HPwvtSADJDD",
        "outputId": "07cbcd2d-981a-42f2-ac0a-28b16d82d26e"
      },
      "outputs": [],
      "source": [
        "# !pip install pandas\n",
        "# !pip install numpy\n",
        "# !pip install plotly\n",
        "# !pip install networkx\n",
        "# !pip install matplotlib"
      ]
    },
    {
      "cell_type": "code",
      "execution_count": 161,
      "metadata": {
        "colab": {
          "base_uri": "https://localhost:8080/"
        },
        "id": "YEGGYQDZDLyT",
        "outputId": "d997d665-5346-47ab-c2c2-e890d5ad060d"
      },
      "outputs": [],
      "source": [
        "# importing module\n",
        "import pandas as pd\n",
        "import numpy as np\n",
        "# # dataset\n",
        "# dataset = pd.read_csv(\"Market_Basket_Optimisation.csv\")\n",
        "# # printing the shape of the dataset\n",
        "# dataset.shape"
      ]
    },
    {
      "cell_type": "code",
      "execution_count": 162,
      "metadata": {
        "colab": {
          "base_uri": "https://localhost:8080/"
        },
        "id": "wHjTFQcIDk9t",
        "outputId": "35f6a885-51f8-4f20-cdba-08717f60183a"
      },
      "outputs": [],
      "source": [
        "# # importing module\n",
        "# import numpy as np\n",
        "# # Gather All Items of Each Transactions into Numpy Array\n",
        "# transaction = []\n",
        "# for i in range(0, dataset.shape[0]):\n",
        "#     for j in range(0, dataset.shape[1]):\n",
        "#         transaction.append(dataset.values[i,j])\n",
        "# # converting to numpy array\n",
        "# transaction = np.array(transaction)\n",
        "# # saving the transaction array\n",
        "# np.save('transaction.npy', transaction)\n",
        "# print(transaction)"
      ]
    },
    {
      "cell_type": "code",
      "execution_count": 163,
      "metadata": {},
      "outputs": [],
      "source": [
        "# loading from teh temporary file\n",
        "transaction = np.load('transaction.npy')"
      ]
    },
    {
      "cell_type": "code",
      "execution_count": 164,
      "metadata": {
        "colab": {
          "base_uri": "https://localhost:8080/",
          "height": 206
        },
        "id": "lTJnIMWzDrhH",
        "outputId": "5f9e3556-4ccd-4591-f61d-cb465d63f428"
      },
      "outputs": [
        {
          "data": {
            "text/html": [
              "<style type=\"text/css\">\n",
              "#T_eaf61_row0_col1 {\n",
              "  background-color: #08306b;\n",
              "  color: #f1f1f1;\n",
              "}\n",
              "#T_eaf61_row1_col1 {\n",
              "  background-color: #cde0f1;\n",
              "  color: #000000;\n",
              "}\n",
              "#T_eaf61_row2_col1 {\n",
              "  background-color: #dceaf6;\n",
              "  color: #000000;\n",
              "}\n",
              "#T_eaf61_row3_col1 {\n",
              "  background-color: #e5eff9;\n",
              "  color: #000000;\n",
              "}\n",
              "#T_eaf61_row4_col1 {\n",
              "  background-color: #f7fbff;\n",
              "  color: #000000;\n",
              "}\n",
              "</style>\n",
              "<table id=\"T_eaf61\">\n",
              "  <thead>\n",
              "    <tr>\n",
              "      <th class=\"blank level0\" >&nbsp;</th>\n",
              "      <th id=\"T_eaf61_level0_col0\" class=\"col_heading level0 col0\" >items</th>\n",
              "      <th id=\"T_eaf61_level0_col1\" class=\"col_heading level0 col1\" >incident_count</th>\n",
              "    </tr>\n",
              "  </thead>\n",
              "  <tbody>\n",
              "    <tr>\n",
              "      <th id=\"T_eaf61_level0_row0\" class=\"row_heading level0 row0\" >0</th>\n",
              "      <td id=\"T_eaf61_row0_col0\" class=\"data row0 col0\" >mineral water</td>\n",
              "      <td id=\"T_eaf61_row0_col1\" class=\"data row0 col1\" >1787</td>\n",
              "    </tr>\n",
              "    <tr>\n",
              "      <th id=\"T_eaf61_level0_row1\" class=\"row_heading level0 row1\" >1</th>\n",
              "      <td id=\"T_eaf61_row1_col0\" class=\"data row1 col0\" >eggs</td>\n",
              "      <td id=\"T_eaf61_row1_col1\" class=\"data row1 col1\" >1348</td>\n",
              "    </tr>\n",
              "    <tr>\n",
              "      <th id=\"T_eaf61_level0_row2\" class=\"row_heading level0 row2\" >2</th>\n",
              "      <td id=\"T_eaf61_row2_col0\" class=\"data row2 col0\" >spaghetti</td>\n",
              "      <td id=\"T_eaf61_row2_col1\" class=\"data row2 col1\" >1306</td>\n",
              "    </tr>\n",
              "    <tr>\n",
              "      <th id=\"T_eaf61_level0_row3\" class=\"row_heading level0 row3\" >3</th>\n",
              "      <td id=\"T_eaf61_row3_col0\" class=\"data row3 col0\" >french fries</td>\n",
              "      <td id=\"T_eaf61_row3_col1\" class=\"data row3 col1\" >1282</td>\n",
              "    </tr>\n",
              "    <tr>\n",
              "      <th id=\"T_eaf61_level0_row4\" class=\"row_heading level0 row4\" >4</th>\n",
              "      <td id=\"T_eaf61_row4_col0\" class=\"data row4 col0\" >chocolate</td>\n",
              "      <td id=\"T_eaf61_row4_col1\" class=\"data row4 col1\" >1230</td>\n",
              "    </tr>\n",
              "  </tbody>\n",
              "</table>\n"
            ],
            "text/plain": [
              "<pandas.io.formats.style.Styler at 0x14699dcf0>"
            ]
          },
          "execution_count": 164,
          "metadata": {},
          "output_type": "execute_result"
        }
      ],
      "source": [
        "#  Transform Them a Pandas DataFrame\n",
        "df = pd.DataFrame(transaction, columns=[\"items\"]) \n",
        "# Put 1 to Each Item For Making Countable Table, to be able to perform Group By\n",
        "df[\"incident_count\"] = 1 \n",
        "#  Delete NaN Items from Dataset\n",
        "indexNames = df[df['items'] == \"nan\" ].index\n",
        "df.drop(indexNames , inplace=True)\n",
        "# Making a New Appropriate Pandas DataFrame for Visualizations  \n",
        "df_table = df.groupby(\"items\").sum().sort_values(\"incident_count\", ascending=False).reset_index()\n",
        "#  Initial Visualizations\n",
        "df_table.head(5).style.background_gradient(cmap='Blues')"
      ]
    },
    {
      "cell_type": "code",
      "execution_count": 165,
      "metadata": {
        "colab": {
          "base_uri": "https://localhost:8080/",
          "height": 631
        },
        "id": "wMvSHUAZDvUF",
        "outputId": "deb7c439-d00a-4394-eff1-189504657c98"
      },
      "outputs": [
        {
          "data": {
            "application/vnd.plotly.v1+json": {
              "config": {
                "plotlyServerURL": "https://plot.ly"
              },
              "data": [
                {
                  "branchvalues": "total",
                  "customdata": [
                    [
                      "avocado",
                      249
                    ],
                    [
                      "brownies",
                      253
                    ],
                    [
                      "burgers",
                      654
                    ],
                    [
                      "butter",
                      226
                    ],
                    [
                      "cake",
                      608
                    ],
                    [
                      "cereals",
                      193
                    ],
                    [
                      "champagne",
                      351
                    ],
                    [
                      "chicken",
                      450
                    ],
                    [
                      "chocolate",
                      1230
                    ],
                    [
                      "cookies",
                      603
                    ],
                    [
                      "cooking oil",
                      383
                    ],
                    [
                      "cottage cheese",
                      238
                    ],
                    [
                      "eggs",
                      1348
                    ],
                    [
                      "energy bar",
                      203
                    ],
                    [
                      "energy drink",
                      199
                    ],
                    [
                      "escalope",
                      595
                    ],
                    [
                      "french fries",
                      1282
                    ],
                    [
                      "french wine",
                      169
                    ],
                    [
                      "fresh bread",
                      323
                    ],
                    [
                      "fresh tuna",
                      167
                    ],
                    [
                      "frozen smoothie",
                      474
                    ],
                    [
                      "frozen vegetables",
                      715
                    ],
                    [
                      "grated cheese",
                      393
                    ],
                    [
                      "green tea",
                      990
                    ],
                    [
                      "ground beef",
                      737
                    ],
                    [
                      "ham",
                      203
                    ],
                    [
                      "herb & pepper",
                      371
                    ],
                    [
                      "honey",
                      355
                    ],
                    [
                      "hot dogs",
                      243
                    ],
                    [
                      "light mayo",
                      204
                    ],
                    [
                      "low fat yogurt",
                      573
                    ],
                    [
                      "milk",
                      972
                    ],
                    [
                      "mineral water",
                      1787
                    ],
                    [
                      "muffins",
                      181
                    ],
                    [
                      "oil",
                      173
                    ],
                    [
                      "olive oil",
                      493
                    ],
                    [
                      "pancakes",
                      713
                    ],
                    [
                      "pepper",
                      199
                    ],
                    [
                      "red wine",
                      211
                    ],
                    [
                      "salmon",
                      318
                    ],
                    [
                      "shrimp",
                      535
                    ],
                    [
                      "soup",
                      379
                    ],
                    [
                      "spaghetti",
                      1306
                    ],
                    [
                      "tomato juice",
                      227
                    ],
                    [
                      "tomatoes",
                      513
                    ],
                    [
                      "turkey",
                      469
                    ],
                    [
                      "vegetables mix",
                      192
                    ],
                    [
                      "whole wheat pasta",
                      221
                    ],
                    [
                      "whole wheat rice",
                      439
                    ],
                    [
                      "yogurt cake",
                      205
                    ],
                    [
                      "(?)",
                      764.8014276973282
                    ]
                  ],
                  "domain": {
                    "x": [
                      0,
                      1
                    ],
                    "y": [
                      0,
                      1
                    ]
                  },
                  "hovertemplate": "labels=%{label}<br>incident_count=%{value}<br>parent=%{parent}<br>id=%{id}<br>items=%{customdata[0]}<br>color=%{color}<extra></extra>",
                  "ids": [
                    "Top 50 items/avocado",
                    "Top 50 items/brownies",
                    "Top 50 items/burgers",
                    "Top 50 items/butter",
                    "Top 50 items/cake",
                    "Top 50 items/cereals",
                    "Top 50 items/champagne",
                    "Top 50 items/chicken",
                    "Top 50 items/chocolate",
                    "Top 50 items/cookies",
                    "Top 50 items/cooking oil",
                    "Top 50 items/cottage cheese",
                    "Top 50 items/eggs",
                    "Top 50 items/energy bar",
                    "Top 50 items/energy drink",
                    "Top 50 items/escalope",
                    "Top 50 items/french fries",
                    "Top 50 items/french wine",
                    "Top 50 items/fresh bread",
                    "Top 50 items/fresh tuna",
                    "Top 50 items/frozen smoothie",
                    "Top 50 items/frozen vegetables",
                    "Top 50 items/grated cheese",
                    "Top 50 items/green tea",
                    "Top 50 items/ground beef",
                    "Top 50 items/ham",
                    "Top 50 items/herb & pepper",
                    "Top 50 items/honey",
                    "Top 50 items/hot dogs",
                    "Top 50 items/light mayo",
                    "Top 50 items/low fat yogurt",
                    "Top 50 items/milk",
                    "Top 50 items/mineral water",
                    "Top 50 items/muffins",
                    "Top 50 items/oil",
                    "Top 50 items/olive oil",
                    "Top 50 items/pancakes",
                    "Top 50 items/pepper",
                    "Top 50 items/red wine",
                    "Top 50 items/salmon",
                    "Top 50 items/shrimp",
                    "Top 50 items/soup",
                    "Top 50 items/spaghetti",
                    "Top 50 items/tomato juice",
                    "Top 50 items/tomatoes",
                    "Top 50 items/turkey",
                    "Top 50 items/vegetables mix",
                    "Top 50 items/whole wheat pasta",
                    "Top 50 items/whole wheat rice",
                    "Top 50 items/yogurt cake",
                    "Top 50 items"
                  ],
                  "labels": [
                    "avocado",
                    "brownies",
                    "burgers",
                    "butter",
                    "cake",
                    "cereals",
                    "champagne",
                    "chicken",
                    "chocolate",
                    "cookies",
                    "cooking oil",
                    "cottage cheese",
                    "eggs",
                    "energy bar",
                    "energy drink",
                    "escalope",
                    "french fries",
                    "french wine",
                    "fresh bread",
                    "fresh tuna",
                    "frozen smoothie",
                    "frozen vegetables",
                    "grated cheese",
                    "green tea",
                    "ground beef",
                    "ham",
                    "herb & pepper",
                    "honey",
                    "hot dogs",
                    "light mayo",
                    "low fat yogurt",
                    "milk",
                    "mineral water",
                    "muffins",
                    "oil",
                    "olive oil",
                    "pancakes",
                    "pepper",
                    "red wine",
                    "salmon",
                    "shrimp",
                    "soup",
                    "spaghetti",
                    "tomato juice",
                    "tomatoes",
                    "turkey",
                    "vegetables mix",
                    "whole wheat pasta",
                    "whole wheat rice",
                    "yogurt cake",
                    "Top 50 items"
                  ],
                  "marker": {
                    "coloraxis": "coloraxis",
                    "colors": [
                      249,
                      253,
                      654,
                      226,
                      608,
                      193,
                      351,
                      450,
                      1230,
                      603,
                      383,
                      238,
                      1348,
                      203,
                      199,
                      595,
                      1282,
                      169,
                      323,
                      167,
                      474,
                      715,
                      393,
                      990,
                      737,
                      203,
                      371,
                      355,
                      243,
                      204,
                      573,
                      972,
                      1787,
                      181,
                      173,
                      493,
                      713,
                      199,
                      211,
                      318,
                      535,
                      379,
                      1306,
                      227,
                      513,
                      469,
                      192,
                      221,
                      439,
                      205,
                      764.8014276973282
                    ]
                  },
                  "name": "",
                  "parents": [
                    "Top 50 items",
                    "Top 50 items",
                    "Top 50 items",
                    "Top 50 items",
                    "Top 50 items",
                    "Top 50 items",
                    "Top 50 items",
                    "Top 50 items",
                    "Top 50 items",
                    "Top 50 items",
                    "Top 50 items",
                    "Top 50 items",
                    "Top 50 items",
                    "Top 50 items",
                    "Top 50 items",
                    "Top 50 items",
                    "Top 50 items",
                    "Top 50 items",
                    "Top 50 items",
                    "Top 50 items",
                    "Top 50 items",
                    "Top 50 items",
                    "Top 50 items",
                    "Top 50 items",
                    "Top 50 items",
                    "Top 50 items",
                    "Top 50 items",
                    "Top 50 items",
                    "Top 50 items",
                    "Top 50 items",
                    "Top 50 items",
                    "Top 50 items",
                    "Top 50 items",
                    "Top 50 items",
                    "Top 50 items",
                    "Top 50 items",
                    "Top 50 items",
                    "Top 50 items",
                    "Top 50 items",
                    "Top 50 items",
                    "Top 50 items",
                    "Top 50 items",
                    "Top 50 items",
                    "Top 50 items",
                    "Top 50 items",
                    "Top 50 items",
                    "Top 50 items",
                    "Top 50 items",
                    "Top 50 items",
                    "Top 50 items",
                    ""
                  ],
                  "type": "treemap",
                  "values": [
                    249,
                    253,
                    654,
                    226,
                    608,
                    193,
                    351,
                    450,
                    1230,
                    603,
                    383,
                    238,
                    1348,
                    203,
                    199,
                    595,
                    1282,
                    169,
                    323,
                    167,
                    474,
                    715,
                    393,
                    990,
                    737,
                    203,
                    371,
                    355,
                    243,
                    204,
                    573,
                    972,
                    1787,
                    181,
                    173,
                    493,
                    713,
                    199,
                    211,
                    318,
                    535,
                    379,
                    1306,
                    227,
                    513,
                    469,
                    192,
                    221,
                    439,
                    205,
                    24515
                  ]
                }
              ],
              "layout": {
                "coloraxis": {
                  "colorbar": {
                    "title": {
                      "text": "color"
                    }
                  },
                  "colorscale": [
                    [
                      0,
                      "rgb(247,251,255)"
                    ],
                    [
                      0.125,
                      "rgb(222,235,247)"
                    ],
                    [
                      0.25,
                      "rgb(198,219,239)"
                    ],
                    [
                      0.375,
                      "rgb(158,202,225)"
                    ],
                    [
                      0.5,
                      "rgb(107,174,214)"
                    ],
                    [
                      0.625,
                      "rgb(66,146,198)"
                    ],
                    [
                      0.75,
                      "rgb(33,113,181)"
                    ],
                    [
                      0.875,
                      "rgb(8,81,156)"
                    ],
                    [
                      1,
                      "rgb(8,48,107)"
                    ]
                  ]
                },
                "legend": {
                  "tracegroupgap": 0
                },
                "margin": {
                  "t": 60
                },
                "template": {
                  "data": {
                    "bar": [
                      {
                        "error_x": {
                          "color": "#2a3f5f"
                        },
                        "error_y": {
                          "color": "#2a3f5f"
                        },
                        "marker": {
                          "line": {
                            "color": "#E5ECF6",
                            "width": 0.5
                          },
                          "pattern": {
                            "fillmode": "overlay",
                            "size": 10,
                            "solidity": 0.2
                          }
                        },
                        "type": "bar"
                      }
                    ],
                    "barpolar": [
                      {
                        "marker": {
                          "line": {
                            "color": "#E5ECF6",
                            "width": 0.5
                          },
                          "pattern": {
                            "fillmode": "overlay",
                            "size": 10,
                            "solidity": 0.2
                          }
                        },
                        "type": "barpolar"
                      }
                    ],
                    "carpet": [
                      {
                        "aaxis": {
                          "endlinecolor": "#2a3f5f",
                          "gridcolor": "white",
                          "linecolor": "white",
                          "minorgridcolor": "white",
                          "startlinecolor": "#2a3f5f"
                        },
                        "baxis": {
                          "endlinecolor": "#2a3f5f",
                          "gridcolor": "white",
                          "linecolor": "white",
                          "minorgridcolor": "white",
                          "startlinecolor": "#2a3f5f"
                        },
                        "type": "carpet"
                      }
                    ],
                    "choropleth": [
                      {
                        "colorbar": {
                          "outlinewidth": 0,
                          "ticks": ""
                        },
                        "type": "choropleth"
                      }
                    ],
                    "contour": [
                      {
                        "colorbar": {
                          "outlinewidth": 0,
                          "ticks": ""
                        },
                        "colorscale": [
                          [
                            0,
                            "#0d0887"
                          ],
                          [
                            0.1111111111111111,
                            "#46039f"
                          ],
                          [
                            0.2222222222222222,
                            "#7201a8"
                          ],
                          [
                            0.3333333333333333,
                            "#9c179e"
                          ],
                          [
                            0.4444444444444444,
                            "#bd3786"
                          ],
                          [
                            0.5555555555555556,
                            "#d8576b"
                          ],
                          [
                            0.6666666666666666,
                            "#ed7953"
                          ],
                          [
                            0.7777777777777778,
                            "#fb9f3a"
                          ],
                          [
                            0.8888888888888888,
                            "#fdca26"
                          ],
                          [
                            1,
                            "#f0f921"
                          ]
                        ],
                        "type": "contour"
                      }
                    ],
                    "contourcarpet": [
                      {
                        "colorbar": {
                          "outlinewidth": 0,
                          "ticks": ""
                        },
                        "type": "contourcarpet"
                      }
                    ],
                    "heatmap": [
                      {
                        "colorbar": {
                          "outlinewidth": 0,
                          "ticks": ""
                        },
                        "colorscale": [
                          [
                            0,
                            "#0d0887"
                          ],
                          [
                            0.1111111111111111,
                            "#46039f"
                          ],
                          [
                            0.2222222222222222,
                            "#7201a8"
                          ],
                          [
                            0.3333333333333333,
                            "#9c179e"
                          ],
                          [
                            0.4444444444444444,
                            "#bd3786"
                          ],
                          [
                            0.5555555555555556,
                            "#d8576b"
                          ],
                          [
                            0.6666666666666666,
                            "#ed7953"
                          ],
                          [
                            0.7777777777777778,
                            "#fb9f3a"
                          ],
                          [
                            0.8888888888888888,
                            "#fdca26"
                          ],
                          [
                            1,
                            "#f0f921"
                          ]
                        ],
                        "type": "heatmap"
                      }
                    ],
                    "heatmapgl": [
                      {
                        "colorbar": {
                          "outlinewidth": 0,
                          "ticks": ""
                        },
                        "colorscale": [
                          [
                            0,
                            "#0d0887"
                          ],
                          [
                            0.1111111111111111,
                            "#46039f"
                          ],
                          [
                            0.2222222222222222,
                            "#7201a8"
                          ],
                          [
                            0.3333333333333333,
                            "#9c179e"
                          ],
                          [
                            0.4444444444444444,
                            "#bd3786"
                          ],
                          [
                            0.5555555555555556,
                            "#d8576b"
                          ],
                          [
                            0.6666666666666666,
                            "#ed7953"
                          ],
                          [
                            0.7777777777777778,
                            "#fb9f3a"
                          ],
                          [
                            0.8888888888888888,
                            "#fdca26"
                          ],
                          [
                            1,
                            "#f0f921"
                          ]
                        ],
                        "type": "heatmapgl"
                      }
                    ],
                    "histogram": [
                      {
                        "marker": {
                          "pattern": {
                            "fillmode": "overlay",
                            "size": 10,
                            "solidity": 0.2
                          }
                        },
                        "type": "histogram"
                      }
                    ],
                    "histogram2d": [
                      {
                        "colorbar": {
                          "outlinewidth": 0,
                          "ticks": ""
                        },
                        "colorscale": [
                          [
                            0,
                            "#0d0887"
                          ],
                          [
                            0.1111111111111111,
                            "#46039f"
                          ],
                          [
                            0.2222222222222222,
                            "#7201a8"
                          ],
                          [
                            0.3333333333333333,
                            "#9c179e"
                          ],
                          [
                            0.4444444444444444,
                            "#bd3786"
                          ],
                          [
                            0.5555555555555556,
                            "#d8576b"
                          ],
                          [
                            0.6666666666666666,
                            "#ed7953"
                          ],
                          [
                            0.7777777777777778,
                            "#fb9f3a"
                          ],
                          [
                            0.8888888888888888,
                            "#fdca26"
                          ],
                          [
                            1,
                            "#f0f921"
                          ]
                        ],
                        "type": "histogram2d"
                      }
                    ],
                    "histogram2dcontour": [
                      {
                        "colorbar": {
                          "outlinewidth": 0,
                          "ticks": ""
                        },
                        "colorscale": [
                          [
                            0,
                            "#0d0887"
                          ],
                          [
                            0.1111111111111111,
                            "#46039f"
                          ],
                          [
                            0.2222222222222222,
                            "#7201a8"
                          ],
                          [
                            0.3333333333333333,
                            "#9c179e"
                          ],
                          [
                            0.4444444444444444,
                            "#bd3786"
                          ],
                          [
                            0.5555555555555556,
                            "#d8576b"
                          ],
                          [
                            0.6666666666666666,
                            "#ed7953"
                          ],
                          [
                            0.7777777777777778,
                            "#fb9f3a"
                          ],
                          [
                            0.8888888888888888,
                            "#fdca26"
                          ],
                          [
                            1,
                            "#f0f921"
                          ]
                        ],
                        "type": "histogram2dcontour"
                      }
                    ],
                    "mesh3d": [
                      {
                        "colorbar": {
                          "outlinewidth": 0,
                          "ticks": ""
                        },
                        "type": "mesh3d"
                      }
                    ],
                    "parcoords": [
                      {
                        "line": {
                          "colorbar": {
                            "outlinewidth": 0,
                            "ticks": ""
                          }
                        },
                        "type": "parcoords"
                      }
                    ],
                    "pie": [
                      {
                        "automargin": true,
                        "type": "pie"
                      }
                    ],
                    "scatter": [
                      {
                        "fillpattern": {
                          "fillmode": "overlay",
                          "size": 10,
                          "solidity": 0.2
                        },
                        "type": "scatter"
                      }
                    ],
                    "scatter3d": [
                      {
                        "line": {
                          "colorbar": {
                            "outlinewidth": 0,
                            "ticks": ""
                          }
                        },
                        "marker": {
                          "colorbar": {
                            "outlinewidth": 0,
                            "ticks": ""
                          }
                        },
                        "type": "scatter3d"
                      }
                    ],
                    "scattercarpet": [
                      {
                        "marker": {
                          "colorbar": {
                            "outlinewidth": 0,
                            "ticks": ""
                          }
                        },
                        "type": "scattercarpet"
                      }
                    ],
                    "scattergeo": [
                      {
                        "marker": {
                          "colorbar": {
                            "outlinewidth": 0,
                            "ticks": ""
                          }
                        },
                        "type": "scattergeo"
                      }
                    ],
                    "scattergl": [
                      {
                        "marker": {
                          "colorbar": {
                            "outlinewidth": 0,
                            "ticks": ""
                          }
                        },
                        "type": "scattergl"
                      }
                    ],
                    "scattermapbox": [
                      {
                        "marker": {
                          "colorbar": {
                            "outlinewidth": 0,
                            "ticks": ""
                          }
                        },
                        "type": "scattermapbox"
                      }
                    ],
                    "scatterpolar": [
                      {
                        "marker": {
                          "colorbar": {
                            "outlinewidth": 0,
                            "ticks": ""
                          }
                        },
                        "type": "scatterpolar"
                      }
                    ],
                    "scatterpolargl": [
                      {
                        "marker": {
                          "colorbar": {
                            "outlinewidth": 0,
                            "ticks": ""
                          }
                        },
                        "type": "scatterpolargl"
                      }
                    ],
                    "scatterternary": [
                      {
                        "marker": {
                          "colorbar": {
                            "outlinewidth": 0,
                            "ticks": ""
                          }
                        },
                        "type": "scatterternary"
                      }
                    ],
                    "surface": [
                      {
                        "colorbar": {
                          "outlinewidth": 0,
                          "ticks": ""
                        },
                        "colorscale": [
                          [
                            0,
                            "#0d0887"
                          ],
                          [
                            0.1111111111111111,
                            "#46039f"
                          ],
                          [
                            0.2222222222222222,
                            "#7201a8"
                          ],
                          [
                            0.3333333333333333,
                            "#9c179e"
                          ],
                          [
                            0.4444444444444444,
                            "#bd3786"
                          ],
                          [
                            0.5555555555555556,
                            "#d8576b"
                          ],
                          [
                            0.6666666666666666,
                            "#ed7953"
                          ],
                          [
                            0.7777777777777778,
                            "#fb9f3a"
                          ],
                          [
                            0.8888888888888888,
                            "#fdca26"
                          ],
                          [
                            1,
                            "#f0f921"
                          ]
                        ],
                        "type": "surface"
                      }
                    ],
                    "table": [
                      {
                        "cells": {
                          "fill": {
                            "color": "#EBF0F8"
                          },
                          "line": {
                            "color": "white"
                          }
                        },
                        "header": {
                          "fill": {
                            "color": "#C8D4E3"
                          },
                          "line": {
                            "color": "white"
                          }
                        },
                        "type": "table"
                      }
                    ]
                  },
                  "layout": {
                    "annotationdefaults": {
                      "arrowcolor": "#2a3f5f",
                      "arrowhead": 0,
                      "arrowwidth": 1
                    },
                    "autotypenumbers": "strict",
                    "coloraxis": {
                      "colorbar": {
                        "outlinewidth": 0,
                        "ticks": ""
                      }
                    },
                    "colorscale": {
                      "diverging": [
                        [
                          0,
                          "#8e0152"
                        ],
                        [
                          0.1,
                          "#c51b7d"
                        ],
                        [
                          0.2,
                          "#de77ae"
                        ],
                        [
                          0.3,
                          "#f1b6da"
                        ],
                        [
                          0.4,
                          "#fde0ef"
                        ],
                        [
                          0.5,
                          "#f7f7f7"
                        ],
                        [
                          0.6,
                          "#e6f5d0"
                        ],
                        [
                          0.7,
                          "#b8e186"
                        ],
                        [
                          0.8,
                          "#7fbc41"
                        ],
                        [
                          0.9,
                          "#4d9221"
                        ],
                        [
                          1,
                          "#276419"
                        ]
                      ],
                      "sequential": [
                        [
                          0,
                          "#0d0887"
                        ],
                        [
                          0.1111111111111111,
                          "#46039f"
                        ],
                        [
                          0.2222222222222222,
                          "#7201a8"
                        ],
                        [
                          0.3333333333333333,
                          "#9c179e"
                        ],
                        [
                          0.4444444444444444,
                          "#bd3786"
                        ],
                        [
                          0.5555555555555556,
                          "#d8576b"
                        ],
                        [
                          0.6666666666666666,
                          "#ed7953"
                        ],
                        [
                          0.7777777777777778,
                          "#fb9f3a"
                        ],
                        [
                          0.8888888888888888,
                          "#fdca26"
                        ],
                        [
                          1,
                          "#f0f921"
                        ]
                      ],
                      "sequentialminus": [
                        [
                          0,
                          "#0d0887"
                        ],
                        [
                          0.1111111111111111,
                          "#46039f"
                        ],
                        [
                          0.2222222222222222,
                          "#7201a8"
                        ],
                        [
                          0.3333333333333333,
                          "#9c179e"
                        ],
                        [
                          0.4444444444444444,
                          "#bd3786"
                        ],
                        [
                          0.5555555555555556,
                          "#d8576b"
                        ],
                        [
                          0.6666666666666666,
                          "#ed7953"
                        ],
                        [
                          0.7777777777777778,
                          "#fb9f3a"
                        ],
                        [
                          0.8888888888888888,
                          "#fdca26"
                        ],
                        [
                          1,
                          "#f0f921"
                        ]
                      ]
                    },
                    "colorway": [
                      "#636efa",
                      "#EF553B",
                      "#00cc96",
                      "#ab63fa",
                      "#FFA15A",
                      "#19d3f3",
                      "#FF6692",
                      "#B6E880",
                      "#FF97FF",
                      "#FECB52"
                    ],
                    "font": {
                      "color": "#2a3f5f"
                    },
                    "geo": {
                      "bgcolor": "white",
                      "lakecolor": "white",
                      "landcolor": "#E5ECF6",
                      "showlakes": true,
                      "showland": true,
                      "subunitcolor": "white"
                    },
                    "hoverlabel": {
                      "align": "left"
                    },
                    "hovermode": "closest",
                    "mapbox": {
                      "style": "light"
                    },
                    "paper_bgcolor": "white",
                    "plot_bgcolor": "#E5ECF6",
                    "polar": {
                      "angularaxis": {
                        "gridcolor": "white",
                        "linecolor": "white",
                        "ticks": ""
                      },
                      "bgcolor": "#E5ECF6",
                      "radialaxis": {
                        "gridcolor": "white",
                        "linecolor": "white",
                        "ticks": ""
                      }
                    },
                    "scene": {
                      "xaxis": {
                        "backgroundcolor": "#E5ECF6",
                        "gridcolor": "white",
                        "gridwidth": 2,
                        "linecolor": "white",
                        "showbackground": true,
                        "ticks": "",
                        "zerolinecolor": "white"
                      },
                      "yaxis": {
                        "backgroundcolor": "#E5ECF6",
                        "gridcolor": "white",
                        "gridwidth": 2,
                        "linecolor": "white",
                        "showbackground": true,
                        "ticks": "",
                        "zerolinecolor": "white"
                      },
                      "zaxis": {
                        "backgroundcolor": "#E5ECF6",
                        "gridcolor": "white",
                        "gridwidth": 2,
                        "linecolor": "white",
                        "showbackground": true,
                        "ticks": "",
                        "zerolinecolor": "white"
                      }
                    },
                    "shapedefaults": {
                      "line": {
                        "color": "#2a3f5f"
                      }
                    },
                    "ternary": {
                      "aaxis": {
                        "gridcolor": "white",
                        "linecolor": "white",
                        "ticks": ""
                      },
                      "baxis": {
                        "gridcolor": "white",
                        "linecolor": "white",
                        "ticks": ""
                      },
                      "bgcolor": "#E5ECF6",
                      "caxis": {
                        "gridcolor": "white",
                        "linecolor": "white",
                        "ticks": ""
                      }
                    },
                    "title": {
                      "x": 0.05
                    },
                    "xaxis": {
                      "automargin": true,
                      "gridcolor": "white",
                      "linecolor": "white",
                      "ticks": "",
                      "title": {
                        "standoff": 15
                      },
                      "zerolinecolor": "white",
                      "zerolinewidth": 2
                    },
                    "yaxis": {
                      "automargin": true,
                      "gridcolor": "white",
                      "linecolor": "white",
                      "ticks": "",
                      "title": {
                        "standoff": 15
                      },
                      "zerolinecolor": "white",
                      "zerolinewidth": 2
                    }
                  }
                }
              }
            }
          },
          "metadata": {},
          "output_type": "display_data"
        }
      ],
      "source": [
        "# importing required module\n",
        "import plotly.express as px\n",
        "# to have a same origin\n",
        "df_table[\"all\"] = \"Top 50 items\" \n",
        "# creating tree map using plotly\n",
        "fig = px.treemap(df_table.head(50), path=['all', \"items\"], values='incident_count',\n",
        "                  color=df_table[\"incident_count\"].head(50), hover_data=['items'],\n",
        "                  color_continuous_scale='Blues',\n",
        "                )\n",
        "# ploting the treemap\n",
        "fig.show()"
      ]
    },
    {
      "cell_type": "code",
      "execution_count": 166,
      "metadata": {
        "id": "WEVwgsifDypt"
      },
      "outputs": [],
      "source": [
        "# #  Transform Every Transaction to Seperate List & Gather Them into Numpy Array\n",
        "# transaction = []\n",
        "# for i in range(dataset.shape[0]):\n",
        "#     transaction.append([str(dataset.values[i,j]) for j in range(dataset.shape[1])])\n",
        "# # creating the numpy array of the transactions\n",
        "# transaction = np.array(transaction)\n",
        "\n",
        "# # saving the transaction array\n",
        "# np.save('transaction1.npy', transaction)"
      ]
    },
    {
      "cell_type": "code",
      "execution_count": 167,
      "metadata": {},
      "outputs": [],
      "source": [
        "# loading from teh temporary file\n",
        "transaction = np.load('transaction1.npy')"
      ]
    },
    {
      "cell_type": "code",
      "execution_count": 168,
      "metadata": {
        "colab": {
          "base_uri": "https://localhost:8080/",
          "height": 314
        },
        "id": "d61mVxHlD2A8",
        "outputId": "d2584aee-6045-4cc0-a565-0ba6a2ae8090"
      },
      "outputs": [
        {
          "data": {
            "text/html": [
              "<div>\n",
              "<style scoped>\n",
              "    .dataframe tbody tr th:only-of-type {\n",
              "        vertical-align: middle;\n",
              "    }\n",
              "\n",
              "    .dataframe tbody tr th {\n",
              "        vertical-align: top;\n",
              "    }\n",
              "\n",
              "    .dataframe thead th {\n",
              "        text-align: right;\n",
              "    }\n",
              "</style>\n",
              "<table border=\"1\" class=\"dataframe\">\n",
              "  <thead>\n",
              "    <tr style=\"text-align: right;\">\n",
              "      <th></th>\n",
              "      <th>asparagus</th>\n",
              "      <th>almonds</th>\n",
              "      <th>antioxydant juice</th>\n",
              "      <th>asparagus</th>\n",
              "      <th>avocado</th>\n",
              "      <th>babies food</th>\n",
              "      <th>bacon</th>\n",
              "      <th>barbecue sauce</th>\n",
              "      <th>black tea</th>\n",
              "      <th>blueberries</th>\n",
              "      <th>...</th>\n",
              "      <th>turkey</th>\n",
              "      <th>vegetables mix</th>\n",
              "      <th>water spray</th>\n",
              "      <th>white wine</th>\n",
              "      <th>whole weat flour</th>\n",
              "      <th>whole wheat pasta</th>\n",
              "      <th>whole wheat rice</th>\n",
              "      <th>yams</th>\n",
              "      <th>yogurt cake</th>\n",
              "      <th>zucchini</th>\n",
              "    </tr>\n",
              "  </thead>\n",
              "  <tbody>\n",
              "    <tr>\n",
              "      <th>0</th>\n",
              "      <td>False</td>\n",
              "      <td>False</td>\n",
              "      <td>False</td>\n",
              "      <td>False</td>\n",
              "      <td>False</td>\n",
              "      <td>False</td>\n",
              "      <td>False</td>\n",
              "      <td>False</td>\n",
              "      <td>False</td>\n",
              "      <td>False</td>\n",
              "      <td>...</td>\n",
              "      <td>False</td>\n",
              "      <td>False</td>\n",
              "      <td>False</td>\n",
              "      <td>False</td>\n",
              "      <td>False</td>\n",
              "      <td>False</td>\n",
              "      <td>False</td>\n",
              "      <td>False</td>\n",
              "      <td>False</td>\n",
              "      <td>False</td>\n",
              "    </tr>\n",
              "    <tr>\n",
              "      <th>1</th>\n",
              "      <td>False</td>\n",
              "      <td>False</td>\n",
              "      <td>False</td>\n",
              "      <td>False</td>\n",
              "      <td>False</td>\n",
              "      <td>False</td>\n",
              "      <td>False</td>\n",
              "      <td>False</td>\n",
              "      <td>False</td>\n",
              "      <td>False</td>\n",
              "      <td>...</td>\n",
              "      <td>False</td>\n",
              "      <td>False</td>\n",
              "      <td>False</td>\n",
              "      <td>False</td>\n",
              "      <td>False</td>\n",
              "      <td>False</td>\n",
              "      <td>False</td>\n",
              "      <td>False</td>\n",
              "      <td>False</td>\n",
              "      <td>False</td>\n",
              "    </tr>\n",
              "    <tr>\n",
              "      <th>2</th>\n",
              "      <td>False</td>\n",
              "      <td>False</td>\n",
              "      <td>False</td>\n",
              "      <td>False</td>\n",
              "      <td>True</td>\n",
              "      <td>False</td>\n",
              "      <td>False</td>\n",
              "      <td>False</td>\n",
              "      <td>False</td>\n",
              "      <td>False</td>\n",
              "      <td>...</td>\n",
              "      <td>True</td>\n",
              "      <td>False</td>\n",
              "      <td>False</td>\n",
              "      <td>False</td>\n",
              "      <td>False</td>\n",
              "      <td>False</td>\n",
              "      <td>False</td>\n",
              "      <td>False</td>\n",
              "      <td>False</td>\n",
              "      <td>False</td>\n",
              "    </tr>\n",
              "    <tr>\n",
              "      <th>3</th>\n",
              "      <td>False</td>\n",
              "      <td>False</td>\n",
              "      <td>False</td>\n",
              "      <td>False</td>\n",
              "      <td>False</td>\n",
              "      <td>False</td>\n",
              "      <td>False</td>\n",
              "      <td>False</td>\n",
              "      <td>False</td>\n",
              "      <td>False</td>\n",
              "      <td>...</td>\n",
              "      <td>False</td>\n",
              "      <td>False</td>\n",
              "      <td>False</td>\n",
              "      <td>False</td>\n",
              "      <td>False</td>\n",
              "      <td>False</td>\n",
              "      <td>True</td>\n",
              "      <td>False</td>\n",
              "      <td>False</td>\n",
              "      <td>False</td>\n",
              "    </tr>\n",
              "    <tr>\n",
              "      <th>4</th>\n",
              "      <td>False</td>\n",
              "      <td>False</td>\n",
              "      <td>False</td>\n",
              "      <td>False</td>\n",
              "      <td>False</td>\n",
              "      <td>False</td>\n",
              "      <td>False</td>\n",
              "      <td>False</td>\n",
              "      <td>False</td>\n",
              "      <td>False</td>\n",
              "      <td>...</td>\n",
              "      <td>False</td>\n",
              "      <td>False</td>\n",
              "      <td>False</td>\n",
              "      <td>False</td>\n",
              "      <td>False</td>\n",
              "      <td>False</td>\n",
              "      <td>False</td>\n",
              "      <td>False</td>\n",
              "      <td>False</td>\n",
              "      <td>False</td>\n",
              "    </tr>\n",
              "  </tbody>\n",
              "</table>\n",
              "<p>5 rows × 121 columns</p>\n",
              "</div>"
            ],
            "text/plain": [
              "    asparagus  almonds  antioxydant juice  asparagus  avocado  babies food  \\\n",
              "0       False    False              False      False    False        False   \n",
              "1       False    False              False      False    False        False   \n",
              "2       False    False              False      False     True        False   \n",
              "3       False    False              False      False    False        False   \n",
              "4       False    False              False      False    False        False   \n",
              "\n",
              "   bacon  barbecue sauce  black tea  blueberries  ...  turkey  vegetables mix  \\\n",
              "0  False           False      False        False  ...   False           False   \n",
              "1  False           False      False        False  ...   False           False   \n",
              "2  False           False      False        False  ...    True           False   \n",
              "3  False           False      False        False  ...   False           False   \n",
              "4  False           False      False        False  ...   False           False   \n",
              "\n",
              "   water spray  white wine  whole weat flour  whole wheat pasta  \\\n",
              "0        False       False             False              False   \n",
              "1        False       False             False              False   \n",
              "2        False       False             False              False   \n",
              "3        False       False             False              False   \n",
              "4        False       False             False              False   \n",
              "\n",
              "   whole wheat rice   yams  yogurt cake  zucchini  \n",
              "0             False  False        False     False  \n",
              "1             False  False        False     False  \n",
              "2             False  False        False     False  \n",
              "3              True  False        False     False  \n",
              "4             False  False        False     False  \n",
              "\n",
              "[5 rows x 121 columns]"
            ]
          },
          "execution_count": 168,
          "metadata": {},
          "output_type": "execute_result"
        }
      ],
      "source": [
        "# importing the required module\n",
        "from mlxtend.preprocessing import TransactionEncoder\n",
        "# initializing the transactionEncoder\n",
        "te = TransactionEncoder()\n",
        "te_ary = te.fit(transaction).transform(transaction)\n",
        "dataset = pd.DataFrame(te_ary, columns=te.columns_)\n",
        "# dataset after encoded\n",
        "dataset.head()"
      ]
    },
    {
      "cell_type": "code",
      "execution_count": 169,
      "metadata": {
        "colab": {
          "base_uri": "https://localhost:8080/"
        },
        "id": "Vw1tqb05D7kY",
        "outputId": "69843425-3ef0-4f48-8f0a-a95fcdf7526a"
      },
      "outputs": [
        {
          "data": {
            "text/plain": [
              "(7500, 30)"
            ]
          },
          "execution_count": 169,
          "metadata": {},
          "output_type": "execute_result"
        }
      ],
      "source": [
        "# select top 30 items\n",
        "first30 = df_table[\"items\"].head(30).values \n",
        "# Extract Top 30\n",
        "dataset = dataset.loc[:,first30] \n",
        "# shape of the dataset\n",
        "dataset.shape"
      ]
    },
    {
      "cell_type": "code",
      "execution_count": 170,
      "metadata": {
        "colab": {
          "base_uri": "https://localhost:8080/",
          "height": 423
        },
        "id": "OrCztFbMD_xB",
        "outputId": "cf6186f5-9dec-4720-8b02-19f1cdd338fb"
      },
      "outputs": [
        {
          "data": {
            "text/html": [
              "<div>\n",
              "<style scoped>\n",
              "    .dataframe tbody tr th:only-of-type {\n",
              "        vertical-align: middle;\n",
              "    }\n",
              "\n",
              "    .dataframe tbody tr th {\n",
              "        vertical-align: top;\n",
              "    }\n",
              "\n",
              "    .dataframe thead th {\n",
              "        text-align: right;\n",
              "    }\n",
              "</style>\n",
              "<table border=\"1\" class=\"dataframe\">\n",
              "  <thead>\n",
              "    <tr style=\"text-align: right;\">\n",
              "      <th></th>\n",
              "      <th>support</th>\n",
              "      <th>itemsets</th>\n",
              "      <th>length</th>\n",
              "    </tr>\n",
              "  </thead>\n",
              "  <tbody>\n",
              "    <tr>\n",
              "      <th>0</th>\n",
              "      <td>0.238267</td>\n",
              "      <td>(mineral water)</td>\n",
              "      <td>1</td>\n",
              "    </tr>\n",
              "    <tr>\n",
              "      <th>1</th>\n",
              "      <td>0.179733</td>\n",
              "      <td>(eggs)</td>\n",
              "      <td>1</td>\n",
              "    </tr>\n",
              "    <tr>\n",
              "      <th>2</th>\n",
              "      <td>0.174133</td>\n",
              "      <td>(spaghetti)</td>\n",
              "      <td>1</td>\n",
              "    </tr>\n",
              "    <tr>\n",
              "      <th>3</th>\n",
              "      <td>0.170933</td>\n",
              "      <td>(french fries)</td>\n",
              "      <td>1</td>\n",
              "    </tr>\n",
              "    <tr>\n",
              "      <th>4</th>\n",
              "      <td>0.163867</td>\n",
              "      <td>(chocolate)</td>\n",
              "      <td>1</td>\n",
              "    </tr>\n",
              "    <tr>\n",
              "      <th>...</th>\n",
              "      <td>...</td>\n",
              "      <td>...</td>\n",
              "      <td>...</td>\n",
              "    </tr>\n",
              "    <tr>\n",
              "      <th>205</th>\n",
              "      <td>0.010933</td>\n",
              "      <td>(ground beef, chocolate, mineral water)</td>\n",
              "      <td>3</td>\n",
              "    </tr>\n",
              "    <tr>\n",
              "      <th>206</th>\n",
              "      <td>0.011067</td>\n",
              "      <td>(milk, ground beef, mineral water)</td>\n",
              "      <td>3</td>\n",
              "    </tr>\n",
              "    <tr>\n",
              "      <th>207</th>\n",
              "      <td>0.011067</td>\n",
              "      <td>(milk, frozen vegetables, mineral water)</td>\n",
              "      <td>3</td>\n",
              "    </tr>\n",
              "    <tr>\n",
              "      <th>208</th>\n",
              "      <td>0.010533</td>\n",
              "      <td>(eggs, spaghetti, chocolate)</td>\n",
              "      <td>3</td>\n",
              "    </tr>\n",
              "    <tr>\n",
              "      <th>209</th>\n",
              "      <td>0.010933</td>\n",
              "      <td>(spaghetti, chocolate, milk)</td>\n",
              "      <td>3</td>\n",
              "    </tr>\n",
              "  </tbody>\n",
              "</table>\n",
              "<p>210 rows × 3 columns</p>\n",
              "</div>"
            ],
            "text/plain": [
              "      support                                  itemsets  length\n",
              "0    0.238267                           (mineral water)       1\n",
              "1    0.179733                                    (eggs)       1\n",
              "2    0.174133                               (spaghetti)       1\n",
              "3    0.170933                            (french fries)       1\n",
              "4    0.163867                               (chocolate)       1\n",
              "..        ...                                       ...     ...\n",
              "205  0.010933   (ground beef, chocolate, mineral water)       3\n",
              "206  0.011067        (milk, ground beef, mineral water)       3\n",
              "207  0.011067  (milk, frozen vegetables, mineral water)       3\n",
              "208  0.010533              (eggs, spaghetti, chocolate)       3\n",
              "209  0.010933              (spaghetti, chocolate, milk)       3\n",
              "\n",
              "[210 rows x 3 columns]"
            ]
          },
          "execution_count": 170,
          "metadata": {},
          "output_type": "execute_result"
        }
      ],
      "source": [
        "from mlxtend.frequent_patterns import apriori, association_rules\n",
        "\n",
        "# Extracting the most frequest itemsets via Mlxtend.\n",
        "# The length column has been added to increase ease of filtering.\n",
        "frequent_itemsets = apriori(dataset, min_support=0.01, use_colnames=True)\n",
        "frequent_itemsets['length'] = frequent_itemsets['itemsets'].apply(lambda x: len(x))\n",
        "# printing the frequent itemset\n",
        "frequent_itemsets"
      ]
    },
    {
      "cell_type": "code",
      "execution_count": 171,
      "metadata": {
        "colab": {
          "base_uri": "https://localhost:8080/",
          "height": 143
        },
        "id": "LCev5aYsF3SN",
        "outputId": "dac26d1b-8669-4cb9-cabb-1af76c63740a"
      },
      "outputs": [
        {
          "data": {
            "text/html": [
              "<div>\n",
              "<style scoped>\n",
              "    .dataframe tbody tr th:only-of-type {\n",
              "        vertical-align: middle;\n",
              "    }\n",
              "\n",
              "    .dataframe tbody tr th {\n",
              "        vertical-align: top;\n",
              "    }\n",
              "\n",
              "    .dataframe thead th {\n",
              "        text-align: right;\n",
              "    }\n",
              "</style>\n",
              "<table border=\"1\" class=\"dataframe\">\n",
              "  <thead>\n",
              "    <tr style=\"text-align: right;\">\n",
              "      <th></th>\n",
              "      <th>support</th>\n",
              "      <th>itemsets</th>\n",
              "      <th>length</th>\n",
              "    </tr>\n",
              "  </thead>\n",
              "  <tbody>\n",
              "    <tr>\n",
              "      <th>30</th>\n",
              "      <td>0.050933</td>\n",
              "      <td>(eggs, mineral water)</td>\n",
              "      <td>2</td>\n",
              "    </tr>\n",
              "    <tr>\n",
              "      <th>31</th>\n",
              "      <td>0.059733</td>\n",
              "      <td>(spaghetti, mineral water)</td>\n",
              "      <td>2</td>\n",
              "    </tr>\n",
              "    <tr>\n",
              "      <th>33</th>\n",
              "      <td>0.052667</td>\n",
              "      <td>(chocolate, mineral water)</td>\n",
              "      <td>2</td>\n",
              "    </tr>\n",
              "  </tbody>\n",
              "</table>\n",
              "</div>"
            ],
            "text/plain": [
              "     support                    itemsets  length\n",
              "30  0.050933       (eggs, mineral water)       2\n",
              "31  0.059733  (spaghetti, mineral water)       2\n",
              "33  0.052667  (chocolate, mineral water)       2"
            ]
          },
          "execution_count": 171,
          "metadata": {},
          "output_type": "execute_result"
        }
      ],
      "source": [
        "# printing the frequntly items \n",
        "frequent_itemsets[ (frequent_itemsets['length'] == 2) &\n",
        "                   (frequent_itemsets['support'] >= 0.05) ]"
      ]
    },
    {
      "cell_type": "code",
      "execution_count": 172,
      "metadata": {
        "colab": {
          "base_uri": "https://localhost:8080/",
          "height": 143
        },
        "id": "z8EyC-6uF9nQ",
        "outputId": "7b23ea06-fc71-4a6a-c643-e843bac0183e"
      },
      "outputs": [
        {
          "data": {
            "text/html": [
              "<div>\n",
              "<style scoped>\n",
              "    .dataframe tbody tr th:only-of-type {\n",
              "        vertical-align: middle;\n",
              "    }\n",
              "\n",
              "    .dataframe tbody tr th {\n",
              "        vertical-align: top;\n",
              "    }\n",
              "\n",
              "    .dataframe thead th {\n",
              "        text-align: right;\n",
              "    }\n",
              "</style>\n",
              "<table border=\"1\" class=\"dataframe\">\n",
              "  <thead>\n",
              "    <tr style=\"text-align: right;\">\n",
              "      <th></th>\n",
              "      <th>support</th>\n",
              "      <th>itemsets</th>\n",
              "      <th>length</th>\n",
              "    </tr>\n",
              "  </thead>\n",
              "  <tbody>\n",
              "    <tr>\n",
              "      <th>193</th>\n",
              "      <td>0.014267</td>\n",
              "      <td>(eggs, spaghetti, mineral water)</td>\n",
              "      <td>3</td>\n",
              "    </tr>\n",
              "    <tr>\n",
              "      <th>194</th>\n",
              "      <td>0.013467</td>\n",
              "      <td>(eggs, chocolate, mineral water)</td>\n",
              "      <td>3</td>\n",
              "    </tr>\n",
              "    <tr>\n",
              "      <th>195</th>\n",
              "      <td>0.013067</td>\n",
              "      <td>(eggs, milk, mineral water)</td>\n",
              "      <td>3</td>\n",
              "    </tr>\n",
              "  </tbody>\n",
              "</table>\n",
              "</div>"
            ],
            "text/plain": [
              "      support                          itemsets  length\n",
              "193  0.014267  (eggs, spaghetti, mineral water)       3\n",
              "194  0.013467  (eggs, chocolate, mineral water)       3\n",
              "195  0.013067       (eggs, milk, mineral water)       3"
            ]
          },
          "execution_count": 172,
          "metadata": {},
          "output_type": "execute_result"
        }
      ],
      "source": [
        "# printing the frequntly items with length 3\n",
        "frequent_itemsets[ (frequent_itemsets['length'] == 3) ].head(3)"
      ]
    },
    {
      "cell_type": "code",
      "execution_count": 173,
      "metadata": {
        "colab": {
          "base_uri": "https://localhost:8080/",
          "height": 467
        },
        "id": "0xLGUYZkGBh6",
        "outputId": "20a2aa28-b5b2-47ba-fe70-8c8a04b2d637"
      },
      "outputs": [
        {
          "data": {
            "text/html": [
              "<div>\n",
              "<style scoped>\n",
              "    .dataframe tbody tr th:only-of-type {\n",
              "        vertical-align: middle;\n",
              "    }\n",
              "\n",
              "    .dataframe tbody tr th {\n",
              "        vertical-align: top;\n",
              "    }\n",
              "\n",
              "    .dataframe thead th {\n",
              "        text-align: right;\n",
              "    }\n",
              "</style>\n",
              "<table border=\"1\" class=\"dataframe\">\n",
              "  <thead>\n",
              "    <tr style=\"text-align: right;\">\n",
              "      <th></th>\n",
              "      <th>antecedents</th>\n",
              "      <th>consequents</th>\n",
              "      <th>antecedent support</th>\n",
              "      <th>consequent support</th>\n",
              "      <th>support</th>\n",
              "      <th>confidence</th>\n",
              "      <th>lift</th>\n",
              "      <th>leverage</th>\n",
              "      <th>conviction</th>\n",
              "      <th>antecedents_length</th>\n",
              "      <th>consequents_length</th>\n",
              "    </tr>\n",
              "  </thead>\n",
              "  <tbody>\n",
              "    <tr>\n",
              "      <th>211</th>\n",
              "      <td>(herb &amp; pepper)</td>\n",
              "      <td>(ground beef)</td>\n",
              "      <td>0.049467</td>\n",
              "      <td>0.098267</td>\n",
              "      <td>0.016000</td>\n",
              "      <td>0.323450</td>\n",
              "      <td>3.291555</td>\n",
              "      <td>0.011139</td>\n",
              "      <td>1.332841</td>\n",
              "      <td>1</td>\n",
              "      <td>1</td>\n",
              "    </tr>\n",
              "    <tr>\n",
              "      <th>210</th>\n",
              "      <td>(ground beef)</td>\n",
              "      <td>(herb &amp; pepper)</td>\n",
              "      <td>0.098267</td>\n",
              "      <td>0.049467</td>\n",
              "      <td>0.016000</td>\n",
              "      <td>0.162822</td>\n",
              "      <td>3.291555</td>\n",
              "      <td>0.011139</td>\n",
              "      <td>1.135402</td>\n",
              "      <td>1</td>\n",
              "      <td>1</td>\n",
              "    </tr>\n",
              "    <tr>\n",
              "      <th>286</th>\n",
              "      <td>(ground beef)</td>\n",
              "      <td>(spaghetti, mineral water)</td>\n",
              "      <td>0.098267</td>\n",
              "      <td>0.059733</td>\n",
              "      <td>0.017067</td>\n",
              "      <td>0.173677</td>\n",
              "      <td>2.907540</td>\n",
              "      <td>0.011197</td>\n",
              "      <td>1.137893</td>\n",
              "      <td>1</td>\n",
              "      <td>2</td>\n",
              "    </tr>\n",
              "    <tr>\n",
              "      <th>283</th>\n",
              "      <td>(spaghetti, mineral water)</td>\n",
              "      <td>(ground beef)</td>\n",
              "      <td>0.059733</td>\n",
              "      <td>0.098267</td>\n",
              "      <td>0.017067</td>\n",
              "      <td>0.285714</td>\n",
              "      <td>2.907540</td>\n",
              "      <td>0.011197</td>\n",
              "      <td>1.262427</td>\n",
              "      <td>2</td>\n",
              "      <td>1</td>\n",
              "    </tr>\n",
              "    <tr>\n",
              "      <th>304</th>\n",
              "      <td>(olive oil)</td>\n",
              "      <td>(spaghetti, mineral water)</td>\n",
              "      <td>0.065733</td>\n",
              "      <td>0.059733</td>\n",
              "      <td>0.010267</td>\n",
              "      <td>0.156187</td>\n",
              "      <td>2.614731</td>\n",
              "      <td>0.006340</td>\n",
              "      <td>1.114306</td>\n",
              "      <td>1</td>\n",
              "      <td>2</td>\n",
              "    </tr>\n",
              "    <tr>\n",
              "      <th>...</th>\n",
              "      <td>...</td>\n",
              "      <td>...</td>\n",
              "      <td>...</td>\n",
              "      <td>...</td>\n",
              "      <td>...</td>\n",
              "      <td>...</td>\n",
              "      <td>...</td>\n",
              "      <td>...</td>\n",
              "      <td>...</td>\n",
              "      <td>...</td>\n",
              "      <td>...</td>\n",
              "    </tr>\n",
              "    <tr>\n",
              "      <th>55</th>\n",
              "      <td>(low fat yogurt)</td>\n",
              "      <td>(eggs)</td>\n",
              "      <td>0.076400</td>\n",
              "      <td>0.179733</td>\n",
              "      <td>0.016800</td>\n",
              "      <td>0.219895</td>\n",
              "      <td>1.223453</td>\n",
              "      <td>0.003068</td>\n",
              "      <td>1.051483</td>\n",
              "      <td>1</td>\n",
              "      <td>1</td>\n",
              "    </tr>\n",
              "    <tr>\n",
              "      <th>114</th>\n",
              "      <td>(escalope)</td>\n",
              "      <td>(french fries)</td>\n",
              "      <td>0.079333</td>\n",
              "      <td>0.170933</td>\n",
              "      <td>0.016400</td>\n",
              "      <td>0.206723</td>\n",
              "      <td>1.209376</td>\n",
              "      <td>0.002839</td>\n",
              "      <td>1.045116</td>\n",
              "      <td>1</td>\n",
              "      <td>1</td>\n",
              "    </tr>\n",
              "    <tr>\n",
              "      <th>115</th>\n",
              "      <td>(french fries)</td>\n",
              "      <td>(escalope)</td>\n",
              "      <td>0.170933</td>\n",
              "      <td>0.079333</td>\n",
              "      <td>0.016400</td>\n",
              "      <td>0.095944</td>\n",
              "      <td>1.209376</td>\n",
              "      <td>0.002839</td>\n",
              "      <td>1.018373</td>\n",
              "      <td>1</td>\n",
              "      <td>1</td>\n",
              "    </tr>\n",
              "    <tr>\n",
              "      <th>156</th>\n",
              "      <td>(shrimp)</td>\n",
              "      <td>(green tea)</td>\n",
              "      <td>0.071333</td>\n",
              "      <td>0.132000</td>\n",
              "      <td>0.011333</td>\n",
              "      <td>0.158879</td>\n",
              "      <td>1.203625</td>\n",
              "      <td>0.001917</td>\n",
              "      <td>1.031956</td>\n",
              "      <td>1</td>\n",
              "      <td>1</td>\n",
              "    </tr>\n",
              "    <tr>\n",
              "      <th>157</th>\n",
              "      <td>(green tea)</td>\n",
              "      <td>(shrimp)</td>\n",
              "      <td>0.132000</td>\n",
              "      <td>0.071333</td>\n",
              "      <td>0.011333</td>\n",
              "      <td>0.085859</td>\n",
              "      <td>1.203625</td>\n",
              "      <td>0.001917</td>\n",
              "      <td>1.015890</td>\n",
              "      <td>1</td>\n",
              "      <td>1</td>\n",
              "    </tr>\n",
              "  </tbody>\n",
              "</table>\n",
              "<p>342 rows × 11 columns</p>\n",
              "</div>"
            ],
            "text/plain": [
              "                    antecedents                 consequents  \\\n",
              "211             (herb & pepper)               (ground beef)   \n",
              "210               (ground beef)             (herb & pepper)   \n",
              "286               (ground beef)  (spaghetti, mineral water)   \n",
              "283  (spaghetti, mineral water)               (ground beef)   \n",
              "304                 (olive oil)  (spaghetti, mineral water)   \n",
              "..                          ...                         ...   \n",
              "55             (low fat yogurt)                      (eggs)   \n",
              "114                  (escalope)              (french fries)   \n",
              "115              (french fries)                  (escalope)   \n",
              "156                    (shrimp)                 (green tea)   \n",
              "157                 (green tea)                    (shrimp)   \n",
              "\n",
              "     antecedent support  consequent support   support  confidence      lift  \\\n",
              "211            0.049467            0.098267  0.016000    0.323450  3.291555   \n",
              "210            0.098267            0.049467  0.016000    0.162822  3.291555   \n",
              "286            0.098267            0.059733  0.017067    0.173677  2.907540   \n",
              "283            0.059733            0.098267  0.017067    0.285714  2.907540   \n",
              "304            0.065733            0.059733  0.010267    0.156187  2.614731   \n",
              "..                  ...                 ...       ...         ...       ...   \n",
              "55             0.076400            0.179733  0.016800    0.219895  1.223453   \n",
              "114            0.079333            0.170933  0.016400    0.206723  1.209376   \n",
              "115            0.170933            0.079333  0.016400    0.095944  1.209376   \n",
              "156            0.071333            0.132000  0.011333    0.158879  1.203625   \n",
              "157            0.132000            0.071333  0.011333    0.085859  1.203625   \n",
              "\n",
              "     leverage  conviction  antecedents_length  consequents_length  \n",
              "211  0.011139    1.332841                   1                   1  \n",
              "210  0.011139    1.135402                   1                   1  \n",
              "286  0.011197    1.137893                   1                   2  \n",
              "283  0.011197    1.262427                   2                   1  \n",
              "304  0.006340    1.114306                   1                   2  \n",
              "..        ...         ...                 ...                 ...  \n",
              "55   0.003068    1.051483                   1                   1  \n",
              "114  0.002839    1.045116                   1                   1  \n",
              "115  0.002839    1.018373                   1                   1  \n",
              "156  0.001917    1.031956                   1                   1  \n",
              "157  0.001917    1.015890                   1                   1  \n",
              "\n",
              "[342 rows x 11 columns]"
            ]
          },
          "execution_count": 173,
          "metadata": {},
          "output_type": "execute_result"
        }
      ],
      "source": [
        "#  We set our metric as \"Lift\" to define whether antecedents & consequents are dependent our not\n",
        "rules = association_rules(frequent_itemsets, metric=\"lift\", min_threshold=1.2)\n",
        "rules[\"antecedents_length\"] = rules[\"antecedents\"].apply(lambda x: len(x))\n",
        "rules[\"consequents_length\"] = rules[\"consequents\"].apply(lambda x: len(x))\n",
        "rules.sort_values(\"lift\",ascending=False)"
      ]
    },
    {
      "cell_type": "code",
      "execution_count": 174,
      "metadata": {
        "colab": {
          "base_uri": "https://localhost:8080/",
          "height": 467
        },
        "id": "4ZJMq5J9GGDu",
        "outputId": "7cbd9c39-35f6-43e6-ef8c-233f227ecf33"
      },
      "outputs": [
        {
          "data": {
            "text/html": [
              "<div>\n",
              "<style scoped>\n",
              "    .dataframe tbody tr th:only-of-type {\n",
              "        vertical-align: middle;\n",
              "    }\n",
              "\n",
              "    .dataframe tbody tr th {\n",
              "        vertical-align: top;\n",
              "    }\n",
              "\n",
              "    .dataframe thead th {\n",
              "        text-align: right;\n",
              "    }\n",
              "</style>\n",
              "<table border=\"1\" class=\"dataframe\">\n",
              "  <thead>\n",
              "    <tr style=\"text-align: right;\">\n",
              "      <th></th>\n",
              "      <th>antecedents</th>\n",
              "      <th>consequents</th>\n",
              "      <th>antecedent support</th>\n",
              "      <th>consequent support</th>\n",
              "      <th>support</th>\n",
              "      <th>confidence</th>\n",
              "      <th>lift</th>\n",
              "      <th>leverage</th>\n",
              "      <th>conviction</th>\n",
              "      <th>antecedents_length</th>\n",
              "      <th>consequents_length</th>\n",
              "    </tr>\n",
              "  </thead>\n",
              "  <tbody>\n",
              "    <tr>\n",
              "      <th>260</th>\n",
              "      <td>(eggs, ground beef)</td>\n",
              "      <td>(mineral water)</td>\n",
              "      <td>0.020000</td>\n",
              "      <td>0.238267</td>\n",
              "      <td>0.010133</td>\n",
              "      <td>0.506667</td>\n",
              "      <td>2.126469</td>\n",
              "      <td>0.005368</td>\n",
              "      <td>1.544054</td>\n",
              "      <td>2</td>\n",
              "      <td>1</td>\n",
              "    </tr>\n",
              "    <tr>\n",
              "      <th>318</th>\n",
              "      <td>(milk, ground beef)</td>\n",
              "      <td>(mineral water)</td>\n",
              "      <td>0.022000</td>\n",
              "      <td>0.238267</td>\n",
              "      <td>0.011067</td>\n",
              "      <td>0.503030</td>\n",
              "      <td>2.111207</td>\n",
              "      <td>0.005825</td>\n",
              "      <td>1.532756</td>\n",
              "      <td>2</td>\n",
              "      <td>1</td>\n",
              "    </tr>\n",
              "    <tr>\n",
              "      <th>312</th>\n",
              "      <td>(ground beef, chocolate)</td>\n",
              "      <td>(mineral water)</td>\n",
              "      <td>0.023067</td>\n",
              "      <td>0.238267</td>\n",
              "      <td>0.010933</td>\n",
              "      <td>0.473988</td>\n",
              "      <td>1.989319</td>\n",
              "      <td>0.005437</td>\n",
              "      <td>1.448130</td>\n",
              "      <td>2</td>\n",
              "      <td>1</td>\n",
              "    </tr>\n",
              "    <tr>\n",
              "      <th>324</th>\n",
              "      <td>(milk, frozen vegetables)</td>\n",
              "      <td>(mineral water)</td>\n",
              "      <td>0.023600</td>\n",
              "      <td>0.238267</td>\n",
              "      <td>0.011067</td>\n",
              "      <td>0.468927</td>\n",
              "      <td>1.968075</td>\n",
              "      <td>0.005444</td>\n",
              "      <td>1.434328</td>\n",
              "      <td>2</td>\n",
              "      <td>1</td>\n",
              "    </tr>\n",
              "    <tr>\n",
              "      <th>34</th>\n",
              "      <td>(soup)</td>\n",
              "      <td>(mineral water)</td>\n",
              "      <td>0.050533</td>\n",
              "      <td>0.238267</td>\n",
              "      <td>0.023067</td>\n",
              "      <td>0.456464</td>\n",
              "      <td>1.915771</td>\n",
              "      <td>0.011026</td>\n",
              "      <td>1.401441</td>\n",
              "      <td>1</td>\n",
              "      <td>1</td>\n",
              "    </tr>\n",
              "    <tr>\n",
              "      <th>...</th>\n",
              "      <td>...</td>\n",
              "      <td>...</td>\n",
              "      <td>...</td>\n",
              "      <td>...</td>\n",
              "      <td>...</td>\n",
              "      <td>...</td>\n",
              "      <td>...</td>\n",
              "      <td>...</td>\n",
              "      <td>...</td>\n",
              "      <td>...</td>\n",
              "      <td>...</td>\n",
              "    </tr>\n",
              "    <tr>\n",
              "      <th>323</th>\n",
              "      <td>(mineral water)</td>\n",
              "      <td>(milk, ground beef)</td>\n",
              "      <td>0.238267</td>\n",
              "      <td>0.022000</td>\n",
              "      <td>0.011067</td>\n",
              "      <td>0.046447</td>\n",
              "      <td>2.111207</td>\n",
              "      <td>0.005825</td>\n",
              "      <td>1.025637</td>\n",
              "      <td>1</td>\n",
              "      <td>2</td>\n",
              "    </tr>\n",
              "    <tr>\n",
              "      <th>317</th>\n",
              "      <td>(mineral water)</td>\n",
              "      <td>(ground beef, chocolate)</td>\n",
              "      <td>0.238267</td>\n",
              "      <td>0.023067</td>\n",
              "      <td>0.010933</td>\n",
              "      <td>0.045887</td>\n",
              "      <td>1.989319</td>\n",
              "      <td>0.005437</td>\n",
              "      <td>1.023918</td>\n",
              "      <td>1</td>\n",
              "      <td>2</td>\n",
              "    </tr>\n",
              "    <tr>\n",
              "      <th>305</th>\n",
              "      <td>(mineral water)</td>\n",
              "      <td>(spaghetti, olive oil)</td>\n",
              "      <td>0.238267</td>\n",
              "      <td>0.022933</td>\n",
              "      <td>0.010267</td>\n",
              "      <td>0.043089</td>\n",
              "      <td>1.878880</td>\n",
              "      <td>0.004802</td>\n",
              "      <td>1.021063</td>\n",
              "      <td>1</td>\n",
              "      <td>2</td>\n",
              "    </tr>\n",
              "    <tr>\n",
              "      <th>265</th>\n",
              "      <td>(mineral water)</td>\n",
              "      <td>(eggs, ground beef)</td>\n",
              "      <td>0.238267</td>\n",
              "      <td>0.020000</td>\n",
              "      <td>0.010133</td>\n",
              "      <td>0.042529</td>\n",
              "      <td>2.126469</td>\n",
              "      <td>0.005368</td>\n",
              "      <td>1.023530</td>\n",
              "      <td>1</td>\n",
              "      <td>2</td>\n",
              "    </tr>\n",
              "    <tr>\n",
              "      <th>269</th>\n",
              "      <td>(mineral water)</td>\n",
              "      <td>(spaghetti, french fries)</td>\n",
              "      <td>0.238267</td>\n",
              "      <td>0.027600</td>\n",
              "      <td>0.010133</td>\n",
              "      <td>0.042529</td>\n",
              "      <td>1.540920</td>\n",
              "      <td>0.003557</td>\n",
              "      <td>1.015593</td>\n",
              "      <td>1</td>\n",
              "      <td>2</td>\n",
              "    </tr>\n",
              "  </tbody>\n",
              "</table>\n",
              "<p>342 rows × 11 columns</p>\n",
              "</div>"
            ],
            "text/plain": [
              "                   antecedents                consequents  antecedent support  \\\n",
              "260        (eggs, ground beef)            (mineral water)            0.020000   \n",
              "318        (milk, ground beef)            (mineral water)            0.022000   \n",
              "312   (ground beef, chocolate)            (mineral water)            0.023067   \n",
              "324  (milk, frozen vegetables)            (mineral water)            0.023600   \n",
              "34                      (soup)            (mineral water)            0.050533   \n",
              "..                         ...                        ...                 ...   \n",
              "323            (mineral water)        (milk, ground beef)            0.238267   \n",
              "317            (mineral water)   (ground beef, chocolate)            0.238267   \n",
              "305            (mineral water)     (spaghetti, olive oil)            0.238267   \n",
              "265            (mineral water)        (eggs, ground beef)            0.238267   \n",
              "269            (mineral water)  (spaghetti, french fries)            0.238267   \n",
              "\n",
              "     consequent support   support  confidence      lift  leverage  conviction  \\\n",
              "260            0.238267  0.010133    0.506667  2.126469  0.005368    1.544054   \n",
              "318            0.238267  0.011067    0.503030  2.111207  0.005825    1.532756   \n",
              "312            0.238267  0.010933    0.473988  1.989319  0.005437    1.448130   \n",
              "324            0.238267  0.011067    0.468927  1.968075  0.005444    1.434328   \n",
              "34             0.238267  0.023067    0.456464  1.915771  0.011026    1.401441   \n",
              "..                  ...       ...         ...       ...       ...         ...   \n",
              "323            0.022000  0.011067    0.046447  2.111207  0.005825    1.025637   \n",
              "317            0.023067  0.010933    0.045887  1.989319  0.005437    1.023918   \n",
              "305            0.022933  0.010267    0.043089  1.878880  0.004802    1.021063   \n",
              "265            0.020000  0.010133    0.042529  2.126469  0.005368    1.023530   \n",
              "269            0.027600  0.010133    0.042529  1.540920  0.003557    1.015593   \n",
              "\n",
              "     antecedents_length  consequents_length  \n",
              "260                   2                   1  \n",
              "318                   2                   1  \n",
              "312                   2                   1  \n",
              "324                   2                   1  \n",
              "34                    1                   1  \n",
              "..                  ...                 ...  \n",
              "323                   1                   2  \n",
              "317                   1                   2  \n",
              "305                   1                   2  \n",
              "265                   1                   2  \n",
              "269                   1                   2  \n",
              "\n",
              "[342 rows x 11 columns]"
            ]
          },
          "execution_count": 174,
          "metadata": {},
          "output_type": "execute_result"
        }
      ],
      "source": [
        "# Sort values based on confidence\n",
        "rules.sort_values(\"confidence\",ascending=False)"
      ]
    },
    {
      "attachments": {},
      "cell_type": "markdown",
      "metadata": {},
      "source": [
        "# Custom Implementation"
      ]
    },
    {
      "cell_type": "code",
      "execution_count": 175,
      "metadata": {
        "id": "PPJj2m-LGKMw"
      },
      "outputs": [
        {
          "data": {
            "text/html": [
              "<div>\n",
              "<style scoped>\n",
              "    .dataframe tbody tr th:only-of-type {\n",
              "        vertical-align: middle;\n",
              "    }\n",
              "\n",
              "    .dataframe tbody tr th {\n",
              "        vertical-align: top;\n",
              "    }\n",
              "\n",
              "    .dataframe thead th {\n",
              "        text-align: right;\n",
              "    }\n",
              "</style>\n",
              "<table border=\"1\" class=\"dataframe\">\n",
              "  <thead>\n",
              "    <tr style=\"text-align: right;\">\n",
              "      <th></th>\n",
              "      <th>antecedents</th>\n",
              "      <th>consequents</th>\n",
              "      <th>antecedent support</th>\n",
              "      <th>consequent support</th>\n",
              "      <th>support</th>\n",
              "      <th>confidence</th>\n",
              "      <th>lift</th>\n",
              "      <th>leverage</th>\n",
              "      <th>conviction</th>\n",
              "      <th>antecedents_length</th>\n",
              "      <th>consequents_length</th>\n",
              "    </tr>\n",
              "  </thead>\n",
              "  <tbody>\n",
              "    <tr>\n",
              "      <th>19</th>\n",
              "      <td>(eggs, ground beef)</td>\n",
              "      <td>(mineral water)</td>\n",
              "      <td>0.020000</td>\n",
              "      <td>0.238267</td>\n",
              "      <td>0.010133</td>\n",
              "      <td>0.506667</td>\n",
              "      <td>2.126469</td>\n",
              "      <td>0.005368</td>\n",
              "      <td>1.544054</td>\n",
              "      <td>2</td>\n",
              "      <td>1</td>\n",
              "    </tr>\n",
              "    <tr>\n",
              "      <th>35</th>\n",
              "      <td>(milk, ground beef)</td>\n",
              "      <td>(mineral water)</td>\n",
              "      <td>0.022000</td>\n",
              "      <td>0.238267</td>\n",
              "      <td>0.011067</td>\n",
              "      <td>0.503030</td>\n",
              "      <td>2.111207</td>\n",
              "      <td>0.005825</td>\n",
              "      <td>1.532756</td>\n",
              "      <td>2</td>\n",
              "      <td>1</td>\n",
              "    </tr>\n",
              "    <tr>\n",
              "      <th>34</th>\n",
              "      <td>(ground beef, chocolate)</td>\n",
              "      <td>(mineral water)</td>\n",
              "      <td>0.023067</td>\n",
              "      <td>0.238267</td>\n",
              "      <td>0.010933</td>\n",
              "      <td>0.473988</td>\n",
              "      <td>1.989319</td>\n",
              "      <td>0.005437</td>\n",
              "      <td>1.448130</td>\n",
              "      <td>2</td>\n",
              "      <td>1</td>\n",
              "    </tr>\n",
              "    <tr>\n",
              "      <th>36</th>\n",
              "      <td>(milk, frozen vegetables)</td>\n",
              "      <td>(mineral water)</td>\n",
              "      <td>0.023600</td>\n",
              "      <td>0.238267</td>\n",
              "      <td>0.011067</td>\n",
              "      <td>0.468927</td>\n",
              "      <td>1.968075</td>\n",
              "      <td>0.005444</td>\n",
              "      <td>1.434328</td>\n",
              "      <td>2</td>\n",
              "      <td>1</td>\n",
              "    </tr>\n",
              "    <tr>\n",
              "      <th>26</th>\n",
              "      <td>(ground beef, mineral water)</td>\n",
              "      <td>(spaghetti)</td>\n",
              "      <td>0.040933</td>\n",
              "      <td>0.174133</td>\n",
              "      <td>0.017067</td>\n",
              "      <td>0.416938</td>\n",
              "      <td>2.394361</td>\n",
              "      <td>0.009939</td>\n",
              "      <td>1.416431</td>\n",
              "      <td>2</td>\n",
              "      <td>1</td>\n",
              "    </tr>\n",
              "    <tr>\n",
              "      <th>6</th>\n",
              "      <td>(soup)</td>\n",
              "      <td>(mineral water)</td>\n",
              "      <td>0.050533</td>\n",
              "      <td>0.238267</td>\n",
              "      <td>0.023067</td>\n",
              "      <td>0.456464</td>\n",
              "      <td>1.915771</td>\n",
              "      <td>0.011026</td>\n",
              "      <td>1.401441</td>\n",
              "      <td>1</td>\n",
              "      <td>1</td>\n",
              "    </tr>\n",
              "    <tr>\n",
              "      <th>29</th>\n",
              "      <td>(pancakes, spaghetti)</td>\n",
              "      <td>(mineral water)</td>\n",
              "      <td>0.025200</td>\n",
              "      <td>0.238267</td>\n",
              "      <td>0.011467</td>\n",
              "      <td>0.455026</td>\n",
              "      <td>1.909736</td>\n",
              "      <td>0.005462</td>\n",
              "      <td>1.397744</td>\n",
              "      <td>2</td>\n",
              "      <td>1</td>\n",
              "    </tr>\n",
              "    <tr>\n",
              "      <th>31</th>\n",
              "      <td>(spaghetti, olive oil)</td>\n",
              "      <td>(mineral water)</td>\n",
              "      <td>0.022933</td>\n",
              "      <td>0.238267</td>\n",
              "      <td>0.010267</td>\n",
              "      <td>0.447674</td>\n",
              "      <td>1.878880</td>\n",
              "      <td>0.004802</td>\n",
              "      <td>1.379138</td>\n",
              "      <td>2</td>\n",
              "      <td>1</td>\n",
              "    </tr>\n",
              "    <tr>\n",
              "      <th>9</th>\n",
              "      <td>(ground beef)</td>\n",
              "      <td>(spaghetti)</td>\n",
              "      <td>0.098267</td>\n",
              "      <td>0.174133</td>\n",
              "      <td>0.039200</td>\n",
              "      <td>0.398915</td>\n",
              "      <td>2.290857</td>\n",
              "      <td>0.022088</td>\n",
              "      <td>1.373959</td>\n",
              "      <td>1</td>\n",
              "      <td>1</td>\n",
              "    </tr>\n",
              "    <tr>\n",
              "      <th>22</th>\n",
              "      <td>(spaghetti, milk)</td>\n",
              "      <td>(mineral water)</td>\n",
              "      <td>0.035467</td>\n",
              "      <td>0.238267</td>\n",
              "      <td>0.015733</td>\n",
              "      <td>0.443609</td>\n",
              "      <td>1.861817</td>\n",
              "      <td>0.007283</td>\n",
              "      <td>1.369061</td>\n",
              "      <td>2</td>\n",
              "      <td>1</td>\n",
              "    </tr>\n",
              "  </tbody>\n",
              "</table>\n",
              "</div>"
            ],
            "text/plain": [
              "                     antecedents      consequents  antecedent support  \\\n",
              "19           (eggs, ground beef)  (mineral water)            0.020000   \n",
              "35           (milk, ground beef)  (mineral water)            0.022000   \n",
              "34      (ground beef, chocolate)  (mineral water)            0.023067   \n",
              "36     (milk, frozen vegetables)  (mineral water)            0.023600   \n",
              "26  (ground beef, mineral water)      (spaghetti)            0.040933   \n",
              "6                         (soup)  (mineral water)            0.050533   \n",
              "29         (pancakes, spaghetti)  (mineral water)            0.025200   \n",
              "31        (spaghetti, olive oil)  (mineral water)            0.022933   \n",
              "9                  (ground beef)      (spaghetti)            0.098267   \n",
              "22             (spaghetti, milk)  (mineral water)            0.035467   \n",
              "\n",
              "    consequent support   support  confidence      lift  leverage  conviction  \\\n",
              "19            0.238267  0.010133    0.506667  2.126469  0.005368    1.544054   \n",
              "35            0.238267  0.011067    0.503030  2.111207  0.005825    1.532756   \n",
              "34            0.238267  0.010933    0.473988  1.989319  0.005437    1.448130   \n",
              "36            0.238267  0.011067    0.468927  1.968075  0.005444    1.434328   \n",
              "26            0.174133  0.017067    0.416938  2.394361  0.009939    1.416431   \n",
              "6             0.238267  0.023067    0.456464  1.915771  0.011026    1.401441   \n",
              "29            0.238267  0.011467    0.455026  1.909736  0.005462    1.397744   \n",
              "31            0.238267  0.010267    0.447674  1.878880  0.004802    1.379138   \n",
              "9             0.174133  0.039200    0.398915  2.290857  0.022088    1.373959   \n",
              "22            0.238267  0.015733    0.443609  1.861817  0.007283    1.369061   \n",
              "\n",
              "    antecedents_length  consequents_length  \n",
              "19                   2                   1  \n",
              "35                   2                   1  \n",
              "34                   2                   1  \n",
              "36                   2                   1  \n",
              "26                   2                   1  \n",
              "6                    1                   1  \n",
              "29                   2                   1  \n",
              "31                   2                   1  \n",
              "9                    1                   1  \n",
              "22                   2                   1  "
            ]
          },
          "execution_count": 175,
          "metadata": {},
          "output_type": "execute_result"
        }
      ],
      "source": [
        "# Using conviction\n",
        "rules = association_rules(frequent_itemsets, metric=\"conviction\", min_threshold=1.2)\n",
        "rules[\"antecedents_length\"] = rules[\"antecedents\"].apply(lambda x: len(x))\n",
        "rules[\"consequents_length\"] = rules[\"consequents\"].apply(lambda x: len(x))\n",
        "rules.sort_values(\"conviction\",ascending=False).head(10)"
      ]
    },
    {
      "cell_type": "code",
      "execution_count": 176,
      "metadata": {},
      "outputs": [],
      "source": [
        "# Leverage is not found in apriori algorithm, so only conviction is implemented"
      ]
    }
  ],
  "metadata": {
    "accelerator": "GPU",
    "colab": {
      "provenance": []
    },
    "gpuClass": "standard",
    "kernelspec": {
      "display_name": "Python 3",
      "name": "python3"
    },
    "language_info": {
      "codemirror_mode": {
        "name": "ipython",
        "version": 3
      },
      "file_extension": ".py",
      "mimetype": "text/x-python",
      "name": "python",
      "nbconvert_exporter": "python",
      "pygments_lexer": "ipython3",
      "version": "3.10.8"
    }
  },
  "nbformat": 4,
  "nbformat_minor": 0
}
