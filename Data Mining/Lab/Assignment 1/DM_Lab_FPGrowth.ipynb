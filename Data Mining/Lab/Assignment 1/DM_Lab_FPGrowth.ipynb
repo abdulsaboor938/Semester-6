{
  "cells": [
    {
      "cell_type": "code",
      "execution_count": 27,
      "metadata": {
        "colab": {
          "base_uri": "https://localhost:8080/"
        },
        "id": "bpH3P1xpwGkf",
        "outputId": "f2907720-665c-4389-9223-528a15758132"
      },
      "outputs": [],
      "source": [
        "# !pip install pandas\n",
        "# !pip install numpy\n",
        "# !pip install plotly\n",
        "# !pip install networkx\n",
        "# !pip install matplotlib"
      ]
    },
    {
      "cell_type": "code",
      "execution_count": 28,
      "metadata": {
        "colab": {
          "base_uri": "https://localhost:8080/"
        },
        "id": "EcgSkoiNwp_w",
        "outputId": "230b035a-d185-4718-e5e2-8b5a79495b06"
      },
      "outputs": [],
      "source": [
        "# importing module\n",
        "import pandas as pd\n",
        "import numpy as np\n",
        "# # dataset\n",
        "# dataset = pd.read_csv(\"Market_Basket_Optimisation.csv\")\n",
        "# # printing the shape of the dataset\n",
        "# dataset.shape"
      ]
    },
    {
      "cell_type": "code",
      "execution_count": 29,
      "metadata": {
        "colab": {
          "base_uri": "https://localhost:8080/"
        },
        "id": "mYkDGxFLyoEH",
        "outputId": "a1009b58-f5c9-4ded-fa81-97163697600f"
      },
      "outputs": [],
      "source": [
        "# # importing module\n",
        "# import numpy as np\n",
        "# # Gather All Items of Each Transactions into Numpy Array\n",
        "# transaction = []\n",
        "# for i in range(0, dataset.shape[0]):\n",
        "#     for j in range(0, dataset.shape[1]):\n",
        "#         transaction.append(dataset.values[i,j])\n",
        "# # converting to numpy array\n",
        "# transaction = np.array(transaction)\n",
        "# print(transaction)\n",
        "transaction = np.load('transaction.npy')"
      ]
    },
    {
      "cell_type": "code",
      "execution_count": 30,
      "metadata": {
        "colab": {
          "base_uri": "https://localhost:8080/",
          "height": 206
        },
        "id": "6V_pABzczUpx",
        "outputId": "85e582aa-6190-43a0-beab-0d232efac466"
      },
      "outputs": [
        {
          "data": {
            "text/html": [
              "<style type=\"text/css\">\n",
              "#T_4c791_row0_col1 {\n",
              "  background-color: #08306b;\n",
              "  color: #f1f1f1;\n",
              "}\n",
              "#T_4c791_row1_col1 {\n",
              "  background-color: #cde0f1;\n",
              "  color: #000000;\n",
              "}\n",
              "#T_4c791_row2_col1 {\n",
              "  background-color: #dceaf6;\n",
              "  color: #000000;\n",
              "}\n",
              "#T_4c791_row3_col1 {\n",
              "  background-color: #e5eff9;\n",
              "  color: #000000;\n",
              "}\n",
              "#T_4c791_row4_col1 {\n",
              "  background-color: #f7fbff;\n",
              "  color: #000000;\n",
              "}\n",
              "</style>\n",
              "<table id=\"T_4c791\">\n",
              "  <thead>\n",
              "    <tr>\n",
              "      <th class=\"blank level0\" >&nbsp;</th>\n",
              "      <th id=\"T_4c791_level0_col0\" class=\"col_heading level0 col0\" >items</th>\n",
              "      <th id=\"T_4c791_level0_col1\" class=\"col_heading level0 col1\" >incident_count</th>\n",
              "    </tr>\n",
              "  </thead>\n",
              "  <tbody>\n",
              "    <tr>\n",
              "      <th id=\"T_4c791_level0_row0\" class=\"row_heading level0 row0\" >0</th>\n",
              "      <td id=\"T_4c791_row0_col0\" class=\"data row0 col0\" >mineral water</td>\n",
              "      <td id=\"T_4c791_row0_col1\" class=\"data row0 col1\" >1787</td>\n",
              "    </tr>\n",
              "    <tr>\n",
              "      <th id=\"T_4c791_level0_row1\" class=\"row_heading level0 row1\" >1</th>\n",
              "      <td id=\"T_4c791_row1_col0\" class=\"data row1 col0\" >eggs</td>\n",
              "      <td id=\"T_4c791_row1_col1\" class=\"data row1 col1\" >1348</td>\n",
              "    </tr>\n",
              "    <tr>\n",
              "      <th id=\"T_4c791_level0_row2\" class=\"row_heading level0 row2\" >2</th>\n",
              "      <td id=\"T_4c791_row2_col0\" class=\"data row2 col0\" >spaghetti</td>\n",
              "      <td id=\"T_4c791_row2_col1\" class=\"data row2 col1\" >1306</td>\n",
              "    </tr>\n",
              "    <tr>\n",
              "      <th id=\"T_4c791_level0_row3\" class=\"row_heading level0 row3\" >3</th>\n",
              "      <td id=\"T_4c791_row3_col0\" class=\"data row3 col0\" >french fries</td>\n",
              "      <td id=\"T_4c791_row3_col1\" class=\"data row3 col1\" >1282</td>\n",
              "    </tr>\n",
              "    <tr>\n",
              "      <th id=\"T_4c791_level0_row4\" class=\"row_heading level0 row4\" >4</th>\n",
              "      <td id=\"T_4c791_row4_col0\" class=\"data row4 col0\" >chocolate</td>\n",
              "      <td id=\"T_4c791_row4_col1\" class=\"data row4 col1\" >1230</td>\n",
              "    </tr>\n",
              "  </tbody>\n",
              "</table>\n"
            ],
            "text/plain": [
              "<pandas.io.formats.style.Styler at 0x108af3220>"
            ]
          },
          "execution_count": 30,
          "metadata": {},
          "output_type": "execute_result"
        }
      ],
      "source": [
        "#  Transform Them a Pandas DataFrame\n",
        "df = pd.DataFrame(transaction, columns=[\"items\"]) \n",
        "# Put 1 to Each Item For Making Countable Table, to be able to perform Group By\n",
        "df[\"incident_count\"] = 1 \n",
        "#  Delete NaN Items from Dataset\n",
        "indexNames = df[df['items'] == \"nan\" ].index\n",
        "df.drop(indexNames , inplace=True)\n",
        "# Making a New Appropriate Pandas DataFrame for Visualizations  \n",
        "df_table = df.groupby(\"items\").sum().sort_values(\"incident_count\", ascending=False).reset_index()\n",
        "#  Initial Visualizations\n",
        "df_table.head(5).style.background_gradient(cmap='Blues')"
      ]
    },
    {
      "cell_type": "code",
      "execution_count": 31,
      "metadata": {
        "colab": {
          "base_uri": "https://localhost:8080/",
          "height": 631
        },
        "id": "7ee_a3tTrDIx",
        "outputId": "1d0cb2fa-c7b8-460d-8f7b-58a407cc8a1d"
      },
      "outputs": [
        {
          "data": {
            "application/vnd.plotly.v1+json": {
              "config": {
                "plotlyServerURL": "https://plot.ly"
              },
              "data": [
                {
                  "branchvalues": "total",
                  "customdata": [
                    [
                      "avocado",
                      249
                    ],
                    [
                      "brownies",
                      253
                    ],
                    [
                      "burgers",
                      654
                    ],
                    [
                      "butter",
                      226
                    ],
                    [
                      "cake",
                      608
                    ],
                    [
                      "cereals",
                      193
                    ],
                    [
                      "champagne",
                      351
                    ],
                    [
                      "chicken",
                      450
                    ],
                    [
                      "chocolate",
                      1230
                    ],
                    [
                      "cookies",
                      603
                    ],
                    [
                      "cooking oil",
                      383
                    ],
                    [
                      "cottage cheese",
                      238
                    ],
                    [
                      "eggs",
                      1348
                    ],
                    [
                      "energy bar",
                      203
                    ],
                    [
                      "energy drink",
                      199
                    ],
                    [
                      "escalope",
                      595
                    ],
                    [
                      "french fries",
                      1282
                    ],
                    [
                      "french wine",
                      169
                    ],
                    [
                      "fresh bread",
                      323
                    ],
                    [
                      "fresh tuna",
                      167
                    ],
                    [
                      "frozen smoothie",
                      474
                    ],
                    [
                      "frozen vegetables",
                      715
                    ],
                    [
                      "grated cheese",
                      393
                    ],
                    [
                      "green tea",
                      990
                    ],
                    [
                      "ground beef",
                      737
                    ],
                    [
                      "ham",
                      203
                    ],
                    [
                      "herb & pepper",
                      371
                    ],
                    [
                      "honey",
                      355
                    ],
                    [
                      "hot dogs",
                      243
                    ],
                    [
                      "light mayo",
                      204
                    ],
                    [
                      "low fat yogurt",
                      573
                    ],
                    [
                      "milk",
                      972
                    ],
                    [
                      "mineral water",
                      1787
                    ],
                    [
                      "muffins",
                      181
                    ],
                    [
                      "oil",
                      173
                    ],
                    [
                      "olive oil",
                      493
                    ],
                    [
                      "pancakes",
                      713
                    ],
                    [
                      "pepper",
                      199
                    ],
                    [
                      "red wine",
                      211
                    ],
                    [
                      "salmon",
                      318
                    ],
                    [
                      "shrimp",
                      535
                    ],
                    [
                      "soup",
                      379
                    ],
                    [
                      "spaghetti",
                      1306
                    ],
                    [
                      "tomato juice",
                      227
                    ],
                    [
                      "tomatoes",
                      513
                    ],
                    [
                      "turkey",
                      469
                    ],
                    [
                      "vegetables mix",
                      192
                    ],
                    [
                      "whole wheat pasta",
                      221
                    ],
                    [
                      "whole wheat rice",
                      439
                    ],
                    [
                      "yogurt cake",
                      205
                    ],
                    [
                      "(?)",
                      764.8014276973282
                    ]
                  ],
                  "domain": {
                    "x": [
                      0,
                      1
                    ],
                    "y": [
                      0,
                      1
                    ]
                  },
                  "hovertemplate": "labels=%{label}<br>incident_count=%{value}<br>parent=%{parent}<br>id=%{id}<br>items=%{customdata[0]}<br>color=%{color}<extra></extra>",
                  "ids": [
                    "Top 50 items/avocado",
                    "Top 50 items/brownies",
                    "Top 50 items/burgers",
                    "Top 50 items/butter",
                    "Top 50 items/cake",
                    "Top 50 items/cereals",
                    "Top 50 items/champagne",
                    "Top 50 items/chicken",
                    "Top 50 items/chocolate",
                    "Top 50 items/cookies",
                    "Top 50 items/cooking oil",
                    "Top 50 items/cottage cheese",
                    "Top 50 items/eggs",
                    "Top 50 items/energy bar",
                    "Top 50 items/energy drink",
                    "Top 50 items/escalope",
                    "Top 50 items/french fries",
                    "Top 50 items/french wine",
                    "Top 50 items/fresh bread",
                    "Top 50 items/fresh tuna",
                    "Top 50 items/frozen smoothie",
                    "Top 50 items/frozen vegetables",
                    "Top 50 items/grated cheese",
                    "Top 50 items/green tea",
                    "Top 50 items/ground beef",
                    "Top 50 items/ham",
                    "Top 50 items/herb & pepper",
                    "Top 50 items/honey",
                    "Top 50 items/hot dogs",
                    "Top 50 items/light mayo",
                    "Top 50 items/low fat yogurt",
                    "Top 50 items/milk",
                    "Top 50 items/mineral water",
                    "Top 50 items/muffins",
                    "Top 50 items/oil",
                    "Top 50 items/olive oil",
                    "Top 50 items/pancakes",
                    "Top 50 items/pepper",
                    "Top 50 items/red wine",
                    "Top 50 items/salmon",
                    "Top 50 items/shrimp",
                    "Top 50 items/soup",
                    "Top 50 items/spaghetti",
                    "Top 50 items/tomato juice",
                    "Top 50 items/tomatoes",
                    "Top 50 items/turkey",
                    "Top 50 items/vegetables mix",
                    "Top 50 items/whole wheat pasta",
                    "Top 50 items/whole wheat rice",
                    "Top 50 items/yogurt cake",
                    "Top 50 items"
                  ],
                  "labels": [
                    "avocado",
                    "brownies",
                    "burgers",
                    "butter",
                    "cake",
                    "cereals",
                    "champagne",
                    "chicken",
                    "chocolate",
                    "cookies",
                    "cooking oil",
                    "cottage cheese",
                    "eggs",
                    "energy bar",
                    "energy drink",
                    "escalope",
                    "french fries",
                    "french wine",
                    "fresh bread",
                    "fresh tuna",
                    "frozen smoothie",
                    "frozen vegetables",
                    "grated cheese",
                    "green tea",
                    "ground beef",
                    "ham",
                    "herb & pepper",
                    "honey",
                    "hot dogs",
                    "light mayo",
                    "low fat yogurt",
                    "milk",
                    "mineral water",
                    "muffins",
                    "oil",
                    "olive oil",
                    "pancakes",
                    "pepper",
                    "red wine",
                    "salmon",
                    "shrimp",
                    "soup",
                    "spaghetti",
                    "tomato juice",
                    "tomatoes",
                    "turkey",
                    "vegetables mix",
                    "whole wheat pasta",
                    "whole wheat rice",
                    "yogurt cake",
                    "Top 50 items"
                  ],
                  "marker": {
                    "coloraxis": "coloraxis",
                    "colors": [
                      249,
                      253,
                      654,
                      226,
                      608,
                      193,
                      351,
                      450,
                      1230,
                      603,
                      383,
                      238,
                      1348,
                      203,
                      199,
                      595,
                      1282,
                      169,
                      323,
                      167,
                      474,
                      715,
                      393,
                      990,
                      737,
                      203,
                      371,
                      355,
                      243,
                      204,
                      573,
                      972,
                      1787,
                      181,
                      173,
                      493,
                      713,
                      199,
                      211,
                      318,
                      535,
                      379,
                      1306,
                      227,
                      513,
                      469,
                      192,
                      221,
                      439,
                      205,
                      764.8014276973282
                    ]
                  },
                  "name": "",
                  "parents": [
                    "Top 50 items",
                    "Top 50 items",
                    "Top 50 items",
                    "Top 50 items",
                    "Top 50 items",
                    "Top 50 items",
                    "Top 50 items",
                    "Top 50 items",
                    "Top 50 items",
                    "Top 50 items",
                    "Top 50 items",
                    "Top 50 items",
                    "Top 50 items",
                    "Top 50 items",
                    "Top 50 items",
                    "Top 50 items",
                    "Top 50 items",
                    "Top 50 items",
                    "Top 50 items",
                    "Top 50 items",
                    "Top 50 items",
                    "Top 50 items",
                    "Top 50 items",
                    "Top 50 items",
                    "Top 50 items",
                    "Top 50 items",
                    "Top 50 items",
                    "Top 50 items",
                    "Top 50 items",
                    "Top 50 items",
                    "Top 50 items",
                    "Top 50 items",
                    "Top 50 items",
                    "Top 50 items",
                    "Top 50 items",
                    "Top 50 items",
                    "Top 50 items",
                    "Top 50 items",
                    "Top 50 items",
                    "Top 50 items",
                    "Top 50 items",
                    "Top 50 items",
                    "Top 50 items",
                    "Top 50 items",
                    "Top 50 items",
                    "Top 50 items",
                    "Top 50 items",
                    "Top 50 items",
                    "Top 50 items",
                    "Top 50 items",
                    ""
                  ],
                  "type": "treemap",
                  "values": [
                    249,
                    253,
                    654,
                    226,
                    608,
                    193,
                    351,
                    450,
                    1230,
                    603,
                    383,
                    238,
                    1348,
                    203,
                    199,
                    595,
                    1282,
                    169,
                    323,
                    167,
                    474,
                    715,
                    393,
                    990,
                    737,
                    203,
                    371,
                    355,
                    243,
                    204,
                    573,
                    972,
                    1787,
                    181,
                    173,
                    493,
                    713,
                    199,
                    211,
                    318,
                    535,
                    379,
                    1306,
                    227,
                    513,
                    469,
                    192,
                    221,
                    439,
                    205,
                    24515
                  ]
                }
              ],
              "layout": {
                "coloraxis": {
                  "colorbar": {
                    "title": {
                      "text": "color"
                    }
                  },
                  "colorscale": [
                    [
                      0,
                      "rgb(247,251,255)"
                    ],
                    [
                      0.125,
                      "rgb(222,235,247)"
                    ],
                    [
                      0.25,
                      "rgb(198,219,239)"
                    ],
                    [
                      0.375,
                      "rgb(158,202,225)"
                    ],
                    [
                      0.5,
                      "rgb(107,174,214)"
                    ],
                    [
                      0.625,
                      "rgb(66,146,198)"
                    ],
                    [
                      0.75,
                      "rgb(33,113,181)"
                    ],
                    [
                      0.875,
                      "rgb(8,81,156)"
                    ],
                    [
                      1,
                      "rgb(8,48,107)"
                    ]
                  ]
                },
                "legend": {
                  "tracegroupgap": 0
                },
                "margin": {
                  "t": 60
                },
                "template": {
                  "data": {
                    "bar": [
                      {
                        "error_x": {
                          "color": "#2a3f5f"
                        },
                        "error_y": {
                          "color": "#2a3f5f"
                        },
                        "marker": {
                          "line": {
                            "color": "#E5ECF6",
                            "width": 0.5
                          },
                          "pattern": {
                            "fillmode": "overlay",
                            "size": 10,
                            "solidity": 0.2
                          }
                        },
                        "type": "bar"
                      }
                    ],
                    "barpolar": [
                      {
                        "marker": {
                          "line": {
                            "color": "#E5ECF6",
                            "width": 0.5
                          },
                          "pattern": {
                            "fillmode": "overlay",
                            "size": 10,
                            "solidity": 0.2
                          }
                        },
                        "type": "barpolar"
                      }
                    ],
                    "carpet": [
                      {
                        "aaxis": {
                          "endlinecolor": "#2a3f5f",
                          "gridcolor": "white",
                          "linecolor": "white",
                          "minorgridcolor": "white",
                          "startlinecolor": "#2a3f5f"
                        },
                        "baxis": {
                          "endlinecolor": "#2a3f5f",
                          "gridcolor": "white",
                          "linecolor": "white",
                          "minorgridcolor": "white",
                          "startlinecolor": "#2a3f5f"
                        },
                        "type": "carpet"
                      }
                    ],
                    "choropleth": [
                      {
                        "colorbar": {
                          "outlinewidth": 0,
                          "ticks": ""
                        },
                        "type": "choropleth"
                      }
                    ],
                    "contour": [
                      {
                        "colorbar": {
                          "outlinewidth": 0,
                          "ticks": ""
                        },
                        "colorscale": [
                          [
                            0,
                            "#0d0887"
                          ],
                          [
                            0.1111111111111111,
                            "#46039f"
                          ],
                          [
                            0.2222222222222222,
                            "#7201a8"
                          ],
                          [
                            0.3333333333333333,
                            "#9c179e"
                          ],
                          [
                            0.4444444444444444,
                            "#bd3786"
                          ],
                          [
                            0.5555555555555556,
                            "#d8576b"
                          ],
                          [
                            0.6666666666666666,
                            "#ed7953"
                          ],
                          [
                            0.7777777777777778,
                            "#fb9f3a"
                          ],
                          [
                            0.8888888888888888,
                            "#fdca26"
                          ],
                          [
                            1,
                            "#f0f921"
                          ]
                        ],
                        "type": "contour"
                      }
                    ],
                    "contourcarpet": [
                      {
                        "colorbar": {
                          "outlinewidth": 0,
                          "ticks": ""
                        },
                        "type": "contourcarpet"
                      }
                    ],
                    "heatmap": [
                      {
                        "colorbar": {
                          "outlinewidth": 0,
                          "ticks": ""
                        },
                        "colorscale": [
                          [
                            0,
                            "#0d0887"
                          ],
                          [
                            0.1111111111111111,
                            "#46039f"
                          ],
                          [
                            0.2222222222222222,
                            "#7201a8"
                          ],
                          [
                            0.3333333333333333,
                            "#9c179e"
                          ],
                          [
                            0.4444444444444444,
                            "#bd3786"
                          ],
                          [
                            0.5555555555555556,
                            "#d8576b"
                          ],
                          [
                            0.6666666666666666,
                            "#ed7953"
                          ],
                          [
                            0.7777777777777778,
                            "#fb9f3a"
                          ],
                          [
                            0.8888888888888888,
                            "#fdca26"
                          ],
                          [
                            1,
                            "#f0f921"
                          ]
                        ],
                        "type": "heatmap"
                      }
                    ],
                    "heatmapgl": [
                      {
                        "colorbar": {
                          "outlinewidth": 0,
                          "ticks": ""
                        },
                        "colorscale": [
                          [
                            0,
                            "#0d0887"
                          ],
                          [
                            0.1111111111111111,
                            "#46039f"
                          ],
                          [
                            0.2222222222222222,
                            "#7201a8"
                          ],
                          [
                            0.3333333333333333,
                            "#9c179e"
                          ],
                          [
                            0.4444444444444444,
                            "#bd3786"
                          ],
                          [
                            0.5555555555555556,
                            "#d8576b"
                          ],
                          [
                            0.6666666666666666,
                            "#ed7953"
                          ],
                          [
                            0.7777777777777778,
                            "#fb9f3a"
                          ],
                          [
                            0.8888888888888888,
                            "#fdca26"
                          ],
                          [
                            1,
                            "#f0f921"
                          ]
                        ],
                        "type": "heatmapgl"
                      }
                    ],
                    "histogram": [
                      {
                        "marker": {
                          "pattern": {
                            "fillmode": "overlay",
                            "size": 10,
                            "solidity": 0.2
                          }
                        },
                        "type": "histogram"
                      }
                    ],
                    "histogram2d": [
                      {
                        "colorbar": {
                          "outlinewidth": 0,
                          "ticks": ""
                        },
                        "colorscale": [
                          [
                            0,
                            "#0d0887"
                          ],
                          [
                            0.1111111111111111,
                            "#46039f"
                          ],
                          [
                            0.2222222222222222,
                            "#7201a8"
                          ],
                          [
                            0.3333333333333333,
                            "#9c179e"
                          ],
                          [
                            0.4444444444444444,
                            "#bd3786"
                          ],
                          [
                            0.5555555555555556,
                            "#d8576b"
                          ],
                          [
                            0.6666666666666666,
                            "#ed7953"
                          ],
                          [
                            0.7777777777777778,
                            "#fb9f3a"
                          ],
                          [
                            0.8888888888888888,
                            "#fdca26"
                          ],
                          [
                            1,
                            "#f0f921"
                          ]
                        ],
                        "type": "histogram2d"
                      }
                    ],
                    "histogram2dcontour": [
                      {
                        "colorbar": {
                          "outlinewidth": 0,
                          "ticks": ""
                        },
                        "colorscale": [
                          [
                            0,
                            "#0d0887"
                          ],
                          [
                            0.1111111111111111,
                            "#46039f"
                          ],
                          [
                            0.2222222222222222,
                            "#7201a8"
                          ],
                          [
                            0.3333333333333333,
                            "#9c179e"
                          ],
                          [
                            0.4444444444444444,
                            "#bd3786"
                          ],
                          [
                            0.5555555555555556,
                            "#d8576b"
                          ],
                          [
                            0.6666666666666666,
                            "#ed7953"
                          ],
                          [
                            0.7777777777777778,
                            "#fb9f3a"
                          ],
                          [
                            0.8888888888888888,
                            "#fdca26"
                          ],
                          [
                            1,
                            "#f0f921"
                          ]
                        ],
                        "type": "histogram2dcontour"
                      }
                    ],
                    "mesh3d": [
                      {
                        "colorbar": {
                          "outlinewidth": 0,
                          "ticks": ""
                        },
                        "type": "mesh3d"
                      }
                    ],
                    "parcoords": [
                      {
                        "line": {
                          "colorbar": {
                            "outlinewidth": 0,
                            "ticks": ""
                          }
                        },
                        "type": "parcoords"
                      }
                    ],
                    "pie": [
                      {
                        "automargin": true,
                        "type": "pie"
                      }
                    ],
                    "scatter": [
                      {
                        "fillpattern": {
                          "fillmode": "overlay",
                          "size": 10,
                          "solidity": 0.2
                        },
                        "type": "scatter"
                      }
                    ],
                    "scatter3d": [
                      {
                        "line": {
                          "colorbar": {
                            "outlinewidth": 0,
                            "ticks": ""
                          }
                        },
                        "marker": {
                          "colorbar": {
                            "outlinewidth": 0,
                            "ticks": ""
                          }
                        },
                        "type": "scatter3d"
                      }
                    ],
                    "scattercarpet": [
                      {
                        "marker": {
                          "colorbar": {
                            "outlinewidth": 0,
                            "ticks": ""
                          }
                        },
                        "type": "scattercarpet"
                      }
                    ],
                    "scattergeo": [
                      {
                        "marker": {
                          "colorbar": {
                            "outlinewidth": 0,
                            "ticks": ""
                          }
                        },
                        "type": "scattergeo"
                      }
                    ],
                    "scattergl": [
                      {
                        "marker": {
                          "colorbar": {
                            "outlinewidth": 0,
                            "ticks": ""
                          }
                        },
                        "type": "scattergl"
                      }
                    ],
                    "scattermapbox": [
                      {
                        "marker": {
                          "colorbar": {
                            "outlinewidth": 0,
                            "ticks": ""
                          }
                        },
                        "type": "scattermapbox"
                      }
                    ],
                    "scatterpolar": [
                      {
                        "marker": {
                          "colorbar": {
                            "outlinewidth": 0,
                            "ticks": ""
                          }
                        },
                        "type": "scatterpolar"
                      }
                    ],
                    "scatterpolargl": [
                      {
                        "marker": {
                          "colorbar": {
                            "outlinewidth": 0,
                            "ticks": ""
                          }
                        },
                        "type": "scatterpolargl"
                      }
                    ],
                    "scatterternary": [
                      {
                        "marker": {
                          "colorbar": {
                            "outlinewidth": 0,
                            "ticks": ""
                          }
                        },
                        "type": "scatterternary"
                      }
                    ],
                    "surface": [
                      {
                        "colorbar": {
                          "outlinewidth": 0,
                          "ticks": ""
                        },
                        "colorscale": [
                          [
                            0,
                            "#0d0887"
                          ],
                          [
                            0.1111111111111111,
                            "#46039f"
                          ],
                          [
                            0.2222222222222222,
                            "#7201a8"
                          ],
                          [
                            0.3333333333333333,
                            "#9c179e"
                          ],
                          [
                            0.4444444444444444,
                            "#bd3786"
                          ],
                          [
                            0.5555555555555556,
                            "#d8576b"
                          ],
                          [
                            0.6666666666666666,
                            "#ed7953"
                          ],
                          [
                            0.7777777777777778,
                            "#fb9f3a"
                          ],
                          [
                            0.8888888888888888,
                            "#fdca26"
                          ],
                          [
                            1,
                            "#f0f921"
                          ]
                        ],
                        "type": "surface"
                      }
                    ],
                    "table": [
                      {
                        "cells": {
                          "fill": {
                            "color": "#EBF0F8"
                          },
                          "line": {
                            "color": "white"
                          }
                        },
                        "header": {
                          "fill": {
                            "color": "#C8D4E3"
                          },
                          "line": {
                            "color": "white"
                          }
                        },
                        "type": "table"
                      }
                    ]
                  },
                  "layout": {
                    "annotationdefaults": {
                      "arrowcolor": "#2a3f5f",
                      "arrowhead": 0,
                      "arrowwidth": 1
                    },
                    "autotypenumbers": "strict",
                    "coloraxis": {
                      "colorbar": {
                        "outlinewidth": 0,
                        "ticks": ""
                      }
                    },
                    "colorscale": {
                      "diverging": [
                        [
                          0,
                          "#8e0152"
                        ],
                        [
                          0.1,
                          "#c51b7d"
                        ],
                        [
                          0.2,
                          "#de77ae"
                        ],
                        [
                          0.3,
                          "#f1b6da"
                        ],
                        [
                          0.4,
                          "#fde0ef"
                        ],
                        [
                          0.5,
                          "#f7f7f7"
                        ],
                        [
                          0.6,
                          "#e6f5d0"
                        ],
                        [
                          0.7,
                          "#b8e186"
                        ],
                        [
                          0.8,
                          "#7fbc41"
                        ],
                        [
                          0.9,
                          "#4d9221"
                        ],
                        [
                          1,
                          "#276419"
                        ]
                      ],
                      "sequential": [
                        [
                          0,
                          "#0d0887"
                        ],
                        [
                          0.1111111111111111,
                          "#46039f"
                        ],
                        [
                          0.2222222222222222,
                          "#7201a8"
                        ],
                        [
                          0.3333333333333333,
                          "#9c179e"
                        ],
                        [
                          0.4444444444444444,
                          "#bd3786"
                        ],
                        [
                          0.5555555555555556,
                          "#d8576b"
                        ],
                        [
                          0.6666666666666666,
                          "#ed7953"
                        ],
                        [
                          0.7777777777777778,
                          "#fb9f3a"
                        ],
                        [
                          0.8888888888888888,
                          "#fdca26"
                        ],
                        [
                          1,
                          "#f0f921"
                        ]
                      ],
                      "sequentialminus": [
                        [
                          0,
                          "#0d0887"
                        ],
                        [
                          0.1111111111111111,
                          "#46039f"
                        ],
                        [
                          0.2222222222222222,
                          "#7201a8"
                        ],
                        [
                          0.3333333333333333,
                          "#9c179e"
                        ],
                        [
                          0.4444444444444444,
                          "#bd3786"
                        ],
                        [
                          0.5555555555555556,
                          "#d8576b"
                        ],
                        [
                          0.6666666666666666,
                          "#ed7953"
                        ],
                        [
                          0.7777777777777778,
                          "#fb9f3a"
                        ],
                        [
                          0.8888888888888888,
                          "#fdca26"
                        ],
                        [
                          1,
                          "#f0f921"
                        ]
                      ]
                    },
                    "colorway": [
                      "#636efa",
                      "#EF553B",
                      "#00cc96",
                      "#ab63fa",
                      "#FFA15A",
                      "#19d3f3",
                      "#FF6692",
                      "#B6E880",
                      "#FF97FF",
                      "#FECB52"
                    ],
                    "font": {
                      "color": "#2a3f5f"
                    },
                    "geo": {
                      "bgcolor": "white",
                      "lakecolor": "white",
                      "landcolor": "#E5ECF6",
                      "showlakes": true,
                      "showland": true,
                      "subunitcolor": "white"
                    },
                    "hoverlabel": {
                      "align": "left"
                    },
                    "hovermode": "closest",
                    "mapbox": {
                      "style": "light"
                    },
                    "paper_bgcolor": "white",
                    "plot_bgcolor": "#E5ECF6",
                    "polar": {
                      "angularaxis": {
                        "gridcolor": "white",
                        "linecolor": "white",
                        "ticks": ""
                      },
                      "bgcolor": "#E5ECF6",
                      "radialaxis": {
                        "gridcolor": "white",
                        "linecolor": "white",
                        "ticks": ""
                      }
                    },
                    "scene": {
                      "xaxis": {
                        "backgroundcolor": "#E5ECF6",
                        "gridcolor": "white",
                        "gridwidth": 2,
                        "linecolor": "white",
                        "showbackground": true,
                        "ticks": "",
                        "zerolinecolor": "white"
                      },
                      "yaxis": {
                        "backgroundcolor": "#E5ECF6",
                        "gridcolor": "white",
                        "gridwidth": 2,
                        "linecolor": "white",
                        "showbackground": true,
                        "ticks": "",
                        "zerolinecolor": "white"
                      },
                      "zaxis": {
                        "backgroundcolor": "#E5ECF6",
                        "gridcolor": "white",
                        "gridwidth": 2,
                        "linecolor": "white",
                        "showbackground": true,
                        "ticks": "",
                        "zerolinecolor": "white"
                      }
                    },
                    "shapedefaults": {
                      "line": {
                        "color": "#2a3f5f"
                      }
                    },
                    "ternary": {
                      "aaxis": {
                        "gridcolor": "white",
                        "linecolor": "white",
                        "ticks": ""
                      },
                      "baxis": {
                        "gridcolor": "white",
                        "linecolor": "white",
                        "ticks": ""
                      },
                      "bgcolor": "#E5ECF6",
                      "caxis": {
                        "gridcolor": "white",
                        "linecolor": "white",
                        "ticks": ""
                      }
                    },
                    "title": {
                      "x": 0.05
                    },
                    "xaxis": {
                      "automargin": true,
                      "gridcolor": "white",
                      "linecolor": "white",
                      "ticks": "",
                      "title": {
                        "standoff": 15
                      },
                      "zerolinecolor": "white",
                      "zerolinewidth": 2
                    },
                    "yaxis": {
                      "automargin": true,
                      "gridcolor": "white",
                      "linecolor": "white",
                      "ticks": "",
                      "title": {
                        "standoff": 15
                      },
                      "zerolinecolor": "white",
                      "zerolinewidth": 2
                    }
                  }
                }
              }
            }
          },
          "metadata": {},
          "output_type": "display_data"
        }
      ],
      "source": [
        "# importing required module\n",
        "import plotly.express as px\n",
        "# to have a same origin\n",
        "df_table[\"all\"] = \"Top 50 items\" \n",
        "# creating tree map using plotly\n",
        "fig = px.treemap(df_table.head(50), path=['all', \"items\"], values='incident_count',\n",
        "                  color=df_table[\"incident_count\"].head(50), hover_data=['items'],\n",
        "                  color_continuous_scale='Blues',\n",
        "                )\n",
        "# ploting the treemap\n",
        "fig.show()"
      ]
    },
    {
      "cell_type": "code",
      "execution_count": 32,
      "metadata": {
        "id": "1JCYpkWYrUt9"
      },
      "outputs": [],
      "source": [
        "# #  Transform Every Transaction to Seperate List & Gather Them into Numpy Array\n",
        "# transaction = []\n",
        "# for i in range(dataset.shape[0]):\n",
        "#     transaction.append([str(dataset.values[i,j]) for j in range(dataset.shape[1])])\n",
        "# # creating the numpy array of the transactions\n",
        "# transaction = np.array(transaction)\n",
        "transaction = np.load('transaction1.npy')"
      ]
    },
    {
      "cell_type": "code",
      "execution_count": 33,
      "metadata": {
        "colab": {
          "base_uri": "https://localhost:8080/"
        },
        "id": "kK3L9Icfsq02",
        "outputId": "8ecf82c5-5f32-47ce-de24-2bd17da15add"
      },
      "outputs": [
        {
          "data": {
            "text/plain": [
              "array([['burgers', 'meatballs', 'eggs', ..., 'nan', 'nan', 'nan'],\n",
              "       ['chutney', 'nan', 'nan', ..., 'nan', 'nan', 'nan'],\n",
              "       ['turkey', 'avocado', 'nan', ..., 'nan', 'nan', 'nan'],\n",
              "       ...,\n",
              "       ['chicken', 'nan', 'nan', ..., 'nan', 'nan', 'nan'],\n",
              "       ['escalope', 'green tea', 'nan', ..., 'nan', 'nan', 'nan'],\n",
              "       ['eggs', 'frozen smoothie', 'yogurt cake', ..., 'nan', 'nan',\n",
              "        'nan']], dtype='<U20')"
            ]
          },
          "execution_count": 33,
          "metadata": {},
          "output_type": "execute_result"
        }
      ],
      "source": [
        "transaction"
      ]
    },
    {
      "cell_type": "code",
      "execution_count": 34,
      "metadata": {
        "colab": {
          "base_uri": "https://localhost:8080/",
          "height": 314
        },
        "id": "nanq7EmAziBI",
        "outputId": "84b66e1b-7d55-4ff5-e1b7-1ce2615ac960"
      },
      "outputs": [
        {
          "data": {
            "text/html": [
              "<div>\n",
              "<style scoped>\n",
              "    .dataframe tbody tr th:only-of-type {\n",
              "        vertical-align: middle;\n",
              "    }\n",
              "\n",
              "    .dataframe tbody tr th {\n",
              "        vertical-align: top;\n",
              "    }\n",
              "\n",
              "    .dataframe thead th {\n",
              "        text-align: right;\n",
              "    }\n",
              "</style>\n",
              "<table border=\"1\" class=\"dataframe\">\n",
              "  <thead>\n",
              "    <tr style=\"text-align: right;\">\n",
              "      <th></th>\n",
              "      <th>asparagus</th>\n",
              "      <th>almonds</th>\n",
              "      <th>antioxydant juice</th>\n",
              "      <th>asparagus</th>\n",
              "      <th>avocado</th>\n",
              "      <th>babies food</th>\n",
              "      <th>bacon</th>\n",
              "      <th>barbecue sauce</th>\n",
              "      <th>black tea</th>\n",
              "      <th>blueberries</th>\n",
              "      <th>...</th>\n",
              "      <th>turkey</th>\n",
              "      <th>vegetables mix</th>\n",
              "      <th>water spray</th>\n",
              "      <th>white wine</th>\n",
              "      <th>whole weat flour</th>\n",
              "      <th>whole wheat pasta</th>\n",
              "      <th>whole wheat rice</th>\n",
              "      <th>yams</th>\n",
              "      <th>yogurt cake</th>\n",
              "      <th>zucchini</th>\n",
              "    </tr>\n",
              "  </thead>\n",
              "  <tbody>\n",
              "    <tr>\n",
              "      <th>0</th>\n",
              "      <td>False</td>\n",
              "      <td>False</td>\n",
              "      <td>False</td>\n",
              "      <td>False</td>\n",
              "      <td>False</td>\n",
              "      <td>False</td>\n",
              "      <td>False</td>\n",
              "      <td>False</td>\n",
              "      <td>False</td>\n",
              "      <td>False</td>\n",
              "      <td>...</td>\n",
              "      <td>False</td>\n",
              "      <td>False</td>\n",
              "      <td>False</td>\n",
              "      <td>False</td>\n",
              "      <td>False</td>\n",
              "      <td>False</td>\n",
              "      <td>False</td>\n",
              "      <td>False</td>\n",
              "      <td>False</td>\n",
              "      <td>False</td>\n",
              "    </tr>\n",
              "    <tr>\n",
              "      <th>1</th>\n",
              "      <td>False</td>\n",
              "      <td>False</td>\n",
              "      <td>False</td>\n",
              "      <td>False</td>\n",
              "      <td>False</td>\n",
              "      <td>False</td>\n",
              "      <td>False</td>\n",
              "      <td>False</td>\n",
              "      <td>False</td>\n",
              "      <td>False</td>\n",
              "      <td>...</td>\n",
              "      <td>False</td>\n",
              "      <td>False</td>\n",
              "      <td>False</td>\n",
              "      <td>False</td>\n",
              "      <td>False</td>\n",
              "      <td>False</td>\n",
              "      <td>False</td>\n",
              "      <td>False</td>\n",
              "      <td>False</td>\n",
              "      <td>False</td>\n",
              "    </tr>\n",
              "    <tr>\n",
              "      <th>2</th>\n",
              "      <td>False</td>\n",
              "      <td>False</td>\n",
              "      <td>False</td>\n",
              "      <td>False</td>\n",
              "      <td>True</td>\n",
              "      <td>False</td>\n",
              "      <td>False</td>\n",
              "      <td>False</td>\n",
              "      <td>False</td>\n",
              "      <td>False</td>\n",
              "      <td>...</td>\n",
              "      <td>True</td>\n",
              "      <td>False</td>\n",
              "      <td>False</td>\n",
              "      <td>False</td>\n",
              "      <td>False</td>\n",
              "      <td>False</td>\n",
              "      <td>False</td>\n",
              "      <td>False</td>\n",
              "      <td>False</td>\n",
              "      <td>False</td>\n",
              "    </tr>\n",
              "    <tr>\n",
              "      <th>3</th>\n",
              "      <td>False</td>\n",
              "      <td>False</td>\n",
              "      <td>False</td>\n",
              "      <td>False</td>\n",
              "      <td>False</td>\n",
              "      <td>False</td>\n",
              "      <td>False</td>\n",
              "      <td>False</td>\n",
              "      <td>False</td>\n",
              "      <td>False</td>\n",
              "      <td>...</td>\n",
              "      <td>False</td>\n",
              "      <td>False</td>\n",
              "      <td>False</td>\n",
              "      <td>False</td>\n",
              "      <td>False</td>\n",
              "      <td>False</td>\n",
              "      <td>True</td>\n",
              "      <td>False</td>\n",
              "      <td>False</td>\n",
              "      <td>False</td>\n",
              "    </tr>\n",
              "    <tr>\n",
              "      <th>4</th>\n",
              "      <td>False</td>\n",
              "      <td>False</td>\n",
              "      <td>False</td>\n",
              "      <td>False</td>\n",
              "      <td>False</td>\n",
              "      <td>False</td>\n",
              "      <td>False</td>\n",
              "      <td>False</td>\n",
              "      <td>False</td>\n",
              "      <td>False</td>\n",
              "      <td>...</td>\n",
              "      <td>False</td>\n",
              "      <td>False</td>\n",
              "      <td>False</td>\n",
              "      <td>False</td>\n",
              "      <td>False</td>\n",
              "      <td>False</td>\n",
              "      <td>False</td>\n",
              "      <td>False</td>\n",
              "      <td>False</td>\n",
              "      <td>False</td>\n",
              "    </tr>\n",
              "  </tbody>\n",
              "</table>\n",
              "<p>5 rows × 121 columns</p>\n",
              "</div>"
            ],
            "text/plain": [
              "    asparagus  almonds  antioxydant juice  asparagus  avocado  babies food  \\\n",
              "0       False    False              False      False    False        False   \n",
              "1       False    False              False      False    False        False   \n",
              "2       False    False              False      False     True        False   \n",
              "3       False    False              False      False    False        False   \n",
              "4       False    False              False      False    False        False   \n",
              "\n",
              "   bacon  barbecue sauce  black tea  blueberries  ...  turkey  vegetables mix  \\\n",
              "0  False           False      False        False  ...   False           False   \n",
              "1  False           False      False        False  ...   False           False   \n",
              "2  False           False      False        False  ...    True           False   \n",
              "3  False           False      False        False  ...   False           False   \n",
              "4  False           False      False        False  ...   False           False   \n",
              "\n",
              "   water spray  white wine  whole weat flour  whole wheat pasta  \\\n",
              "0        False       False             False              False   \n",
              "1        False       False             False              False   \n",
              "2        False       False             False              False   \n",
              "3        False       False             False              False   \n",
              "4        False       False             False              False   \n",
              "\n",
              "   whole wheat rice   yams  yogurt cake  zucchini  \n",
              "0             False  False        False     False  \n",
              "1             False  False        False     False  \n",
              "2             False  False        False     False  \n",
              "3              True  False        False     False  \n",
              "4             False  False        False     False  \n",
              "\n",
              "[5 rows x 121 columns]"
            ]
          },
          "execution_count": 34,
          "metadata": {},
          "output_type": "execute_result"
        }
      ],
      "source": [
        "# importing the required module\n",
        "from mlxtend.preprocessing import TransactionEncoder\n",
        "# initializing the transactionEncoder\n",
        "te = TransactionEncoder()\n",
        "te_ary = te.fit(transaction).transform(transaction)\n",
        "dataset = pd.DataFrame(te_ary, columns=te.columns_)\n",
        "# dataset after encoded\n",
        "dataset.head()"
      ]
    },
    {
      "cell_type": "code",
      "execution_count": 35,
      "metadata": {
        "colab": {
          "base_uri": "https://localhost:8080/"
        },
        "id": "tWgSuJPM0kFv",
        "outputId": "9af50bc2-7b99-450b-a4b5-5e96a266007b"
      },
      "outputs": [
        {
          "data": {
            "text/plain": [
              "(7500, 30)"
            ]
          },
          "execution_count": 35,
          "metadata": {},
          "output_type": "execute_result"
        }
      ],
      "source": [
        "# select top 30 items\n",
        "first30 = df_table[\"items\"].head(30).values \n",
        "# Extract Top 30\n",
        "dataset = dataset.loc[:,first30] \n",
        "# shape of the dataset\n",
        "dataset.shape"
      ]
    },
    {
      "cell_type": "code",
      "execution_count": 36,
      "metadata": {
        "id": "b3FfpCp31swk"
      },
      "outputs": [],
      "source": [
        "# !pip install mlxtend --upgrade"
      ]
    },
    {
      "cell_type": "code",
      "execution_count": 37,
      "metadata": {
        "colab": {
          "base_uri": "https://localhost:8080/",
          "height": 363
        },
        "id": "KoaWRnuy0uXv",
        "outputId": "407b50ed-c0ff-4179-ef5b-3d644482cd69"
      },
      "outputs": [
        {
          "data": {
            "text/html": [
              "<div>\n",
              "<style scoped>\n",
              "    .dataframe tbody tr th:only-of-type {\n",
              "        vertical-align: middle;\n",
              "    }\n",
              "\n",
              "    .dataframe tbody tr th {\n",
              "        vertical-align: top;\n",
              "    }\n",
              "\n",
              "    .dataframe thead th {\n",
              "        text-align: right;\n",
              "    }\n",
              "</style>\n",
              "<table border=\"1\" class=\"dataframe\">\n",
              "  <thead>\n",
              "    <tr style=\"text-align: right;\">\n",
              "      <th></th>\n",
              "      <th>support</th>\n",
              "      <th>itemsets</th>\n",
              "    </tr>\n",
              "  </thead>\n",
              "  <tbody>\n",
              "    <tr>\n",
              "      <th>0</th>\n",
              "      <td>0.179733</td>\n",
              "      <td>(eggs)</td>\n",
              "    </tr>\n",
              "    <tr>\n",
              "      <th>1</th>\n",
              "      <td>0.087200</td>\n",
              "      <td>(burgers)</td>\n",
              "    </tr>\n",
              "    <tr>\n",
              "      <th>2</th>\n",
              "      <td>0.062533</td>\n",
              "      <td>(turkey)</td>\n",
              "    </tr>\n",
              "    <tr>\n",
              "      <th>3</th>\n",
              "      <td>0.238267</td>\n",
              "      <td>(mineral water)</td>\n",
              "    </tr>\n",
              "    <tr>\n",
              "      <th>4</th>\n",
              "      <td>0.132000</td>\n",
              "      <td>(green tea)</td>\n",
              "    </tr>\n",
              "    <tr>\n",
              "      <th>5</th>\n",
              "      <td>0.129600</td>\n",
              "      <td>(milk)</td>\n",
              "    </tr>\n",
              "    <tr>\n",
              "      <th>6</th>\n",
              "      <td>0.058533</td>\n",
              "      <td>(whole wheat rice)</td>\n",
              "    </tr>\n",
              "    <tr>\n",
              "      <th>7</th>\n",
              "      <td>0.076400</td>\n",
              "      <td>(low fat yogurt)</td>\n",
              "    </tr>\n",
              "    <tr>\n",
              "      <th>8</th>\n",
              "      <td>0.170933</td>\n",
              "      <td>(french fries)</td>\n",
              "    </tr>\n",
              "    <tr>\n",
              "      <th>9</th>\n",
              "      <td>0.050533</td>\n",
              "      <td>(soup)</td>\n",
              "    </tr>\n",
              "  </tbody>\n",
              "</table>\n",
              "</div>"
            ],
            "text/plain": [
              "    support            itemsets\n",
              "0  0.179733              (eggs)\n",
              "1  0.087200           (burgers)\n",
              "2  0.062533            (turkey)\n",
              "3  0.238267     (mineral water)\n",
              "4  0.132000         (green tea)\n",
              "5  0.129600              (milk)\n",
              "6  0.058533  (whole wheat rice)\n",
              "7  0.076400    (low fat yogurt)\n",
              "8  0.170933      (french fries)\n",
              "9  0.050533              (soup)"
            ]
          },
          "execution_count": 37,
          "metadata": {},
          "output_type": "execute_result"
        }
      ],
      "source": [
        "#Importing Libraries\n",
        "from mlxtend.frequent_patterns import fpgrowth\n",
        "#running the fpgrowth algorithm\n",
        "res=fpgrowth(dataset,min_support=0.05, use_colnames=True)\n",
        "# printing top 10\n",
        "res.head(10)"
      ]
    },
    {
      "cell_type": "code",
      "execution_count": 38,
      "metadata": {
        "colab": {
          "base_uri": "https://localhost:8080/",
          "height": 237
        },
        "id": "oZke-BfA1IiA",
        "outputId": "285d1551-4ba1-432f-d03d-45e26b53da1a"
      },
      "outputs": [
        {
          "data": {
            "text/html": [
              "<div>\n",
              "<style scoped>\n",
              "    .dataframe tbody tr th:only-of-type {\n",
              "        vertical-align: middle;\n",
              "    }\n",
              "\n",
              "    .dataframe tbody tr th {\n",
              "        vertical-align: top;\n",
              "    }\n",
              "\n",
              "    .dataframe thead th {\n",
              "        text-align: right;\n",
              "    }\n",
              "</style>\n",
              "<table border=\"1\" class=\"dataframe\">\n",
              "  <thead>\n",
              "    <tr style=\"text-align: right;\">\n",
              "      <th></th>\n",
              "      <th>antecedents</th>\n",
              "      <th>consequents</th>\n",
              "      <th>antecedent support</th>\n",
              "      <th>consequent support</th>\n",
              "      <th>support</th>\n",
              "      <th>confidence</th>\n",
              "      <th>lift</th>\n",
              "      <th>leverage</th>\n",
              "      <th>conviction</th>\n",
              "    </tr>\n",
              "  </thead>\n",
              "  <tbody>\n",
              "    <tr>\n",
              "      <th>0</th>\n",
              "      <td>(mineral water)</td>\n",
              "      <td>(eggs)</td>\n",
              "      <td>0.238267</td>\n",
              "      <td>0.179733</td>\n",
              "      <td>0.050933</td>\n",
              "      <td>0.213766</td>\n",
              "      <td>1.189351</td>\n",
              "      <td>0.008109</td>\n",
              "      <td>1.043286</td>\n",
              "    </tr>\n",
              "    <tr>\n",
              "      <th>1</th>\n",
              "      <td>(eggs)</td>\n",
              "      <td>(mineral water)</td>\n",
              "      <td>0.179733</td>\n",
              "      <td>0.238267</td>\n",
              "      <td>0.050933</td>\n",
              "      <td>0.283383</td>\n",
              "      <td>1.189351</td>\n",
              "      <td>0.008109</td>\n",
              "      <td>1.062957</td>\n",
              "    </tr>\n",
              "    <tr>\n",
              "      <th>2</th>\n",
              "      <td>(mineral water)</td>\n",
              "      <td>(spaghetti)</td>\n",
              "      <td>0.238267</td>\n",
              "      <td>0.174133</td>\n",
              "      <td>0.059733</td>\n",
              "      <td>0.250699</td>\n",
              "      <td>1.439698</td>\n",
              "      <td>0.018243</td>\n",
              "      <td>1.102184</td>\n",
              "    </tr>\n",
              "    <tr>\n",
              "      <th>3</th>\n",
              "      <td>(spaghetti)</td>\n",
              "      <td>(mineral water)</td>\n",
              "      <td>0.174133</td>\n",
              "      <td>0.238267</td>\n",
              "      <td>0.059733</td>\n",
              "      <td>0.343032</td>\n",
              "      <td>1.439698</td>\n",
              "      <td>0.018243</td>\n",
              "      <td>1.159468</td>\n",
              "    </tr>\n",
              "    <tr>\n",
              "      <th>4</th>\n",
              "      <td>(mineral water)</td>\n",
              "      <td>(chocolate)</td>\n",
              "      <td>0.238267</td>\n",
              "      <td>0.163867</td>\n",
              "      <td>0.052667</td>\n",
              "      <td>0.221041</td>\n",
              "      <td>1.348907</td>\n",
              "      <td>0.013623</td>\n",
              "      <td>1.073398</td>\n",
              "    </tr>\n",
              "    <tr>\n",
              "      <th>5</th>\n",
              "      <td>(chocolate)</td>\n",
              "      <td>(mineral water)</td>\n",
              "      <td>0.163867</td>\n",
              "      <td>0.238267</td>\n",
              "      <td>0.052667</td>\n",
              "      <td>0.321400</td>\n",
              "      <td>1.348907</td>\n",
              "      <td>0.013623</td>\n",
              "      <td>1.122506</td>\n",
              "    </tr>\n",
              "  </tbody>\n",
              "</table>\n",
              "</div>"
            ],
            "text/plain": [
              "       antecedents      consequents  antecedent support  consequent support  \\\n",
              "0  (mineral water)           (eggs)            0.238267            0.179733   \n",
              "1           (eggs)  (mineral water)            0.179733            0.238267   \n",
              "2  (mineral water)      (spaghetti)            0.238267            0.174133   \n",
              "3      (spaghetti)  (mineral water)            0.174133            0.238267   \n",
              "4  (mineral water)      (chocolate)            0.238267            0.163867   \n",
              "5      (chocolate)  (mineral water)            0.163867            0.238267   \n",
              "\n",
              "    support  confidence      lift  leverage  conviction  \n",
              "0  0.050933    0.213766  1.189351  0.008109    1.043286  \n",
              "1  0.050933    0.283383  1.189351  0.008109    1.062957  \n",
              "2  0.059733    0.250699  1.439698  0.018243    1.102184  \n",
              "3  0.059733    0.343032  1.439698  0.018243    1.159468  \n",
              "4  0.052667    0.221041  1.348907  0.013623    1.073398  \n",
              "5  0.052667    0.321400  1.348907  0.013623    1.122506  "
            ]
          },
          "execution_count": 38,
          "metadata": {},
          "output_type": "execute_result"
        }
      ],
      "source": [
        "# importing required module\n",
        "from mlxtend.frequent_patterns import association_rules\n",
        "# creating asssociation rules\n",
        "res=association_rules(res, metric=\"lift\", min_threshold=1)\n",
        "# printing association rules\n",
        "res"
      ]
    },
    {
      "cell_type": "code",
      "execution_count": 39,
      "metadata": {
        "colab": {
          "base_uri": "https://localhost:8080/",
          "height": 112
        },
        "id": "OelrLjx-vwoD",
        "outputId": "d16b998b-fd40-4483-f356-a64a1b7ba791"
      },
      "outputs": [
        {
          "data": {
            "text/html": [
              "<div>\n",
              "<style scoped>\n",
              "    .dataframe tbody tr th:only-of-type {\n",
              "        vertical-align: middle;\n",
              "    }\n",
              "\n",
              "    .dataframe tbody tr th {\n",
              "        vertical-align: top;\n",
              "    }\n",
              "\n",
              "    .dataframe thead th {\n",
              "        text-align: right;\n",
              "    }\n",
              "</style>\n",
              "<table border=\"1\" class=\"dataframe\">\n",
              "  <thead>\n",
              "    <tr style=\"text-align: right;\">\n",
              "      <th></th>\n",
              "      <th>antecedents</th>\n",
              "      <th>consequents</th>\n",
              "      <th>antecedent support</th>\n",
              "      <th>consequent support</th>\n",
              "      <th>support</th>\n",
              "      <th>confidence</th>\n",
              "      <th>lift</th>\n",
              "      <th>leverage</th>\n",
              "      <th>conviction</th>\n",
              "    </tr>\n",
              "  </thead>\n",
              "  <tbody>\n",
              "    <tr>\n",
              "      <th>0</th>\n",
              "      <td>(spaghetti)</td>\n",
              "      <td>(mineral water)</td>\n",
              "      <td>0.174133</td>\n",
              "      <td>0.238267</td>\n",
              "      <td>0.059733</td>\n",
              "      <td>0.343032</td>\n",
              "      <td>1.439698</td>\n",
              "      <td>0.018243</td>\n",
              "      <td>1.159468</td>\n",
              "    </tr>\n",
              "    <tr>\n",
              "      <th>1</th>\n",
              "      <td>(chocolate)</td>\n",
              "      <td>(mineral water)</td>\n",
              "      <td>0.163867</td>\n",
              "      <td>0.238267</td>\n",
              "      <td>0.052667</td>\n",
              "      <td>0.321400</td>\n",
              "      <td>1.348907</td>\n",
              "      <td>0.013623</td>\n",
              "      <td>1.122506</td>\n",
              "    </tr>\n",
              "  </tbody>\n",
              "</table>\n",
              "</div>"
            ],
            "text/plain": [
              "   antecedents      consequents  antecedent support  consequent support  \\\n",
              "0  (spaghetti)  (mineral water)            0.174133            0.238267   \n",
              "1  (chocolate)  (mineral water)            0.163867            0.238267   \n",
              "\n",
              "    support  confidence      lift  leverage  conviction  \n",
              "0  0.059733    0.343032  1.439698  0.018243    1.159468  \n",
              "1  0.052667    0.321400  1.348907  0.013623    1.122506  "
            ]
          },
          "execution_count": 39,
          "metadata": {},
          "output_type": "execute_result"
        }
      ],
      "source": [
        "res=fpgrowth(dataset,min_support=0.05, use_colnames=True)\n",
        "# printing top 10\n",
        "res.head(10)\n",
        "\n",
        "# importing required module\n",
        "from mlxtend.frequent_patterns import association_rules\n",
        "# creating asssociation rules\n",
        "res=association_rules(res, metric=\"confidence\", min_threshold=0.3)\n",
        "# printing association rules\n",
        "res"
      ]
    },
    {
      "cell_type": "code",
      "execution_count": 40,
      "metadata": {
        "colab": {
          "base_uri": "https://localhost:8080/",
          "height": 112
        },
        "id": "Bi7dtfek3tnY",
        "outputId": "822df67a-e970-4b07-a09e-e6617e521ebb"
      },
      "outputs": [
        {
          "data": {
            "text/html": [
              "<div>\n",
              "<style scoped>\n",
              "    .dataframe tbody tr th:only-of-type {\n",
              "        vertical-align: middle;\n",
              "    }\n",
              "\n",
              "    .dataframe tbody tr th {\n",
              "        vertical-align: top;\n",
              "    }\n",
              "\n",
              "    .dataframe thead th {\n",
              "        text-align: right;\n",
              "    }\n",
              "</style>\n",
              "<table border=\"1\" class=\"dataframe\">\n",
              "  <thead>\n",
              "    <tr style=\"text-align: right;\">\n",
              "      <th></th>\n",
              "      <th>antecedents</th>\n",
              "      <th>consequents</th>\n",
              "      <th>antecedent support</th>\n",
              "      <th>consequent support</th>\n",
              "      <th>support</th>\n",
              "      <th>confidence</th>\n",
              "      <th>lift</th>\n",
              "      <th>leverage</th>\n",
              "      <th>conviction</th>\n",
              "    </tr>\n",
              "  </thead>\n",
              "  <tbody>\n",
              "    <tr>\n",
              "      <th>0</th>\n",
              "      <td>(spaghetti)</td>\n",
              "      <td>(mineral water)</td>\n",
              "      <td>0.174133</td>\n",
              "      <td>0.238267</td>\n",
              "      <td>0.059733</td>\n",
              "      <td>0.343032</td>\n",
              "      <td>1.439698</td>\n",
              "      <td>0.018243</td>\n",
              "      <td>1.159468</td>\n",
              "    </tr>\n",
              "    <tr>\n",
              "      <th>1</th>\n",
              "      <td>(chocolate)</td>\n",
              "      <td>(mineral water)</td>\n",
              "      <td>0.163867</td>\n",
              "      <td>0.238267</td>\n",
              "      <td>0.052667</td>\n",
              "      <td>0.321400</td>\n",
              "      <td>1.348907</td>\n",
              "      <td>0.013623</td>\n",
              "      <td>1.122506</td>\n",
              "    </tr>\n",
              "  </tbody>\n",
              "</table>\n",
              "</div>"
            ],
            "text/plain": [
              "   antecedents      consequents  antecedent support  consequent support  \\\n",
              "0  (spaghetti)  (mineral water)            0.174133            0.238267   \n",
              "1  (chocolate)  (mineral water)            0.163867            0.238267   \n",
              "\n",
              "    support  confidence      lift  leverage  conviction  \n",
              "0  0.059733    0.343032  1.439698  0.018243    1.159468  \n",
              "1  0.052667    0.321400  1.348907  0.013623    1.122506  "
            ]
          },
          "execution_count": 40,
          "metadata": {},
          "output_type": "execute_result"
        }
      ],
      "source": [
        "res.sort_values(\"confidence\",ascending=False)"
      ]
    },
    {
      "attachments": {},
      "cell_type": "markdown",
      "metadata": {},
      "source": [
        "# Implementation"
      ]
    },
    {
      "cell_type": "code",
      "execution_count": 41,
      "metadata": {
        "id": "1IGQWbvi333A"
      },
      "outputs": [
        {
          "data": {
            "text/html": [
              "<div>\n",
              "<style scoped>\n",
              "    .dataframe tbody tr th:only-of-type {\n",
              "        vertical-align: middle;\n",
              "    }\n",
              "\n",
              "    .dataframe tbody tr th {\n",
              "        vertical-align: top;\n",
              "    }\n",
              "\n",
              "    .dataframe thead th {\n",
              "        text-align: right;\n",
              "    }\n",
              "</style>\n",
              "<table border=\"1\" class=\"dataframe\">\n",
              "  <thead>\n",
              "    <tr style=\"text-align: right;\">\n",
              "      <th></th>\n",
              "      <th>antecedents</th>\n",
              "      <th>consequents</th>\n",
              "      <th>antecedent support</th>\n",
              "      <th>consequent support</th>\n",
              "      <th>support</th>\n",
              "      <th>confidence</th>\n",
              "      <th>lift</th>\n",
              "      <th>leverage</th>\n",
              "      <th>conviction</th>\n",
              "    </tr>\n",
              "  </thead>\n",
              "  <tbody>\n",
              "    <tr>\n",
              "      <th>1</th>\n",
              "      <td>(spaghetti)</td>\n",
              "      <td>(mineral water)</td>\n",
              "      <td>0.174133</td>\n",
              "      <td>0.238267</td>\n",
              "      <td>0.059733</td>\n",
              "      <td>0.343032</td>\n",
              "      <td>1.439698</td>\n",
              "      <td>0.018243</td>\n",
              "      <td>1.159468</td>\n",
              "    </tr>\n",
              "    <tr>\n",
              "      <th>3</th>\n",
              "      <td>(chocolate)</td>\n",
              "      <td>(mineral water)</td>\n",
              "      <td>0.163867</td>\n",
              "      <td>0.238267</td>\n",
              "      <td>0.052667</td>\n",
              "      <td>0.321400</td>\n",
              "      <td>1.348907</td>\n",
              "      <td>0.013623</td>\n",
              "      <td>1.122506</td>\n",
              "    </tr>\n",
              "    <tr>\n",
              "      <th>0</th>\n",
              "      <td>(mineral water)</td>\n",
              "      <td>(spaghetti)</td>\n",
              "      <td>0.238267</td>\n",
              "      <td>0.174133</td>\n",
              "      <td>0.059733</td>\n",
              "      <td>0.250699</td>\n",
              "      <td>1.439698</td>\n",
              "      <td>0.018243</td>\n",
              "      <td>1.102184</td>\n",
              "    </tr>\n",
              "    <tr>\n",
              "      <th>2</th>\n",
              "      <td>(mineral water)</td>\n",
              "      <td>(chocolate)</td>\n",
              "      <td>0.238267</td>\n",
              "      <td>0.163867</td>\n",
              "      <td>0.052667</td>\n",
              "      <td>0.221041</td>\n",
              "      <td>1.348907</td>\n",
              "      <td>0.013623</td>\n",
              "      <td>1.073398</td>\n",
              "    </tr>\n",
              "  </tbody>\n",
              "</table>\n",
              "</div>"
            ],
            "text/plain": [
              "       antecedents      consequents  antecedent support  consequent support  \\\n",
              "1      (spaghetti)  (mineral water)            0.174133            0.238267   \n",
              "3      (chocolate)  (mineral water)            0.163867            0.238267   \n",
              "0  (mineral water)      (spaghetti)            0.238267            0.174133   \n",
              "2  (mineral water)      (chocolate)            0.238267            0.163867   \n",
              "\n",
              "    support  confidence      lift  leverage  conviction  \n",
              "1  0.059733    0.343032  1.439698  0.018243    1.159468  \n",
              "3  0.052667    0.321400  1.348907  0.013623    1.122506  \n",
              "0  0.059733    0.250699  1.439698  0.018243    1.102184  \n",
              "2  0.052667    0.221041  1.348907  0.013623    1.073398  "
            ]
          },
          "execution_count": 41,
          "metadata": {},
          "output_type": "execute_result"
        }
      ],
      "source": [
        "# using leverage\n",
        "\n",
        "res=fpgrowth(dataset,min_support=0.05, use_colnames=True)\n",
        "# importing required module\n",
        "from mlxtend.frequent_patterns import association_rules\n",
        "# creating asssociation rules\n",
        "res=association_rules(res, metric=\"leverage\", min_threshold=0.01)\n",
        "# printing association rules\n",
        "res.sort_values(\"confidence\",ascending=False)"
      ]
    },
    {
      "cell_type": "code",
      "execution_count": 42,
      "metadata": {},
      "outputs": [
        {
          "data": {
            "text/html": [
              "<div>\n",
              "<style scoped>\n",
              "    .dataframe tbody tr th:only-of-type {\n",
              "        vertical-align: middle;\n",
              "    }\n",
              "\n",
              "    .dataframe tbody tr th {\n",
              "        vertical-align: top;\n",
              "    }\n",
              "\n",
              "    .dataframe thead th {\n",
              "        text-align: right;\n",
              "    }\n",
              "</style>\n",
              "<table border=\"1\" class=\"dataframe\">\n",
              "  <thead>\n",
              "    <tr style=\"text-align: right;\">\n",
              "      <th></th>\n",
              "      <th>antecedents</th>\n",
              "      <th>consequents</th>\n",
              "      <th>antecedent support</th>\n",
              "      <th>consequent support</th>\n",
              "      <th>support</th>\n",
              "      <th>confidence</th>\n",
              "      <th>lift</th>\n",
              "      <th>leverage</th>\n",
              "      <th>conviction</th>\n",
              "    </tr>\n",
              "  </thead>\n",
              "  <tbody>\n",
              "    <tr>\n",
              "      <th>3</th>\n",
              "      <td>(spaghetti)</td>\n",
              "      <td>(mineral water)</td>\n",
              "      <td>0.174133</td>\n",
              "      <td>0.238267</td>\n",
              "      <td>0.059733</td>\n",
              "      <td>0.343032</td>\n",
              "      <td>1.439698</td>\n",
              "      <td>0.018243</td>\n",
              "      <td>1.159468</td>\n",
              "    </tr>\n",
              "    <tr>\n",
              "      <th>5</th>\n",
              "      <td>(chocolate)</td>\n",
              "      <td>(mineral water)</td>\n",
              "      <td>0.163867</td>\n",
              "      <td>0.238267</td>\n",
              "      <td>0.052667</td>\n",
              "      <td>0.321400</td>\n",
              "      <td>1.348907</td>\n",
              "      <td>0.013623</td>\n",
              "      <td>1.122506</td>\n",
              "    </tr>\n",
              "    <tr>\n",
              "      <th>1</th>\n",
              "      <td>(eggs)</td>\n",
              "      <td>(mineral water)</td>\n",
              "      <td>0.179733</td>\n",
              "      <td>0.238267</td>\n",
              "      <td>0.050933</td>\n",
              "      <td>0.283383</td>\n",
              "      <td>1.189351</td>\n",
              "      <td>0.008109</td>\n",
              "      <td>1.062957</td>\n",
              "    </tr>\n",
              "    <tr>\n",
              "      <th>2</th>\n",
              "      <td>(mineral water)</td>\n",
              "      <td>(spaghetti)</td>\n",
              "      <td>0.238267</td>\n",
              "      <td>0.174133</td>\n",
              "      <td>0.059733</td>\n",
              "      <td>0.250699</td>\n",
              "      <td>1.439698</td>\n",
              "      <td>0.018243</td>\n",
              "      <td>1.102184</td>\n",
              "    </tr>\n",
              "    <tr>\n",
              "      <th>4</th>\n",
              "      <td>(mineral water)</td>\n",
              "      <td>(chocolate)</td>\n",
              "      <td>0.238267</td>\n",
              "      <td>0.163867</td>\n",
              "      <td>0.052667</td>\n",
              "      <td>0.221041</td>\n",
              "      <td>1.348907</td>\n",
              "      <td>0.013623</td>\n",
              "      <td>1.073398</td>\n",
              "    </tr>\n",
              "    <tr>\n",
              "      <th>0</th>\n",
              "      <td>(mineral water)</td>\n",
              "      <td>(eggs)</td>\n",
              "      <td>0.238267</td>\n",
              "      <td>0.179733</td>\n",
              "      <td>0.050933</td>\n",
              "      <td>0.213766</td>\n",
              "      <td>1.189351</td>\n",
              "      <td>0.008109</td>\n",
              "      <td>1.043286</td>\n",
              "    </tr>\n",
              "  </tbody>\n",
              "</table>\n",
              "</div>"
            ],
            "text/plain": [
              "       antecedents      consequents  antecedent support  consequent support  \\\n",
              "3      (spaghetti)  (mineral water)            0.174133            0.238267   \n",
              "5      (chocolate)  (mineral water)            0.163867            0.238267   \n",
              "1           (eggs)  (mineral water)            0.179733            0.238267   \n",
              "2  (mineral water)      (spaghetti)            0.238267            0.174133   \n",
              "4  (mineral water)      (chocolate)            0.238267            0.163867   \n",
              "0  (mineral water)           (eggs)            0.238267            0.179733   \n",
              "\n",
              "    support  confidence      lift  leverage  conviction  \n",
              "3  0.059733    0.343032  1.439698  0.018243    1.159468  \n",
              "5  0.052667    0.321400  1.348907  0.013623    1.122506  \n",
              "1  0.050933    0.283383  1.189351  0.008109    1.062957  \n",
              "2  0.059733    0.250699  1.439698  0.018243    1.102184  \n",
              "4  0.052667    0.221041  1.348907  0.013623    1.073398  \n",
              "0  0.050933    0.213766  1.189351  0.008109    1.043286  "
            ]
          },
          "execution_count": 42,
          "metadata": {},
          "output_type": "execute_result"
        }
      ],
      "source": [
        "# implementing conviction\n",
        "\n",
        "res=fpgrowth(dataset,min_support=0.05, use_colnames=True)\n",
        "# importing required module\n",
        "from mlxtend.frequent_patterns import association_rules\n",
        "# creating asssociation rules\n",
        "res=association_rules(res, metric=\"conviction\", min_threshold=0.01)\n",
        "# printing association rules\n",
        "res.sort_values(\"confidence\",ascending=False)"
      ]
    }
  ],
  "metadata": {
    "accelerator": "GPU",
    "colab": {
      "machine_shape": "hm",
      "provenance": []
    },
    "gpuClass": "premium",
    "kernelspec": {
      "display_name": "Python 3",
      "name": "python3"
    },
    "language_info": {
      "codemirror_mode": {
        "name": "ipython",
        "version": 3
      },
      "file_extension": ".py",
      "mimetype": "text/x-python",
      "name": "python",
      "nbconvert_exporter": "python",
      "pygments_lexer": "ipython3",
      "version": "3.10.8"
    }
  },
  "nbformat": 4,
  "nbformat_minor": 0
}
